{
 "nbformat": 4,
 "nbformat_minor": 2,
 "metadata": {
  "language_info": {
   "name": "python",
   "codemirror_mode": {
    "name": "ipython",
    "version": 3
   },
   "version": "3.7.6-final"
  },
  "orig_nbformat": 2,
  "file_extension": ".py",
  "mimetype": "text/x-python",
  "name": "python",
  "npconvert_exporter": "python",
  "pygments_lexer": "ipython3",
  "version": 3,
  "kernelspec": {
   "name": "python37664bitbaseconda6c222bf472ac4bd5bcb4f73402c25df7",
   "display_name": "Python 3.7.6 64-bit ('base': conda)"
  }
 },
 "cells": [
  {
   "cell_type": "markdown",
   "execution_count": null,
   "metadata": {},
   "outputs": [],
   "source": [
    "# Dictionaries"
   ]
  },
  {
   "cell_type": "markdown",
   "execution_count": null,
   "metadata": {},
   "outputs": [],
   "source": [
    "This chapter discusses dictionaries, Python’s name for **associative arrays or maps**, which it implements by using **hash tables**. Dictionaries are amazingly useful, even in simple programs. \n",
    "\n",
    "If you’ve never used associative arrays or hash tables in other languages, a good way to start understanding the use of dictionaries is to compare them with lists:\n",
    "\n",
    "- Values in lists are accessed by means of integers called **indices**, which indicate where in the list a given value is found.\n",
    "- Dictionaries access values by means of integers, strings, or other Python objects called **keys**, which indicate where in the dictionary a given value is found. In other words, both lists and dictionaries provide indexed access to arbitrary values, but the set of items that can be used as dictionary indices is much larger than, and contains, the set of items that can be used as list indices. Also, the mechanism that dictionaries use to provide indexed access is quite different from that used by lists.\n",
    "- Both lists and dictionaries can **store objects of any type**.\n",
    "- Values stored in a list are implicitly ordered by their positions in the list, because the indices that access these values are consecutive integers. You may or may not care about this ordering, but you can use it if desired. Values stored in a dictionary are not implicitly ordered relative to one another because dictionary keys aren’t just numbers. Note that if you’re using a dictionary but also care about the order of the items (the order in which they were added, that is), you can use an `ordered dictionary`, which is a dictionary subclass that can be **imported from the collections module**. You can also define an order on the items in a dictionary by using another data structure (often a list) to store such an ordering explicitly; this won’t change the fact that basic dictionaries have no implicit (built-in) ordering.\n"
   ]
  },
  {
   "cell_type": "markdown",
   "execution_count": null,
   "metadata": {},
   "outputs": [],
   "source": [
    "In spite of the differences between them, the use of dictionaries and lists often appears to be the same. As a start, an empty dictionary is created much like an empty list, but with curly braces instead of square brackets: "
   ]
  },
  {
   "cell_type": "code",
   "execution_count": 2,
   "metadata": {},
   "outputs": [
    {
     "name": "stdout",
     "output_type": "stream",
     "text": "<class 'list'>\n<class 'dict'>\n"
    }
   ],
   "source": [
    "x = []\n",
    "print(type(x))  # list\n",
    "\n",
    "y = {}\n",
    "print(type(y))  # dict"
   ]
  },
  {
   "cell_type": "markdown",
   "execution_count": null,
   "metadata": {},
   "outputs": [],
   "source": [
    "After you create a `dictionary`, you may store values in it as though it were a `list`:"
   ]
  },
  {
   "cell_type": "code",
   "execution_count": 3,
   "metadata": {},
   "outputs": [
    {
     "name": "stdout",
     "output_type": "stream",
     "text": "{0: 'Hello', 1: 'Goodbye'}\n"
    }
   ],
   "source": [
    "y[0] = 'Hello'\n",
    "y[1] = 'Goodbye'\n",
    "\n",
    "print(y)  # {0: 'Hello', 1: 'Goodbye'}"
   ]
  },
  {
   "cell_type": "code",
   "execution_count": 5,
   "metadata": {},
   "outputs": [
    {
     "ename": "IndexError",
     "evalue": "list assignment index out of range",
     "output_type": "error",
     "traceback": [
      "\u001b[1;31m---------------------------------------------------------------------------\u001b[0m",
      "\u001b[1;31mIndexError\u001b[0m                                Traceback (most recent call last)",
      "\u001b[1;32m<ipython-input-5-dd1669f421a3>\u001b[0m in \u001b[0;36m<module>\u001b[1;34m\u001b[0m\n\u001b[1;32m----> 1\u001b[1;33m \u001b[0mx\u001b[0m\u001b[1;33m[\u001b[0m\u001b[1;36m0\u001b[0m\u001b[1;33m]\u001b[0m \u001b[1;33m=\u001b[0m \u001b[1;34m'Hello'\u001b[0m  \u001b[1;31m# IndexError\u001b[0m\u001b[1;33m\u001b[0m\u001b[1;33m\u001b[0m\u001b[0m\n\u001b[0m",
      "\u001b[1;31mIndexError\u001b[0m: list assignment index out of range"
     ]
    }
   ],
   "source": [
    "x[0] = 'Hello'  # IndexError"
   ]
  },
  {
   "cell_type": "code",
   "execution_count": 6,
   "metadata": {},
   "outputs": [
    {
     "name": "stdout",
     "output_type": "stream",
     "text": "Hello\nGoodbye, Friend.\n"
    }
   ],
   "source": [
    "print(y[0])  # Hello\n",
    "\n",
    "y[1] = y[1] + \", Friend.\"\n",
    "print(y[1])  # 'Goodbye, Friend.'"
   ]
  },
  {
   "cell_type": "markdown",
   "execution_count": null,
   "metadata": {},
   "outputs": [],
   "source": [
    "All in all, this makes a `dictionary` look pretty much like a `list`. Now for the big difference. Store (and use) some values under keys that aren’t integers: "
   ]
  },
  {
   "cell_type": "code",
   "execution_count": 7,
   "metadata": {},
   "outputs": [
    {
     "name": "stdout",
     "output_type": "stream",
     "text": "6.28\n"
    }
   ],
   "source": [
    "y[\"two\"] = 2\n",
    "y[\"pi\"] = 3.14\n",
    "\n",
    "print(y[\"two\"] * y[\"pi\"])  # 6.28"
   ]
  },
  {
   "cell_type": "markdown",
   "execution_count": null,
   "metadata": {},
   "outputs": [],
   "source": [
    "This is definitely something that can’t be done with lists! Whereas `list` indices must be **integers**, `dictionary` keys are much less restricted; they may be **numbers, strings, or one of a wide range of other Python objects**. This makes dictionaries a natural for jobs that lists can’t do. For example, it makes more sense to implement a telephone-directory application with dictionaries than with lists because the phone number for a person can be stored indexed by that person’s last name. "
   ]
  },
  {
   "cell_type": "markdown",
   "execution_count": null,
   "metadata": {},
   "outputs": [],
   "source": [
    "## Other dictionary operations"
   ]
  },
  {
   "cell_type": "code",
   "execution_count": 16,
   "metadata": {},
   "outputs": [
    {
     "name": "stdout",
     "output_type": "stream",
     "text": "3\n"
    }
   ],
   "source": [
    "english_to_french = {'red': 'rouge', 'blue': 'bleu', 'green': 'vert'}\n",
    "\n",
    "print(len(english_to_french)) # 3 --> return number of entries in a dictionary aka keys"
   ]
  },
  {
   "cell_type": "code",
   "execution_count": 15,
   "metadata": {},
   "outputs": [
    {
     "name": "stdout",
     "output_type": "stream",
     "text": "['red', 'blue']\n"
    }
   ],
   "source": [
    "print(list(english_to_french.keys()))  # ['red', 'blue', 'green']"
   ]
  },
  {
   "cell_type": "markdown",
   "execution_count": null,
   "metadata": {},
   "outputs": [],
   "source": [
    "In Python 3.5 and earlier, the order of the keys in a list returned by keys has no meaning; the keys aren’t necessarily sorted, and they don’t necessarily occur in the order in which they were created. Your Python code may print out the keys in a different order than my Python code did. If you need keys sorted, you can store them in a list variable and then sort that list. **However, starting with Python 3.6, dictionaries preserve the order that the keys were created and return them in that order**. "
   ]
  },
  {
   "cell_type": "code",
   "execution_count": 14,
   "metadata": {},
   "outputs": [
    {
     "name": "stdout",
     "output_type": "stream",
     "text": "['rouge', 'bleu']\n"
    }
   ],
   "source": [
    "print(list(english_to_french.values()))  # ['rouge', 'bleu', 'vert']"
   ]
  },
  {
   "cell_type": "code",
   "execution_count": 13,
   "metadata": {},
   "outputs": [
    {
     "name": "stdout",
     "output_type": "stream",
     "text": "[('red', 'rouge'), ('blue', 'bleu')]\n"
    }
   ],
   "source": [
    "print(list(english_to_french.items()))  # [('red', 'rouge'), ('blue', 'bleu'), ('green', 'vert')]"
   ]
  },
  {
   "cell_type": "markdown",
   "execution_count": null,
   "metadata": {},
   "outputs": [],
   "source": [
    "`keys`, `values` and `items` are the most common methods for iterating dictionaries in combination with the for loop."
   ]
  },
  {
   "cell_type": "markdown",
   "execution_count": null,
   "metadata": {},
   "outputs": [],
   "source": [
    "The `del` statement can be used to remove an entry (key-value pair) from a dictionary: "
   ]
  },
  {
   "cell_type": "code",
   "execution_count": 17,
   "metadata": {},
   "outputs": [
    {
     "name": "stdout",
     "output_type": "stream",
     "text": "[('red', 'rouge'), ('blue', 'bleu'), ('green', 'vert')]\n[('red', 'rouge'), ('blue', 'bleu')]\n"
    }
   ],
   "source": [
    "print(list(english_to_french.items()))  # [('red', 'rouge'), ('blue', 'bleu'), ('green', 'vert')]\n",
    "\n",
    "del english_to_french['green']  # delete key-value pair \"green\"\n",
    "\n",
    "print(list(english_to_french.items()))  # [('red', 'rouge'), ('blue', 'bleu')]"
   ]
  },
  {
   "cell_type": "markdown",
   "execution_count": null,
   "metadata": {},
   "outputs": [],
   "source": [
    "The `keys`, `values`, and `items` methods return not lists, but __views__ that behave like sequences but are **dynamically updated** whenever the dictionary changes. That’s why you need to use the list function to make them appear as a list in these examples. Otherwise, they behave like sequences, allowing code to **iterate over** them in a `for` loop, using `in` to check membership in them, and so on.\n",
    "\n",
    "The view returned by `keys` (and in some cases the view returned by items) also **behaves like a set**, with union, difference, and intersection operations.\n"
   ]
  },
  {
   "cell_type": "code",
   "execution_count": 19,
   "metadata": {},
   "outputs": [
    {
     "name": "stdout",
     "output_type": "stream",
     "text": "dict_keys(['red', 'blue', 'green', 'black'])\n"
    }
   ],
   "source": [
    "english_to_french = {'red': 'rouge', 'blue': 'bleu', 'green': 'vert'}\n",
    "\n",
    "key_view = english_to_french.keys()\n",
    "\n",
    "english_to_french['black'] = 'noir'\n",
    "\n",
    "print(key_view)  #  dict_keys(['red', 'blue', 'green', 'black'])"
   ]
  },
  {
   "cell_type": "markdown",
   "execution_count": null,
   "metadata": {},
   "outputs": [],
   "source": [
    "Attempting to access a key that isn’t in a dictionary is an error in Python. To handle this error, you can test the dictionary for the presence of a key with the `in` keyword, which returns `True` if a dictionary has a value stored under the given key and `False` otherwise: "
   ]
  },
  {
   "cell_type": "code",
   "execution_count": 20,
   "metadata": {},
   "outputs": [
    {
     "name": "stdout",
     "output_type": "stream",
     "text": "True\nFalse\n"
    }
   ],
   "source": [
    "print('red' in english_to_french)    # True\n",
    "print('orange' in english_to_french) # False"
   ]
  },
  {
   "cell_type": "code",
   "execution_count": 21,
   "metadata": {},
   "outputs": [
    {
     "ename": "KeyError",
     "evalue": "'orange'",
     "output_type": "error",
     "traceback": [
      "\u001b[1;31m---------------------------------------------------------------------------\u001b[0m",
      "\u001b[1;31mKeyError\u001b[0m                                  Traceback (most recent call last)",
      "\u001b[1;32m<ipython-input-21-53b165c1ad92>\u001b[0m in \u001b[0;36m<module>\u001b[1;34m\u001b[0m\n\u001b[1;32m----> 1\u001b[1;33m \u001b[0menglish_to_french\u001b[0m\u001b[1;33m[\u001b[0m\u001b[1;34m'orange'\u001b[0m\u001b[1;33m]\u001b[0m\u001b[1;33m\u001b[0m\u001b[1;33m\u001b[0m\u001b[0m\n\u001b[0m",
      "\u001b[1;31mKeyError\u001b[0m: 'orange'"
     ]
    }
   ],
   "source": [
    "english_to_french['orange']  # KeyError"
   ]
  },
  {
   "cell_type": "markdown",
   "execution_count": null,
   "metadata": {},
   "outputs": [],
   "source": [
    "Alternatively, you can use the `get` function. This function returns the value associated with a key if the dictionary contains that key, but returns its **second argument** if the dictionary doesn’t contain the key: "
   ]
  },
  {
   "cell_type": "code",
   "execution_count": 22,
   "metadata": {},
   "outputs": [
    {
     "name": "stdout",
     "output_type": "stream",
     "text": "bleu\nNo translation\n"
    }
   ],
   "source": [
    "print(english_to_french.get('blue', 'No translation'))  # bleu\n",
    "\n",
    "print(english_to_french.get('chartreuse', 'No translation'))  # No translation"
   ]
  },
  {
   "cell_type": "markdown",
   "execution_count": null,
   "metadata": {},
   "outputs": [],
   "source": [
    "The second argument is optional. If that argument isn’t included, get returns `None` if the dictionary doesn’t contain the key. "
   ]
  },
  {
   "cell_type": "markdown",
   "execution_count": null,
   "metadata": {},
   "outputs": [],
   "source": [
    "Similarly, if you want to safely get a key’s value and make sure that it’s set to a default in the dictionary, you can use the `setdefault` method: "
   ]
  },
  {
   "cell_type": "code",
   "execution_count": 23,
   "metadata": {},
   "outputs": [
    {
     "name": "stdout",
     "output_type": "stream",
     "text": "No translation\n{'red': 'rouge', 'blue': 'bleu', 'green': 'vert', 'black': 'noir', 'chartreuse': 'No translation'}\n"
    }
   ],
   "source": [
    "print(english_to_french.setdefault('chartreuse', 'No translation'))  # No translation\n",
    "\n",
    "print(english_to_french)  # {'red': 'rouge', 'blue': 'bleu', 'green': 'vert', 'black': 'noir', 'chartreuse': 'No translation'}"
   ]
  },
  {
   "cell_type": "markdown",
   "execution_count": null,
   "metadata": {},
   "outputs": [],
   "source": [
    "You can obtain a copy of a dictionary by using the `copy` method:"
   ]
  },
  {
   "cell_type": "code",
   "execution_count": 25,
   "metadata": {},
   "outputs": [
    {
     "name": "stdout",
     "output_type": "stream",
     "text": "{0: 'zero', 1: 'one'}\n"
    }
   ],
   "source": [
    "x = {0: 'zero', 1: 'one'}\n",
    "y = x.copy()\n",
    "\n",
    "print(y)  # {0: 'zero', 1: 'one'}"
   ]
  },
  {
   "cell_type": "markdown",
   "execution_count": null,
   "metadata": {},
   "outputs": [],
   "source": [
    "This method makes a shallow copy of the dictionary, which is likely to be all you need in most situations. For dictionaries that contain any modifiable objects as values (for example, lists or other dictionaries), you may want to make a **deep copy** by using the `copy.deepcopy` function."
   ]
  },
  {
   "cell_type": "markdown",
   "execution_count": null,
   "metadata": {},
   "outputs": [],
   "source": [
    "The `update` method updates a first dictionary with all the key-value pairs of a second dictionary. For keys that are common to both dictionaries, the values from the second dictionary override those of the first: "
   ]
  },
  {
   "cell_type": "code",
   "execution_count": 26,
   "metadata": {},
   "outputs": [
    {
     "name": "stdout",
     "output_type": "stream",
     "text": "{0: 'zero', 1: 'One', 2: 'Two'}\n"
    }
   ],
   "source": [
    "z = {1: 'One', 2: 'Two'}\n",
    "x = {0: 'zero', 1: 'one'}\n",
    "x.update(z)\n",
    "\n",
    "print(x)  # {0: 'zero', 1: 'One', 2: 'Two'}"
   ]
  },
  {
   "cell_type": "markdown",
   "execution_count": null,
   "metadata": {},
   "outputs": [],
   "source": [
    "The same can be achieved with a special Python idiom using the splat operator:"
   ]
  },
  {
   "cell_type": "code",
   "execution_count": 28,
   "metadata": {},
   "outputs": [
    {
     "name": "stdout",
     "output_type": "stream",
     "text": "{0: 'zero', 1: 'One', 2: 'Two'}\n"
    }
   ],
   "source": [
    "print({**x, **z})  # {0: 'zero', 1: 'One', 2: 'Two'}"
   ]
  },
  {
   "cell_type": "markdown",
   "execution_count": null,
   "metadata": {},
   "outputs": [],
   "source": [
    "However, in this case a new dictionary was created by unpacking first all key-value pairs of `x` and then of `z`."
   ]
  },
  {
   "cell_type": "markdown",
   "execution_count": null,
   "metadata": {},
   "outputs": [],
   "source": [
    "Dictionary methods give you a full set of tools to manipulate and use dictionaries. For quick reference, table 7.1 lists some of the main dictionary functions. \n",
    "\n",
    "Table 7.1. Dictionary operations\n",
    "\n",
    "| Dictionary operation | Explanation | Example |\n",
    "|----------------------|-------------|---------|\n",
    "|`{}` | Creates an empty dictionary | `x = {}` |\n",
    "| `len` | Returns the number of entries in a dictionary | `len(x)` |\n",
    "| `keys` | Returns a view of all keys in a dictionary | `x.keys()` |\n",
    "| `values` | Returns a view of all values in a dictionary |\t`x.values()` |\n",
    "| `items` | Returns a view of all items in a dictionary | `x.items()`\n",
    "| `del` | Removes an entry from a dictionary | `del(x[key])` |\n",
    "| `in` | Tests whether a key exists in a dictionary | `'y' in x` |\n",
    "| `get` | Returns the value of a key or a configurable default | `x.get('y', None)` |\n",
    "| `setdefault` | Returns the value if the key is in the dictionary; otherwise, sets the value for the key to the default and returns the value | `x.setdefault('y', None)` |\n",
    "| `copy` | Makes a shallow copy of a dictionary | `y = x.copy()` |\n",
    "| `update` | Combines the entries of two dictionaries | `x.update(z)` |\n"
   ]
  },
  {
   "cell_type": "markdown",
   "execution_count": null,
   "metadata": {},
   "outputs": [],
   "source": [
    "> Quick Check\n",
    "\n",
    "Assume that you have a dictionary `x = {'a':1, 'b':2, 'c':3, 'd':4}` and a dictionary `y = {'a':6, 'e':5, 'f':6}`. What would be the contents of `x` after the following snippets of code have executed?: \n",
    "\n",
    "```python\n",
    "del x['d']\n",
    "z = x.setdefault('g', 7)\n",
    "x.update(y)\n",
    "```\n"
   ]
  },
  {
   "cell_type": "markdown",
   "execution_count": null,
   "metadata": {},
   "outputs": [],
   "source": [
    "## Word counting "
   ]
  },
  {
   "cell_type": "markdown",
   "execution_count": null,
   "metadata": {},
   "outputs": [],
   "source": [
    "Assume that you have a file that contains a list of words, one word per line. You want to know how many times each word occurs in the file. You can use dictionaries to perform this task easily: "
   ]
  },
  {
   "cell_type": "code",
   "execution_count": 30,
   "metadata": {},
   "outputs": [
    {
     "name": "stdout",
     "output_type": "stream",
     "text": "The word To occurs 1 times in the string\nThe word be occurs 2 times in the string\nThe word or occurs 1 times in the string\nThe word not occurs 1 times in the string\nThe word to occurs 1 times in the string\n"
    }
   ],
   "source": [
    "sample_string = \"To be or not to be\"\n",
    "occurrences = {}\n",
    "for word in sample_string.split():\n",
    "     occurrences[word] = occurrences.get(word, 0) + 1\n",
    "\n",
    "for word in occurrences:\n",
    "     print(\"The word\", word, \"occurs\", occurrences[word], \\\n",
    "            \"times in the string\")\n",
    "\n",
    "# The word To occurs 1 times in the string#\n",
    "# The word be occurs 2 times in the string\n",
    "# The word or occurs 1 times in the string\n",
    "# The word not occurs 1 times in the string\n",
    "# The word to occurs 1 times in the string"
   ]
  },
  {
   "cell_type": "markdown",
   "execution_count": null,
   "metadata": {},
   "outputs": [],
   "source": [
    "This is a good example of the power of dictionaries. The code is simple, but because dictionary operations are highly optimized in Python, it’s also quite fast. This pattern is so handy, in fact, that it’s been standardized as the `Counter` class in the collections module of the standard library. "
   ]
  },
  {
   "cell_type": "code",
   "execution_count": 38,
   "metadata": {},
   "outputs": [
    {
     "name": "stdout",
     "output_type": "stream",
     "text": "Counter({'be': 2, 'To': 1, 'or': 1, 'not': 1, 'to': 1})\n[('be', 2)]\n"
    }
   ],
   "source": [
    "from collections import Counter\n",
    "\n",
    "c = Counter(sample_string.split())\n",
    "print(c)  # Counter({'be': 2, 'To': 1, 'or': 1, 'not': 1, 'to': 1})\n",
    "\n",
    "print(c.most_common(1))  # [('be', 2)]"
   ]
  },
  {
   "cell_type": "markdown",
   "execution_count": null,
   "metadata": {},
   "outputs": [],
   "source": [
    "## Dictionaries as caches"
   ]
  },
  {
   "cell_type": "markdown",
   "execution_count": null,
   "metadata": {},
   "outputs": [],
   "source": [
    "This section shows how dictionaries can be used as **caches**, data structures that store results to avoid recalculating those results over and over. Suppose that you need a function called `sole`, which takes three integers as arguments and returns a result. The function might look something like this: "
   ]
  },
  {
   "cell_type": "code",
   "execution_count": 41,
   "metadata": {},
   "outputs": [],
   "source": [
    "def sole(m, n, t):\n",
    "    # . . . do some time-consuming calculations . . .\n",
    "    return(result)"
   ]
  },
  {
   "cell_type": "markdown",
   "execution_count": null,
   "metadata": {},
   "outputs": [],
   "source": [
    "But if this function is very time-consuming, and if it’s called tens of thousands of times, the program might run too slowly.\n",
    "\n",
    "Now suppose that `sole` is called with about 200 different combinations of arguments during any program run. That is, you might call `sole(12, 20, 6)` 50 or more times during the execution of your program and similarly for many other combinations of arguments. By eliminating the recalculation of `sole` on identical arguments, you’d save a huge amount of time. You could use a dictionary with tuples as keys, like so: "
   ]
  },
  {
   "cell_type": "code",
   "execution_count": 59,
   "metadata": {},
   "outputs": [],
   "source": [
    "sole_cache = {}\n",
    "def sole(m, n, t):\n",
    "    if (m, n, t) in sole_cache:\n",
    "        return sole_cache[(m, n, t)]\n",
    "    else:\n",
    "        # . . . do some time-consuming calculations . . .\n",
    "        sole_cache[(m, n, t)] = result\n",
    "        return result"
   ]
  }
 ]
}