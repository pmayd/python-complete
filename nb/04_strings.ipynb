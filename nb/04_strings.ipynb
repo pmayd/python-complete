{
 "cells": [
  {
   "cell_type": "markdown",
   "metadata": {},
   "source": [
    "# Strings"
   ]
  },
  {
   "cell_type": "markdown",
   "metadata": {},
   "source": [
    "## Strings as sequences of characters\n",
    "\n",
    "For the purposes of extracting characters and substrings, strings can be considered to be sequences of characters, which means that you can use index or slice notation: "
   ]
  },
  {
   "cell_type": "code",
   "execution_count": 3,
   "metadata": {},
   "outputs": [
    {
     "name": "stdout",
     "output_type": "stream",
     "text": [
      "H\n",
      "o\n",
      "ello\n"
     ]
    }
   ],
   "source": [
    "x = \"Hello\"\n",
    "\n",
    "print(x[0])   # 'H'\n",
    "print(x[-1])  # 'o'\n",
    "print(x[1:])  # 'ello'"
   ]
  },
  {
   "cell_type": "markdown",
   "metadata": {},
   "source": [
    "One use for slice notation with strings is to chop the newline off the end of a string (usually, a line that’s just been read from a file): "
   ]
  },
  {
   "cell_type": "code",
   "execution_count": 1,
   "metadata": {},
   "outputs": [
    {
     "name": "stdout",
     "output_type": "stream",
     "text": "Goodbye\n\nGoodbye\nGoodbye\n"
    }
   ],
   "source": [
    "x = \"Goodbye\\n\"\n",
    "print(x) # \"Goodbye\\n\"\n",
    "\n",
    "x = x[:-1]\n",
    "print(x) # 'Goodbye'\n",
    "\n",
    "# This code is just an example. You should know that Python strings have other, better\n",
    "# methods to strip unwanted characters, but this example illustrates the usefulness of \n",
    "# slicing. \n",
    "x = \"Goodbye\\n\"\n",
    "x = x.strip()\n",
    "print(x)"
   ]
  },
  {
   "cell_type": "markdown",
   "execution_count": null,
   "metadata": {},
   "outputs": [],
   "source": [
    "You can also determine how many characters are in the string by using the `len` function, just like finding out the number of elements in a list"
   ]
  },
  {
   "cell_type": "code",
   "execution_count": 2,
   "metadata": {},
   "outputs": [
    {
     "name": "stdout",
     "output_type": "stream",
     "text": "7\n"
    }
   ],
   "source": [
    "print(len(\"Goodbye\"))  # 7"
   ]
  },
  {
   "cell_type": "markdown",
   "execution_count": null,
   "metadata": {},
   "outputs": [],
   "source": [
    "But strings aren’t lists of characters. The most noticeable difference between strings and lists is that unlike lists, strings can’t be modified. Attempting to say something like `string.append('c')` or `string[0] = 'H'` results in an error. You’ll notice in the previous example that I stripped off the newline from the string by creating a string that was a slice of the previous one, not by modifying the previous string directly. This is a basic Python restriction, imposed for efficiency reasons. "
   ]
  },
  {
   "cell_type": "markdown",
   "execution_count": null,
   "metadata": {},
   "outputs": [],
   "source": [
    "## Basic String Operations"
   ]
  },
  {
   "cell_type": "code",
   "execution_count": 3,
   "metadata": {},
   "outputs": [
    {
     "name": "stdout",
     "output_type": "stream",
     "text": "Hello World\n"
    }
   ],
   "source": [
    "x = \"Hello \" + \"World\"\n",
    "print(x)  # 'Hello World'"
   ]
  },
  {
   "cell_type": "code",
   "execution_count": 4,
   "metadata": {},
   "outputs": [
    {
     "name": "stdout",
     "output_type": "stream",
     "text": "xxxxxxxx\n"
    }
   ],
   "source": [
    "print(8 * \"x\")  # 'xxxxxxxx'"
   ]
  },
  {
   "cell_type": "markdown",
   "execution_count": null,
   "metadata": {},
   "outputs": [],
   "source": [
    "You’ve already seen a few of the character sequences that Python regards as special when used within strings: `\\n` represents the newline character, and `\\t` represents the tab character. Sequences of characters that start with a backslash and that are used to represent other characters are called escape sequences. Escape sequences are generally used to represent special characters—that is, characters (such as tab and newline) that don’t have a standard one-character printable representation."
   ]
  },
  {
   "cell_type": "markdown",
   "execution_count": null,
   "metadata": {},
   "outputs": [],
   "source": [
    "Table 6.1. Escape sequences for string and bytes literals\n",
    "\n",
    "| Escape sequence | Character represented |\n",
    "|-----------------|-----------------------|\n",
    "| \\' \t| Single-quote character |\n",
    "| \\\" \t| Double-quote character |\n",
    "| \\\\ \t| Backslash character |\n",
    "| \\a \t| Bell character |\n",
    "| \\b \t| Backspace character |\n",
    "| \\f \t| Formfeed character |\n",
    "| \\n \t| Newline character |\n",
    "| \\r \t| Carriage-return character (not the same as \\n) |\n",
    "| \\t \t| Tab character |\n",
    "| \\v \t| Vertical tab character |"
   ]
  },
  {
   "cell_type": "markdown",
   "execution_count": null,
   "metadata": {},
   "outputs": [],
   "source": [
    "Because all strings in Python 3 are Unicode strings, they can also contain almost every character from every language available. Although a discussion of the Unicode system is far beyond the scope of this book, the following examples illustrate that you can also escape any Unicode character, either by number (as shown earlier) or by Unicode name: "
   ]
  },
  {
   "cell_type": "code",
   "execution_count": 5,
   "metadata": {},
   "outputs": [
    {
     "name": "stdout",
     "output_type": "stream",
     "text": "a\ná\ná\n"
    }
   ],
   "source": [
    "unicode_a ='\\N{LATIN SMALL LETTER A}'\n",
    "print(unicode_a)  # 'a'\n",
    "\n",
    "unicode_a_with_acute = '\\N{LATIN SMALL LETTER A WITH ACUTE}'\n",
    "print(unicode_a_with_acute)  # 'á'\n",
    "\n",
    "print(\"\\u00E1\")  # 'á'"
   ]
  },
  {
   "cell_type": "markdown",
   "execution_count": null,
   "metadata": {},
   "outputs": [],
   "source": [
    "## String methods\n",
    "\n",
    "For the purposes of this section, you need only remember that most string methods are attached to the string object they operate on by a dot (`.`), as in `x.upper()`. That is, they’re prepended with the string object followed by a dot. Because strings are immutable, the string methods are used only to obtain their return value and don’t modify the string object they’re attached to in any way. "
   ]
  },
  {
   "cell_type": "markdown",
   "execution_count": null,
   "metadata": {},
   "outputs": [],
   "source": [
    "Anyone who works with strings is almost certain to find the `split` and `join` methods invaluable. They’re the inverse of one another: `split` returns a list of substrings in the string, and `join` takes a list of strings and puts them together to form a single string with the original string between each element. Typically, `split` uses whitespace as the delimiter to the strings it’s splitting, but you can change that behavior via an optional argument.\n",
    "\n",
    "String concatenation using `+` is useful but **not efficient** for joining large numbers of strings into a single string, because each time `+` is applied, a **new string object** is created. The previous “Hello World” example produces two string objects, one of which is immediately discarded. A better option is to use the `join` function:\n"
   ]
  },
  {
   "cell_type": "code",
   "execution_count": 6,
   "metadata": {},
   "outputs": [
    {
     "name": "stdout",
     "output_type": "stream",
     "text": "join puts spaces between elements\n"
    }
   ],
   "source": [
    "print(\" \".join([\"join\", \"puts\", \"spaces\", \"between\", \"elements\"])) # 'join puts spaces between elements'"
   ]
  },
  {
   "cell_type": "code",
   "execution_count": 7,
   "metadata": {},
   "outputs": [
    {
     "name": "stdout",
     "output_type": "stream",
     "text": "Separated::with::colons\n"
    }
   ],
   "source": [
    "print(\"::\".join([\"Separated\", \"with\", \"colons\"])) # 'Separated::with::colons'"
   ]
  },
  {
   "cell_type": "code",
   "execution_count": 10,
   "metadata": {},
   "outputs": [
    {
     "name": "stdout",
     "output_type": "stream",
     "text": "Separatedbynothing\n"
    }
   ],
   "source": [
    "print(\"\".join([\"Separated\", \"by\", \"nothing\"]))  # 'Separatedbynothing'"
   ]
  },
  {
   "cell_type": "code",
   "execution_count": 23,
   "metadata": {},
   "outputs": [
    {
     "name": "stdout",
     "output_type": "stream",
     "text": "3.28 ms ± 128 µs per loop (mean ± std. dev. of 7 runs, 100 loops each)\n"
    }
   ],
   "source": [
    "%%timeit\n",
    "# try different n!\n",
    "s=\"\"\n",
    "for i in range(10000): \n",
    "    s += str(i)"
   ]
  },
  {
   "cell_type": "code",
   "execution_count": 24,
   "metadata": {},
   "outputs": [
    {
     "name": "stdout",
     "output_type": "stream",
     "text": "2.28 ms ± 79.1 µs per loop (mean ± std. dev. of 7 runs, 100 loops each)\n"
    }
   ],
   "source": [
    "%timeit \"\".join((str(i) for i in range(10000)))"
   ]
  },
  {
   "cell_type": "markdown",
   "execution_count": 18,
   "metadata": {},
   "outputs": [
    {
     "data": {
      "text/plain": "'0123456789101112131415161718192021222324252627282930313233343536373839404142434445464748495051525354555657585960616263646566676869707172737475767778798081828384858687888990919293949596979899'"
     },
     "execution_count": 18,
     "metadata": {},
     "output_type": "execute_result"
    }
   ],
   "source": [
    "The most common use of `split` is probably as a **simple parsing** mechanism for string-delimited records stored in text files. By default, `split` splits on any whitespace, not just a single space character, but you can also tell it to split on a particular sequence by passing it an optional argument:"
   ]
  },
  {
   "cell_type": "code",
   "execution_count": 25,
   "metadata": {},
   "outputs": [
    {
     "name": "stdout",
     "output_type": "stream",
     "text": "['You', 'can', 'have', 'tabs', 'and', 'newlines', 'mixed', 'in']\n['Mi', 'i', 'ippi']\n"
    }
   ],
   "source": [
    "x = \"You\\t\\t can have tabs\\t\\n \\t and newlines \\n\\n \" \\\n",
    "               \"mixed in\"\n",
    "print(x.split())  # ['You', 'can', 'have', 'tabs', 'and', 'newlines', 'mixed', 'in']\n",
    "\n",
    "x = \"Mississippi\"\n",
    "print(x.split(\"ss\"))  # ['Mi', 'i', 'ippi']"
   ]
  },
  {
   "cell_type": "markdown",
   "execution_count": null,
   "metadata": {},
   "outputs": [],
   "source": [
    "If you need more complex rules for how to split, consider the `re` module:"
   ]
  },
  {
   "cell_type": "code",
   "execution_count": 28,
   "metadata": {},
   "outputs": [
    {
     "name": "stdout",
     "output_type": "stream",
     "text": "['M', '', '', '', '', '', '', 'pp', '']\n"
    }
   ],
   "source": [
    "import re\n",
    "\n",
    "x = \"Mississippi\"\n",
    "pattern = re.compile(r'[is]', flags=re.IGNORECASE)\n",
    "print(pattern.split(x)) # ['M', '', '', '', '', '', '', 'pp', '']"
   ]
  },
  {
   "cell_type": "markdown",
   "execution_count": null,
   "metadata": {},
   "outputs": [],
   "source": [
    "Sometimes, it’s useful to permit the last field in a joined string to contain arbitrary text, perhaps including substrings that may match what `split` splits on when reading in that data. You can do this by specifying how many splits `split` should perform when it’s generating its result, via an optional second argument. If you specify `n` splits, `split` goes along the input string until it has performed `n` splits (generating a list with `n+1` substrings as elements) or until it runs out of string. Here are some examples: "
   ]
  },
  {
   "cell_type": "code",
   "execution_count": 1,
   "metadata": {},
   "outputs": [
    {
     "name": "stdout",
     "output_type": "stream",
     "text": "['a', 'b c d']\n['a', 'b', 'c d']\n['a', 'b', 'c', 'd']\n"
    }
   ],
   "source": [
    "x = 'a b c d'\n",
    "print(x.split(' ', 1))  # ['a', 'b c d']\n",
    "\n",
    "print(x.split(' ', 2))  # ['a', 'b', 'c d']\n",
    "\n",
    "print(x.split(' ', 9))  # ['a', 'b', 'c', 'd']"
   ]
  },
  {
   "cell_type": "markdown",
   "execution_count": null,
   "metadata": {},
   "outputs": [],
   "source": [
    "You can use the functions `int` and `float` to convert strings to integer or floating-point numbers, respectively. If they’re passed a string that can’t be interpreted as a number of the given type, these functions raise a ValueError exception."
   ]
  },
  {
   "cell_type": "code",
   "execution_count": 6,
   "metadata": {},
   "outputs": [
    {
     "name": "stdout",
     "output_type": "stream",
     "text": "123.456\n3333\n4096\n5\n255\n"
    }
   ],
   "source": [
    "print(float('123.456'))  # 123.456\n",
    "\n",
    "#print(float('xxyy'))  #  ValueError\n",
    "\n",
    "print(int('3333'))  # 3333\n",
    "\n",
    "#print(int('123.456'))  # ValueError\n",
    "\n",
    "print(int('10000', 8))  # 4096\n",
    "\n",
    "print(int('101', 2))  # 5\n",
    "\n",
    "print(int('ff', 16))  # 255\n",
    "\n",
    "#print(int('123456', 6))  # ValueError\n"
   ]
  },
  {
   "cell_type": "markdown",
   "execution_count": null,
   "metadata": {},
   "outputs": [],
   "source": [
    "A trio of surprisingly useful simple methods are the `strip`, `lstrip`, and `rstrip` functions. `strip` returns a new string that’s the same as the original string, except that any whitespace at the beginning or end of the string has been removed. `lstrip` and `rstrip` work similarly, except that they remove whitespace only at the left or right end of the original string, respectively: "
   ]
  },
  {
   "cell_type": "code",
   "execution_count": 8,
   "metadata": {},
   "outputs": [
    {
     "name": "stdout",
     "output_type": "stream",
     "text": "Hello,    World\nHello,    World\t\t \n  Hello,    World\n"
    }
   ],
   "source": [
    "x = \"  Hello,    World\\t\\t \"\n",
    "\n",
    "print(x.strip())  # 'Hello,    World'\n",
    "\n",
    "print(x.lstrip())  # 'Hello,    World\\t\\t '\n",
    "\n",
    "print(x.rstrip())  # '  Hello,    World'"
   ]
  },
  {
   "cell_type": "markdown",
   "execution_count": null,
   "metadata": {},
   "outputs": [],
   "source": [
    "In this example, tab characters are considered to be whitespace. The exact meaning may differ across operating systems, but you can always find out what Python considers to be whitespace by accessing the `string.whitespace` constant. On my Windows system, Python returns the following: "
   ]
  },
  {
   "cell_type": "code",
   "execution_count": 11,
   "metadata": {},
   "outputs": [
    {
     "name": "stdout",
     "output_type": "stream",
     "text": "' \\t\\n\\r\\x0b\\x0c'\n"
    }
   ],
   "source": [
    "import string\n",
    "print(repr(string.whitespace))  # ' \\t\\n\\r\\x0b\\x0c'"
   ]
  },
  {
   "cell_type": "markdown",
   "execution_count": 14,
   "metadata": {},
   "outputs": [
    {
     "ename": "SyntaxError",
     "evalue": "invalid syntax (<ipython-input-14-ac2ce6652546>, line 1)",
     "output_type": "error",
     "traceback": [
      "\u001b[1;36m  File \u001b[1;32m\"<ipython-input-14-ac2ce6652546>\"\u001b[1;36m, line \u001b[1;32m1\u001b[0m\n\u001b[1;33m    You can change which characters `strip`, `rstrip`, and `lstrip` remove by passing a string containing the characters to be removed as an extra parameter:\u001b[0m\n\u001b[1;37m          ^\u001b[0m\n\u001b[1;31mSyntaxError\u001b[0m\u001b[1;31m:\u001b[0m invalid syntax\n"
     ]
    }
   ],
   "source": [
    "You can change which characters `strip`, `rstrip`, and `lstrip` remove by passing a string containing the characters to be removed as an extra parameter: "
   ]
  },
  {
   "cell_type": "code",
   "execution_count": 15,
   "metadata": {},
   "outputs": [
    {
     "name": "stdout",
     "output_type": "stream",
     "text": ".python.org\nwww.python.\npython\n"
    }
   ],
   "source": [
    "x = \"www.python.org\"\n",
    "\n",
    "print(x.strip(\"w\"))  # '.python.org'\n",
    "\n",
    "print(x.strip(\"gor\"))  # 'www.python.'\n",
    "\n",
    "print(x.strip(\".gorw\"))  # 'python'"
   ]
  },
  {
   "cell_type": "markdown",
   "execution_count": null,
   "metadata": {},
   "outputs": [],
   "source": [
    "Note that `strip` removes any and all of the characters in the extra parameter string, no matter in which order they occur 2. "
   ]
  },
  {
   "cell_type": "markdown",
   "execution_count": null,
   "metadata": {},
   "outputs": [],
   "source": [
    "<h3> Quick Check </h3>\n",
    "\n",
    "If the string `x` equals `\"(name, date),\\n\"`, which of the following would return a string containing `\"name, date\"`? \n",
    "\n",
    "1. `x.rstrip(\"),\")`\n",
    "2. `x.strip(\"),\\n\")`\n",
    "3. `x.strip(\"\\n)(,\")`"
   ]
  },
  {
   "cell_type": "markdown",
   "execution_count": null,
   "metadata": {},
   "outputs": [],
   "source": [
    "The four basic string-searching methods are similar: `find`, `rfind`, `index`, and `rindex`. A related method, `count`, counts how many times a substring can be found in another string. I describe find in detail and then examine how the other methods differ from it. "
   ]
  },
  {
   "cell_type": "markdown",
   "execution_count": null,
   "metadata": {},
   "outputs": [],
   "source": [
    "`find` takes one required argument: the substring being searched for. `find` returns the position of the first character of the first instance of substring in the string object, or –1 if substring doesn’t occur in the string: "
   ]
  },
  {
   "cell_type": "code",
   "execution_count": 17,
   "metadata": {},
   "outputs": [
    {
     "name": "stdout",
     "output_type": "stream",
     "text": "2\n-1\n"
    }
   ],
   "source": [
    "x = \"Mississippi\"\n",
    "\n",
    "print(x.find(\"ss\"))  # 2\n",
    "\n",
    "print(x.find(\"zz\"))  # -1"
   ]
  },
  {
   "cell_type": "markdown",
   "execution_count": null,
   "metadata": {},
   "outputs": [],
   "source": [
    "`find` can also take one or two additional, optional arguments. The first of these arguments, if present, is an integer `start`; it causes find to ignore all characters before position start in string when searching for substring. The second optional argument, if present, is an integer `end`; it causes find to ignore characters at or after position end in string: "
   ]
  },
  {
   "cell_type": "code",
   "execution_count": 18,
   "metadata": {},
   "outputs": [
    {
     "name": "stdout",
     "output_type": "stream",
     "text": "5\n-1\n"
    }
   ],
   "source": [
    "x = \"Mississippi\"\n",
    "\n",
    "print(x.find(\"ss\", 3))  # 5\n",
    "\n",
    "print(x.find(\"ss\", 0, 3))  # -1"
   ]
  },
  {
   "cell_type": "markdown",
   "execution_count": null,
   "metadata": {},
   "outputs": [],
   "source": [
    "`rfind` is almost the same as `find`, except that it starts its search at the **end of string** and so returns the position of the first character of the last occurrence of substring in string:\n"
   ]
  },
  {
   "cell_type": "code",
   "execution_count": 20,
   "metadata": {},
   "outputs": [
    {
     "name": "stdout",
     "output_type": "stream",
     "text": "5\n"
    }
   ],
   "source": [
    "x = \"Mississippi\"\n",
    "print(x.rfind(\"ss\"))  # 5"
   ]
  },
  {
   "cell_type": "markdown",
   "execution_count": null,
   "metadata": {},
   "outputs": [],
   "source": [
    "`index` and `rindex` are identical to `find` and `rfind`, respectively, except for one difference: If `index` or `rindex` fails to find an occurrence of substring in string, it doesn’t return –1 but raises a `ValueError` **exception**."
   ]
  },
  {
   "cell_type": "markdown",
   "execution_count": null,
   "metadata": {},
   "outputs": [],
   "source": [
    "`count` is used identically to any of the previous four functions, but returns the number of **non-overlapping** times the given substring occurs in the given string: "
   ]
  },
  {
   "cell_type": "code",
   "execution_count": 21,
   "metadata": {},
   "outputs": [
    {
     "name": "stdout",
     "output_type": "stream",
     "text": "2\n"
    }
   ],
   "source": [
    "x = \"Mississippi\"\n",
    "\n",
    "print(x.count(\"ss\"))  # 2"
   ]
  },
  {
   "cell_type": "markdown",
   "execution_count": 22,
   "metadata": {},
   "outputs": [
    {
     "ename": "SyntaxError",
     "evalue": "invalid syntax (<ipython-input-22-52a21d0f0599>, line 1)",
     "output_type": "error",
     "traceback": [
      "\u001b[1;36m  File \u001b[1;32m\"<ipython-input-22-52a21d0f0599>\"\u001b[1;36m, line \u001b[1;32m1\u001b[0m\n\u001b[1;33m    You can use two other string methods to search strings: startswith and endswith. These methods return a True or False result, depending on whether the string they’re used on starts or ends with one of the strings given as parameters:\u001b[0m\n\u001b[1;37m          ^\u001b[0m\n\u001b[1;31mSyntaxError\u001b[0m\u001b[1;31m:\u001b[0m invalid syntax\n"
     ]
    }
   ],
   "source": [
    "You can use two other string methods to search strings: `startswith`  and `endswith`. These methods return a `True` or `False` result, depending on whether the string they’re used on starts or ends with one of the strings given as parameters: "
   ]
  },
  {
   "cell_type": "code",
   "execution_count": 23,
   "metadata": {},
   "outputs": [
    {
     "name": "stdout",
     "output_type": "stream",
     "text": "True\nFalse\nTrue\nFalse\n"
    }
   ],
   "source": [
    "x = \"Mississippi\"\n",
    "\n",
    "print(x.startswith(\"Miss\"))  # True\n",
    "\n",
    "print(x.startswith(\"Mist\"))  # False\n",
    "\n",
    "print(x.endswith(\"pi\"))  # True\n",
    "\n",
    "print(x.endswith(\"p\"))  # False"
   ]
  },
  {
   "cell_type": "markdown",
   "execution_count": null,
   "metadata": {},
   "outputs": [],
   "source": [
    "Both `startswith` and `endswith` can look for more than one string at a time. If the parameter is a `tuple` of strings, both methods check for all the strings in the tuple and return `True` if any one of them is found: "
   ]
  },
  {
   "cell_type": "code",
   "execution_count": 25,
   "metadata": {},
   "outputs": [
    {
     "name": "stdout",
     "output_type": "stream",
     "text": "True\n"
    }
   ],
   "source": [
    "print(x.endswith((\"i\", \"u\")))  # True"
   ]
  },
  {
   "cell_type": "markdown",
   "execution_count": null,
   "metadata": {},
   "outputs": [],
   "source": [
    "### Modifying strings"
   ]
  },
  {
   "cell_type": "markdown",
   "execution_count": 26,
   "metadata": {},
   "outputs": [
    {
     "ename": "SyntaxError",
     "evalue": "invalid syntax (<ipython-input-26-ff1de2ef5720>, line 1)",
     "output_type": "error",
     "traceback": [
      "\u001b[1;36m  File \u001b[1;32m\"<ipython-input-26-ff1de2ef5720>\"\u001b[1;36m, line \u001b[1;32m1\u001b[0m\n\u001b[1;33m    Strings are immutable, but string objects have several methods that can operate on that string and return a new string that’s a modified version of the original string. This provides much the same effect as direct modification for most purposes. You can find a more complete description of these methods in the documentation.\u001b[0m\n\u001b[1;37m              ^\u001b[0m\n\u001b[1;31mSyntaxError\u001b[0m\u001b[1;31m:\u001b[0m invalid syntax\n"
     ]
    }
   ],
   "source": [
    "Strings are **immutable**, but string objects have several methods that can operate on that string and return a new string that’s a modified version of the original string. This provides much the same effect as direct modification for most purposes. You can find a more complete description of these methods in the documentation.\n",
    "\n",
    "You can use the `replace` method to replace occurrences of substring (its first argument) in the string with newstring (its second argument). This method also takes an optional third argument (see the documentation for details):\n"
   ]
  },
  {
   "cell_type": "code",
   "execution_count": 27,
   "metadata": {},
   "outputs": [
    {
     "name": "stdout",
     "output_type": "stream",
     "text": "Mi+++i+++ippi\na_wonderful_filename_with_whitespace\n"
    }
   ],
   "source": [
    "x = \"Mississippi\"\n",
    "\n",
    "print(x.replace(\"ss\", \"+++\"))  # 'Mi+++i+++ippi'\n",
    "\n",
    "x = \"a wonderful filename with whitespace\"\n",
    "\n",
    "print(x.replace(\" \", \"_\")) # "
   ]
  }
 ],
 "metadata": {
  "file_extension": ".py",
  "kernelspec": {
   "display_name": "Python 3.7.6 64-bit ('base': conda)",
   "language": "python",
   "name": "python37664bitbaseconda6c222bf472ac4bd5bcb4f73402c25df7"
  },
  "language_info": {
   "codemirror_mode": {
    "name": "ipython",
    "version": 3
   },
   "file_extension": ".py",
   "mimetype": "text/x-python",
   "name": "python",
   "nbconvert_exporter": "python",
   "pygments_lexer": "ipython3",
   "version": "3.7.6-final"
  },
  "mimetype": "text/x-python",
  "name": "python",
  "npconvert_exporter": "python",
  "pygments_lexer": "ipython3",
  "version": 3
 },
 "nbformat": 4,
 "nbformat_minor": 2
}