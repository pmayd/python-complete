{
 "cells": [
  {
   "cell_type": "markdown",
   "metadata": {},
   "source": [
    "# Strings"
   ]
  },
  {
   "cell_type": "markdown",
   "metadata": {},
   "source": [
    "## Strings as sequences of characters\n",
    "\n",
    "For the purposes of extracting characters and substrings, strings can be considered to be sequences of characters, which means that you can use index or slice notation: "
   ]
  },
  {
   "cell_type": "code",
   "execution_count": 3,
   "metadata": {},
   "outputs": [
    {
     "name": "stdout",
     "output_type": "stream",
     "text": [
      "H\n",
      "o\n",
      "ello\n"
     ]
    }
   ],
   "source": [
    "x = \"Hello\"\n",
    "\n",
    "print(x[0])   # 'H'\n",
    "print(x[-1])  # 'o'\n",
    "print(x[1:])  # 'ello'"
   ]
  },
  {
   "cell_type": "markdown",
   "metadata": {},
   "source": [
    "One use for slice notation with strings is to chop the newline off the end of a string (usually, a line that’s just been read from a file): "
   ]
  },
  {
   "cell_type": "code",
   "execution_count": 1,
   "metadata": {},
   "outputs": [
    {
     "name": "stdout",
     "output_type": "stream",
     "text": "Goodbye\n\nGoodbye\nGoodbye\n"
    }
   ],
   "source": [
    "x = \"Goodbye\\n\"\n",
    "print(x) # \"Goodbye\\n\"\n",
    "\n",
    "x = x[:-1]\n",
    "print(x) # 'Goodbye'\n",
    "\n",
    "# This code is just an example. You should know that Python strings have other, better\n",
    "# methods to strip unwanted characters, but this example illustrates the usefulness of \n",
    "# slicing. \n",
    "x = \"Goodbye\\n\"\n",
    "x = x.strip()\n",
    "print(x)"
   ]
  },
  {
   "cell_type": "markdown",
   "execution_count": null,
   "metadata": {},
   "outputs": [],
   "source": [
    "You can also determine how many characters are in the string by using the `len` function, just like finding out the number of elements in a list"
   ]
  },
  {
   "cell_type": "code",
   "execution_count": 2,
   "metadata": {},
   "outputs": [
    {
     "name": "stdout",
     "output_type": "stream",
     "text": "7\n"
    }
   ],
   "source": [
    "print(len(\"Goodbye\"))  # 7"
   ]
  },
  {
   "cell_type": "markdown",
   "execution_count": null,
   "metadata": {},
   "outputs": [],
   "source": [
    "But strings aren’t lists of characters. The most noticeable difference between strings and lists is that unlike lists, strings can’t be modified. Attempting to say something like `string.append('c')` or `string[0] = 'H'` results in an error. You’ll notice in the previous example that I stripped off the newline from the string by creating a string that was a slice of the previous one, not by modifying the previous string directly. This is a basic Python restriction, imposed for efficiency reasons. "
   ]
  },
  {
   "cell_type": "markdown",
   "execution_count": null,
   "metadata": {},
   "outputs": [],
   "source": [
    "## Basic String Operations"
   ]
  },
  {
   "cell_type": "code",
   "execution_count": 3,
   "metadata": {},
   "outputs": [
    {
     "name": "stdout",
     "output_type": "stream",
     "text": "Hello World\n"
    }
   ],
   "source": [
    "x = \"Hello \" + \"World\"\n",
    "print(x)  # 'Hello World'"
   ]
  },
  {
   "cell_type": "code",
   "execution_count": 4,
   "metadata": {},
   "outputs": [
    {
     "name": "stdout",
     "output_type": "stream",
     "text": "xxxxxxxx\n"
    }
   ],
   "source": [
    "print(8 * \"x\")  # 'xxxxxxxx'"
   ]
  },
  {
   "cell_type": "markdown",
   "execution_count": null,
   "metadata": {},
   "outputs": [],
   "source": [
    "You’ve already seen a few of the character sequences that Python regards as special when used within strings: `\\n` represents the newline character, and `\\t` represents the tab character. Sequences of characters that start with a backslash and that are used to represent other characters are called escape sequences. Escape sequences are generally used to represent special characters—that is, characters (such as tab and newline) that don’t have a standard one-character printable representation."
   ]
  },
  {
   "cell_type": "markdown",
   "execution_count": null,
   "metadata": {},
   "outputs": [],
   "source": [
    "Table 6.1. Escape sequences for string and bytes literals\n",
    "\n",
    "| Escape sequence | Character represented |\n",
    "|-----------------|-----------------------|\n",
    "| \\' \t| Single-quote character |\n",
    "| \\\" \t| Double-quote character |\n",
    "| \\\\ \t| Backslash character |\n",
    "| \\a \t| Bell character |\n",
    "| \\b \t| Backspace character |\n",
    "| \\f \t| Formfeed character |\n",
    "| \\n \t| Newline character |\n",
    "| \\r \t| Carriage-return character (not the same as \\n) |\n",
    "| \\t \t| Tab character |\n",
    "| \\v \t| Vertical tab character |"
   ]
  },
  {
   "cell_type": "markdown",
   "execution_count": null,
   "metadata": {},
   "outputs": [],
   "source": [
    "Because all strings in Python 3 are Unicode strings, they can also contain almost every character from every language available. Although a discussion of the Unicode system is far beyond the scope of this book, the following examples illustrate that you can also escape any Unicode character, either by number (as shown earlier) or by Unicode name: "
   ]
  },
  {
   "cell_type": "code",
   "execution_count": 5,
   "metadata": {},
   "outputs": [
    {
     "name": "stdout",
     "output_type": "stream",
     "text": "a\ná\ná\n"
    }
   ],
   "source": [
    "unicode_a ='\\N{LATIN SMALL LETTER A}'\n",
    "print(unicode_a)  # 'a'\n",
    "\n",
    "unicode_a_with_acute = '\\N{LATIN SMALL LETTER A WITH ACUTE}'\n",
    "print(unicode_a_with_acute)  # 'á'\n",
    "\n",
    "print(\"\\u00E1\")  # 'á'"
   ]
  },
  {
   "cell_type": "markdown",
   "execution_count": null,
   "metadata": {},
   "outputs": [],
   "source": [
    "## String methods\n",
    "\n",
    "For the purposes of this section, you need only remember that most string methods are attached to the string object they operate on by a dot (`.`), as in `x.upper()`. That is, they’re prepended with the string object followed by a dot. Because strings are immutable, the string methods are used only to obtain their return value and don’t modify the string object they’re attached to in any way. "
   ]
  },
  {
   "cell_type": "markdown",
   "execution_count": null,
   "metadata": {},
   "outputs": [],
   "source": [
    "Anyone who works with strings is almost certain to find the `split` and `join` methods invaluable. They’re the inverse of one another: `split` returns a list of substrings in the string, and `join` takes a list of strings and puts them together to form a single string with the original string between each element. Typically, `split` uses whitespace as the delimiter to the strings it’s splitting, but you can change that behavior via an optional argument.\n",
    "\n",
    "String concatenation using `+` is useful but **not efficient** for joining large numbers of strings into a single string, because each time `+` is applied, a **new string object** is created. The previous “Hello World” example produces two string objects, one of which is immediately discarded. A better option is to use the `join` function:\n"
   ]
  },
  {
   "cell_type": "code",
   "execution_count": 6,
   "metadata": {},
   "outputs": [
    {
     "name": "stdout",
     "output_type": "stream",
     "text": "join puts spaces between elements\n"
    }
   ],
   "source": [
    "print(\" \".join([\"join\", \"puts\", \"spaces\", \"between\", \"elements\"])) # 'join puts spaces between elements'"
   ]
  },
  {
   "cell_type": "code",
   "execution_count": 7,
   "metadata": {},
   "outputs": [
    {
     "name": "stdout",
     "output_type": "stream",
     "text": "Separated::with::colons\n"
    }
   ],
   "source": [
    "print(\"::\".join([\"Separated\", \"with\", \"colons\"])) # 'Separated::with::colons'"
   ]
  },
  {
   "cell_type": "code",
   "execution_count": 10,
   "metadata": {},
   "outputs": [
    {
     "name": "stdout",
     "output_type": "stream",
     "text": "Separatedbynothing\n"
    }
   ],
   "source": [
    "print(\"\".join([\"Separated\", \"by\", \"nothing\"]))  # 'Separatedbynothing'"
   ]
  },
  {
   "cell_type": "code",
   "execution_count": 23,
   "metadata": {},
   "outputs": [
    {
     "name": "stdout",
     "output_type": "stream",
     "text": "3.28 ms ± 128 µs per loop (mean ± std. dev. of 7 runs, 100 loops each)\n"
    }
   ],
   "source": [
    "%%timeit\n",
    "# try different n!\n",
    "s=\"\"\n",
    "for i in range(10000): \n",
    "    s += str(i)"
   ]
  },
  {
   "cell_type": "code",
   "execution_count": 24,
   "metadata": {},
   "outputs": [
    {
     "name": "stdout",
     "output_type": "stream",
     "text": "2.28 ms ± 79.1 µs per loop (mean ± std. dev. of 7 runs, 100 loops each)\n"
    }
   ],
   "source": [
    "%timeit \"\".join((str(i) for i in range(10000)))"
   ]
  },
  {
   "cell_type": "markdown",
   "execution_count": 18,
   "metadata": {},
   "outputs": [
    {
     "data": {
      "text/plain": "'0123456789101112131415161718192021222324252627282930313233343536373839404142434445464748495051525354555657585960616263646566676869707172737475767778798081828384858687888990919293949596979899'"
     },
     "execution_count": 18,
     "metadata": {},
     "output_type": "execute_result"
    }
   ],
   "source": [
    "The most common use of `split` is probably as a **simple parsing** mechanism for string-delimited records stored in text files. By default, `split` splits on any whitespace, not just a single space character, but you can also tell it to split on a particular sequence by passing it an optional argument:"
   ]
  },
  {
   "cell_type": "code",
   "execution_count": 25,
   "metadata": {},
   "outputs": [
    {
     "name": "stdout",
     "output_type": "stream",
     "text": "['You', 'can', 'have', 'tabs', 'and', 'newlines', 'mixed', 'in']\n['Mi', 'i', 'ippi']\n"
    }
   ],
   "source": [
    "x = \"You\\t\\t can have tabs\\t\\n \\t and newlines \\n\\n \" \\\n",
    "               \"mixed in\"\n",
    "print(x.split())  # ['You', 'can', 'have', 'tabs', 'and', 'newlines', 'mixed', 'in']\n",
    "\n",
    "x = \"Mississippi\"\n",
    "print(x.split(\"ss\"))  # ['Mi', 'i', 'ippi']"
   ]
  },
  {
   "cell_type": "markdown",
   "execution_count": null,
   "metadata": {},
   "outputs": [],
   "source": [
    "If you need more complex rules for how to split, consider the `re` module:"
   ]
  },
  {
   "cell_type": "code",
   "execution_count": 28,
   "metadata": {},
   "outputs": [
    {
     "name": "stdout",
     "output_type": "stream",
     "text": "['M', '', '', '', '', '', '', 'pp', '']\n"
    }
   ],
   "source": [
    "import re\n",
    "\n",
    "x = \"Mississippi\"\n",
    "pattern = re.compile(r'[is]', flags=re.IGNORECASE)\n",
    "print(pattern.split(x)) # ['M', '', '', '', '', '', '', 'pp', '']"
   ]
  },
  {
   "cell_type": "markdown",
   "execution_count": null,
   "metadata": {},
   "outputs": [],
   "source": [
    "Sometimes, it’s useful to permit the last field in a joined string to contain arbitrary text, perhaps including substrings that may match what `split` splits on when reading in that data. You can do this by specifying how many splits `split` should perform when it’s generating its result, via an optional second argument. If you specify `n` splits, `split` goes along the input string until it has performed `n` splits (generating a list with `n+1` substrings as elements) or until it runs out of string. Here are some examples: "
   ]
  },
  {
   "cell_type": "code",
   "execution_count": 1,
   "metadata": {},
   "outputs": [
    {
     "name": "stdout",
     "output_type": "stream",
     "text": "['a', 'b c d']\n['a', 'b', 'c d']\n['a', 'b', 'c', 'd']\n"
    }
   ],
   "source": [
    "x = 'a b c d'\n",
    "print(x.split(' ', 1))  # ['a', 'b c d']\n",
    "\n",
    "print(x.split(' ', 2))  # ['a', 'b', 'c d']\n",
    "\n",
    "print(x.split(' ', 9))  # ['a', 'b', 'c', 'd']"
   ]
  },
  {
   "cell_type": "markdown",
   "execution_count": null,
   "metadata": {},
   "outputs": [],
   "source": [
    "You can use the functions `int` and `float` to convert strings to integer or floating-point numbers, respectively. If they’re passed a string that can’t be interpreted as a number of the given type, these functions raise a ValueError exception."
   ]
  },
  {
   "cell_type": "code",
   "execution_count": 6,
   "metadata": {},
   "outputs": [
    {
     "name": "stdout",
     "output_type": "stream",
     "text": "123.456\n3333\n4096\n5\n255\n"
    }
   ],
   "source": [
    "print(float('123.456'))  # 123.456\n",
    "\n",
    "#print(float('xxyy'))  #  ValueError\n",
    "\n",
    "print(int('3333'))  # 3333\n",
    "\n",
    "#print(int('123.456'))  # ValueError\n",
    "\n",
    "print(int('10000', 8))  # 4096\n",
    "\n",
    "print(int('101', 2))  # 5\n",
    "\n",
    "print(int('ff', 16))  # 255\n",
    "\n",
    "#print(int('123456', 6))  # ValueError\n"
   ]
  },
  {
   "cell_type": "markdown",
   "execution_count": null,
   "metadata": {},
   "outputs": [],
   "source": [
    "A trio of surprisingly useful simple methods are the `strip`, `lstrip`, and `rstrip` functions. `strip` returns a new string that’s the same as the original string, except that any whitespace at the beginning or end of the string has been removed. `lstrip` and `rstrip` work similarly, except that they remove whitespace only at the left or right end of the original string, respectively: "
   ]
  },
  {
   "cell_type": "code",
   "execution_count": 8,
   "metadata": {},
   "outputs": [
    {
     "name": "stdout",
     "output_type": "stream",
     "text": "Hello,    World\nHello,    World\t\t \n  Hello,    World\n"
    }
   ],
   "source": [
    "x = \"  Hello,    World\\t\\t \"\n",
    "\n",
    "print(x.strip())  # 'Hello,    World'\n",
    "\n",
    "print(x.lstrip())  # 'Hello,    World\\t\\t '\n",
    "\n",
    "print(x.rstrip())  # '  Hello,    World'"
   ]
  },
  {
   "cell_type": "markdown",
   "execution_count": null,
   "metadata": {},
   "outputs": [],
   "source": [
    "In this example, tab characters are considered to be whitespace. The exact meaning may differ across operating systems, but you can always find out what Python considers to be whitespace by accessing the `string.whitespace` constant. On my Windows system, Python returns the following: "
   ]
  },
  {
   "cell_type": "code",
   "execution_count": 11,
   "metadata": {},
   "outputs": [
    {
     "name": "stdout",
     "output_type": "stream",
     "text": "' \\t\\n\\r\\x0b\\x0c'\n"
    }
   ],
   "source": [
    "import string\n",
    "print(repr(string.whitespace))  # ' \\t\\n\\r\\x0b\\x0c'"
   ]
  },
  {
   "cell_type": "markdown",
   "execution_count": 14,
   "metadata": {},
   "outputs": [
    {
     "ename": "SyntaxError",
     "evalue": "invalid syntax (<ipython-input-14-ac2ce6652546>, line 1)",
     "output_type": "error",
     "traceback": [
      "\u001b[1;36m  File \u001b[1;32m\"<ipython-input-14-ac2ce6652546>\"\u001b[1;36m, line \u001b[1;32m1\u001b[0m\n\u001b[1;33m    You can change which characters `strip`, `rstrip`, and `lstrip` remove by passing a string containing the characters to be removed as an extra parameter:\u001b[0m\n\u001b[1;37m          ^\u001b[0m\n\u001b[1;31mSyntaxError\u001b[0m\u001b[1;31m:\u001b[0m invalid syntax\n"
     ]
    }
   ],
   "source": [
    "You can change which characters `strip`, `rstrip`, and `lstrip` remove by passing a string containing the characters to be removed as an extra parameter: "
   ]
  },
  {
   "cell_type": "code",
   "execution_count": 15,
   "metadata": {},
   "outputs": [
    {
     "name": "stdout",
     "output_type": "stream",
     "text": ".python.org\nwww.python.\npython\n"
    }
   ],
   "source": [
    "x = \"www.python.org\"\n",
    "\n",
    "print(x.strip(\"w\"))  # '.python.org'\n",
    "\n",
    "print(x.strip(\"gor\"))  # 'www.python.'\n",
    "\n",
    "print(x.strip(\".gorw\"))  # 'python'"
   ]
  },
  {
   "cell_type": "markdown",
   "execution_count": null,
   "metadata": {},
   "outputs": [],
   "source": [
    "Note that `strip` removes any and all of the characters in the extra parameter string, no matter in which order they occur 2. "
   ]
  },
  {
   "cell_type": "markdown",
   "execution_count": null,
   "metadata": {},
   "outputs": [],
   "source": [
    "<h3> Quick Check </h3>\n",
    "\n",
    "If the string `x` equals `\"(name, date),\\n\"`, which of the following would return a string containing `\"name, date\"`? \n",
    "\n",
    "1. `x.rstrip(\"),\")`\n",
    "2. `x.strip(\"),\\n\")`\n",
    "3. `x.strip(\"\\n)(,\")`"
   ]
  },
  {
   "cell_type": "markdown",
   "execution_count": null,
   "metadata": {},
   "outputs": [],
   "source": [
    "The four basic string-searching methods are similar: `find`, `rfind`, `index`, and `rindex`. A related method, `count`, counts how many times a substring can be found in another string. I describe find in detail and then examine how the other methods differ from it. "
   ]
  },
  {
   "cell_type": "markdown",
   "execution_count": null,
   "metadata": {},
   "outputs": [],
   "source": [
    "`find` takes one required argument: the substring being searched for. `find` returns the position of the first character of the first instance of substring in the string object, or –1 if substring doesn’t occur in the string: "
   ]
  },
  {
   "cell_type": "code",
   "execution_count": 17,
   "metadata": {},
   "outputs": [
    {
     "name": "stdout",
     "output_type": "stream",
     "text": "2\n-1\n"
    }
   ],
   "source": [
    "x = \"Mississippi\"\n",
    "\n",
    "print(x.find(\"ss\"))  # 2\n",
    "\n",
    "print(x.find(\"zz\"))  # -1"
   ]
  },
  {
   "cell_type": "markdown",
   "execution_count": null,
   "metadata": {},
   "outputs": [],
   "source": [
    "`find` can also take one or two additional, optional arguments. The first of these arguments, if present, is an integer `start`; it causes find to ignore all characters before position start in string when searching for substring. The second optional argument, if present, is an integer `end`; it causes find to ignore characters at or after position end in string: "
   ]
  },
  {
   "cell_type": "code",
   "execution_count": 18,
   "metadata": {},
   "outputs": [
    {
     "name": "stdout",
     "output_type": "stream",
     "text": "5\n-1\n"
    }
   ],
   "source": [
    "x = \"Mississippi\"\n",
    "\n",
    "print(x.find(\"ss\", 3))  # 5\n",
    "\n",
    "print(x.find(\"ss\", 0, 3))  # -1"
   ]
  },
  {
   "cell_type": "markdown",
   "execution_count": null,
   "metadata": {},
   "outputs": [],
   "source": [
    "`rfind` is almost the same as `find`, except that it starts its search at the **end of string** and so returns the position of the first character of the last occurrence of substring in string:\n"
   ]
  },
  {
   "cell_type": "code",
   "execution_count": 20,
   "metadata": {},
   "outputs": [
    {
     "name": "stdout",
     "output_type": "stream",
     "text": "5\n"
    }
   ],
   "source": [
    "x = \"Mississippi\"\n",
    "print(x.rfind(\"ss\"))  # 5"
   ]
  },
  {
   "cell_type": "markdown",
   "execution_count": null,
   "metadata": {},
   "outputs": [],
   "source": [
    "`index` and `rindex` are identical to `find` and `rfind`, respectively, except for one difference: If `index` or `rindex` fails to find an occurrence of substring in string, it doesn’t return –1 but raises a `ValueError` **exception**."
   ]
  },
  {
   "cell_type": "markdown",
   "execution_count": null,
   "metadata": {},
   "outputs": [],
   "source": [
    "`count` is used identically to any of the previous four functions, but returns the number of **non-overlapping** times the given substring occurs in the given string: "
   ]
  },
  {
   "cell_type": "code",
   "execution_count": 21,
   "metadata": {},
   "outputs": [
    {
     "name": "stdout",
     "output_type": "stream",
     "text": "2\n"
    }
   ],
   "source": [
    "x = \"Mississippi\"\n",
    "\n",
    "print(x.count(\"ss\"))  # 2"
   ]
  },
  {
   "cell_type": "markdown",
   "execution_count": 22,
   "metadata": {},
   "outputs": [
    {
     "ename": "SyntaxError",
     "evalue": "invalid syntax (<ipython-input-22-52a21d0f0599>, line 1)",
     "output_type": "error",
     "traceback": [
      "\u001b[1;36m  File \u001b[1;32m\"<ipython-input-22-52a21d0f0599>\"\u001b[1;36m, line \u001b[1;32m1\u001b[0m\n\u001b[1;33m    You can use two other string methods to search strings: startswith and endswith. These methods return a True or False result, depending on whether the string they’re used on starts or ends with one of the strings given as parameters:\u001b[0m\n\u001b[1;37m          ^\u001b[0m\n\u001b[1;31mSyntaxError\u001b[0m\u001b[1;31m:\u001b[0m invalid syntax\n"
     ]
    }
   ],
   "source": [
    "You can use two other string methods to search strings: `startswith`  and `endswith`. These methods return a `True` or `False` result, depending on whether the string they’re used on starts or ends with one of the strings given as parameters: "
   ]
  },
  {
   "cell_type": "code",
   "execution_count": 23,
   "metadata": {},
   "outputs": [
    {
     "name": "stdout",
     "output_type": "stream",
     "text": "True\nFalse\nTrue\nFalse\n"
    }
   ],
   "source": [
    "x = \"Mississippi\"\n",
    "\n",
    "print(x.startswith(\"Miss\"))  # True\n",
    "\n",
    "print(x.startswith(\"Mist\"))  # False\n",
    "\n",
    "print(x.endswith(\"pi\"))  # True\n",
    "\n",
    "print(x.endswith(\"p\"))  # False"
   ]
  },
  {
   "cell_type": "markdown",
   "execution_count": null,
   "metadata": {},
   "outputs": [],
   "source": [
    "Both `startswith` and `endswith` can look for more than one string at a time. If the parameter is a `tuple` of strings, both methods check for all the strings in the tuple and return `True` if any one of them is found: "
   ]
  },
  {
   "cell_type": "code",
   "execution_count": 25,
   "metadata": {},
   "outputs": [
    {
     "name": "stdout",
     "output_type": "stream",
     "text": "True\n"
    }
   ],
   "source": [
    "print(x.endswith((\"i\", \"u\")))  # True"
   ]
  },
  {
   "cell_type": "markdown",
   "execution_count": null,
   "metadata": {},
   "outputs": [],
   "source": [
    "### Modifying strings"
   ]
  },
  {
   "cell_type": "markdown",
   "execution_count": 26,
   "metadata": {},
   "outputs": [
    {
     "ename": "SyntaxError",
     "evalue": "invalid syntax (<ipython-input-26-ff1de2ef5720>, line 1)",
     "output_type": "error",
     "traceback": [
      "\u001b[1;36m  File \u001b[1;32m\"<ipython-input-26-ff1de2ef5720>\"\u001b[1;36m, line \u001b[1;32m1\u001b[0m\n\u001b[1;33m    Strings are immutable, but string objects have several methods that can operate on that string and return a new string that’s a modified version of the original string. This provides much the same effect as direct modification for most purposes. You can find a more complete description of these methods in the documentation.\u001b[0m\n\u001b[1;37m              ^\u001b[0m\n\u001b[1;31mSyntaxError\u001b[0m\u001b[1;31m:\u001b[0m invalid syntax\n"
     ]
    }
   ],
   "source": [
    "Strings are **immutable**, but string objects have several methods that can operate on that string and return a new string that’s a modified version of the original string. This provides much the same effect as direct modification for most purposes. You can find a more complete description of these methods in the documentation.\n",
    "\n",
    "You can use the `replace` method to replace occurrences of substring (its first argument) in the string with newstring (its second argument). This method also takes an optional third argument (see the documentation for details):\n"
   ]
  },
  {
   "cell_type": "code",
   "execution_count": 27,
   "metadata": {},
   "outputs": [
    {
     "name": "stdout",
     "output_type": "stream",
     "text": "Mi+++i+++ippi\na_wonderful_filename_with_whitespace\n"
    }
   ],
   "source": [
    "x = \"Mississippi\"\n",
    "\n",
    "print(x.replace(\"ss\", \"+++\"))  # 'Mi+++i+++ippi'\n",
    "\n",
    "x = \"a wonderful filename with whitespace\"\n",
    "\n",
    "print(x.replace(\" \", \"_\")) # "
   ]
  },
  {
   "cell_type": "code",
   "execution_count": 29,
   "metadata": {},
   "outputs": [
    {
     "name": "stdout",
     "output_type": "stream",
     "text": "!x & [y % z]\n"
    }
   ],
   "source": [
    "x = \"~x ^ (y % z)\" # a string in the old source langauge\n",
    "\n",
    "table = x.maketrans(\"~^()\", \"!&[]\")  # a table with a mapping between the two langauges\n",
    "\n",
    "print(x.translate(table))  # '!x & [y % z]'"
   ]
  },
  {
   "cell_type": "markdown",
   "execution_count": null,
   "metadata": {},
   "outputs": [],
   "source": [
    "The second line uses `maketrans` to make up a translation table from its two string arguments. The two arguments must each contain the same number of characters, and a table is made such that looking up the nth character of the first argument in that table gives back the nth character of the second argument.\n",
    "\n",
    "Next, the table produced by `maketrans` is passed to `translate`. Then `translate` goes over each of the characters in its `string` object and checks to see whether they can be found in the table given as the second argument. If a character can be found in the translation table, `translate` replaces that character with the corresponding character looked up in the table to produce the translated string.\n",
    "\n",
    "You can give `translate` an optional argument to specify characters that should be removed from the string. See the documentation for details.\n",
    "\n",
    "Other functions in the string module perform more specialized tasks. `string.lower` converts all alphabetic characters in a string to lowercase, and `upper` does the opposite. `capitalize` capitalizes the first character of a string, and `title` capitalizes all words in a string. `swapcase` converts lowercase characters to uppercase and uppercase to lowercase in the same string. `expandtabs` gets rid of tab characters in a string by replacing each tab with a specified number of spaces. `ljust`, `rjust`, and `center` pad a string with spaces to justify it in a certain field width. `zfill` left-pads a numeric string with zeros. Refer to the documentation for details on these methods.\n"
   ]
  },
  {
   "cell_type": "markdown",
   "execution_count": 7,
   "metadata": {},
   "outputs": [
    {
     "data": {
      "text/plain": "'     hallo'"
     },
     "execution_count": 7,
     "metadata": {},
     "output_type": "execute_result"
    }
   ],
   "source": [
    "### Modifying strings with list manipulations"
   ]
  },
  {
   "cell_type": "markdown",
   "execution_count": null,
   "metadata": {},
   "outputs": [],
   "source": [
    "Because strings are immutable objects, you have no way to manipulate them directly in the same way that you can manipulate lists. Although the operations that produce new strings (leaving the original strings unchanged) are useful for many things, sometimes you want to be able to manipulate a string as though it were a list of characters. In that case, turn the string into a list of characters, do whatever you want, and then turn the resulting list back into a string: "
   ]
  },
  {
   "cell_type": "code",
   "execution_count": 11,
   "metadata": {},
   "outputs": [
    {
     "name": "stdout",
     "output_type": "stream",
     "text": ",olleH\n"
    }
   ],
   "source": [
    "text = \"Hello, World\"\n",
    "wordList = list(text)  # ['H', 'e', 'l', 'l', 'o', ',', ' ', 'W', 'o', 'r', 'l', 'd']\n",
    "\n",
    "wordList[6:] = []  # ['H', 'e', 'l', 'l', 'o', ',']\n",
    "wordList.reverse() \n",
    "\n",
    "text = \"\".join(wordList)\n",
    "\n",
    "print(text) # ,olleH"
   ]
  },
  {
   "cell_type": "markdown",
   "execution_count": null,
   "metadata": {},
   "outputs": [],
   "source": [
    "### Useful methods and constants"
   ]
  },
  {
   "cell_type": "markdown",
   "execution_count": null,
   "metadata": {},
   "outputs": [],
   "source": [
    "`string` objects also have several useful methods to report various characteristics of the string, such as whether it consists of digits or alphabetic characters, or is all uppercase or lowercase: "
   ]
  },
  {
   "cell_type": "code",
   "execution_count": 12,
   "metadata": {},
   "outputs": [
    {
     "name": "stdout",
     "output_type": "stream",
     "text": "True\nFalse\nFalse\nTrue\n"
    }
   ],
   "source": [
    "x = \"123\"\n",
    "print(x.isdigit())  # True\n",
    "\n",
    "print(x.isalpha())  # False\n",
    "\n",
    "x = \"M\"\n",
    "print(x.islower())  # False\n",
    "\n",
    "print(x.isupper())  # True"
   ]
  },
  {
   "cell_type": "markdown",
   "execution_count": null,
   "metadata": {},
   "outputs": [],
   "source": [
    "For a list of all the possible string methods, refer to the string section of the official Python documentation.\n",
    "\n",
    "Finally, the string module defines some useful constants. You’ve already seen `string.whitespace`, which is a string made up of the characters Python thinks of as whitespace on your system. `string.digits` is the string '0123456789'. `string.hexdigits` includes all the characters in `string.digits`, as well as 'abcdefABCDEF', the extra characters used in hexadecimal numbers. `string.octdigits` contains '01234567'—only those digits used in octal numbers. `string.lowercase` contains all lowercase alphabetic characters; `string.uppercase` contains all uppercase alphabetic characters; `string.letters` contains all the characters in `string.lowercase` and `string.uppercase`. You might be tempted to try assigning to these constants to change the behavior of the language. Python would let you get away with this action, but it probably would be a bad idea.\n"
   ]
  },
  {
   "cell_type": "markdown",
   "execution_count": null,
   "metadata": {},
   "outputs": [],
   "source": [
    "Remember that strings are **sequences of characters**, so you can use the convenient Python `in` operator to test for a character’s membership in any of these strings, although usually the existing string methods are simpler and easier."
   ]
  },
  {
   "cell_type": "markdown",
   "execution_count": null,
   "metadata": {},
   "outputs": [],
   "source": [
    "### Common string operations\n",
    "\n",
    "Note that these methods don’t change the string itself; they return either a location in the string or a new string.\n",
    "\n",
    "| String operation | Explanation | Example |\n",
    "|------------------|-------------|---------|\n",
    "| `+`     | Adds two strings together         | `x = \"hello \" + \"world\"` |\n",
    "| `*`     | Replicates a string               | `x = \" \" * 20`           |\n",
    "| `upper` | Converts a string to uppercase    | `x.upper()` | \n",
    "| `lower` | Converts a string to lowercase \t| `x.lower()` |\n",
    "| `title` | Capitalizes the first letter of each word in a string \t|`x.title()` |\n",
    "| `find`, `index` | Searches for the target in a string | `x.find(y)` `x.index(y)` | \n",
    "| `rfind`, `rindex` | Searches for the target in a string, from the end of the string | `x.rfind(y)` `x.rindex(y)` |\n",
    "| `startswith`, `endswith` | Checks the beginning or end of a string for a match | `x.startswith(y)` `x.endswith(y)` |\n",
    "| `replace` | Replaces the target with a new string | `x.replace(y, z)`\n",
    "| `strip`, `rstrip`, `lstrip` | Removes whitespace or other characters from the ends of a string | `x.strip()` |\n",
    "| `encode` | Converts a Unicode string to a bytes object | `x.encode(\"utf_8\")` |"
   ]
  },
  {
   "cell_type": "markdown",
   "execution_count": 14,
   "metadata": {},
   "outputs": [
    {
     "data": {
      "text/plain": "4"
     },
     "execution_count": 14,
     "metadata": {},
     "output_type": "execute_result"
    }
   ],
   "source": [
    "#### Try This\n",
    "\n",
    "Suppose that you have a list of strings in which some (but not necessarily all) of the strings begin and end with the double quote character: \n",
    "\n",
    "```python\n",
    "x = ['\"abc\"', 'def', '\"ghi\"', '\"klm\"', 'nop']\n",
    "```\n",
    "\n",
    "What code would you use on each element to remove just the double quotes?"
   ]
  },
  {
   "cell_type": "code",
   "execution_count": 15,
   "metadata": {},
   "outputs": [],
   "source": [
    "x = ['\"abc\"', 'def', '\"ghi\"', '\"klm\"', 'nop']\n",
    "\n"
   ]
  },
  {
   "cell_type": "markdown",
   "execution_count": null,
   "metadata": {},
   "outputs": [],
   "source": [
    "What code could you use to find the position of the last `p` in `Mississippi`? When you’ve found that position, what code would you use to remove just that letter? "
   ]
  },
  {
   "cell_type": "code",
   "execution_count": 17,
   "metadata": {},
   "outputs": [],
   "source": [
    "s = \"Mississippi\"\n",
    "\n"
   ]
  },
  {
   "cell_type": "markdown",
   "execution_count": null,
   "metadata": {},
   "outputs": [],
   "source": [
    "## Converting from objects to strings"
   ]
  },
  {
   "cell_type": "markdown",
   "execution_count": null,
   "metadata": {},
   "outputs": [],
   "source": [
    "In Python, almost anything can be converted to some sort of a string representation by using the built-in `repr` function. Lists are the only complex Python data types you’re familiar with so far, so here, I turn some lists into their representations: "
   ]
  },
  {
   "cell_type": "code",
   "execution_count": 19,
   "metadata": {},
   "outputs": [
    {
     "name": "stdout",
     "output_type": "stream",
     "text": "[1, 2, 3]\nthe list x is [1, 2, [3, 4]]\n"
    }
   ],
   "source": [
    "print(repr([1, 2, 3]))  # '[1, 2, 3]'\n",
    "\n",
    "x = [1]\n",
    "x.append(2)\n",
    "x.append([3, 4])\n",
    "\n",
    "print('the list x is ' + repr(x))  # 'the list x is [1, 2, [3, 4]]'"
   ]
  },
  {
   "cell_type": "markdown",
   "execution_count": 20,
   "metadata": {},
   "outputs": [
    {
     "data": {
      "text/plain": "'[1, 2, 3]'"
     },
     "execution_count": 20,
     "metadata": {},
     "output_type": "execute_result"
    }
   ],
   "source": [
    "I’ve covered how Python can convert any object to a string that describes that object. The truth is, Python can do this in either of two ways. The `repr` function always returns what might be loosely called the **formal string representation** of a Python object. More specifically, `repr` returns a **string representation of a Python object** from which the original object can be rebuilt. For large, complex objects, this may not be the sort of thing you want to see in debugging output or status reports.\n",
    "\n",
    "Python also provides the built-in `str` function. In contrast to `repr`, `str` is intended to produce printable string representations, and it can be applied to any Python object. `str` returns what might be called the informal string representation of the object. A `string` returned by `str` need not define an object fully and is intended to be **read by humans**, not by Python code.\n",
    "\n",
    "You won’t notice any difference between `repr` and `str` when you start using them, because until you begin using the object-oriented features of Python, there’s no difference. `str` applied to any built-in Python object always calls `repr` to calculate its result. Only when you start defining your own classes does the difference between `str` and `repr` become important\n"
   ]
  },
  {
   "cell_type": "code",
   "execution_count": 32,
   "metadata": {},
   "outputs": [
    {
     "name": "stdout",
     "output_type": "stream",
     "text": "WindowsPath('c:/Users/micha/work/git/python-complete/nb')\nc:\\Users\\micha\\work\\git\\python-complete\\nb\n"
    }
   ],
   "source": [
    "from pathlib import Path\n",
    "\n",
    "p = Path().cwd()\n",
    "\n",
    "print(repr(p))\n",
    "print(str(p))"
   ]
  },
  {
   "cell_type": "markdown",
   "execution_count": null,
   "metadata": {},
   "outputs": [],
   "source": [
    "## String interpolation "
   ]
  },
  {
   "cell_type": "markdown",
   "execution_count": null,
   "metadata": {},
   "outputs": [],
   "source": [
    "Starting in Python 3.6, there’s a way to create string constants containing arbitrary values, which is called **string interpolation**. String interpolation is a way to include the values of Python expressions inside literal strings. These **f-strings**, as they’re commonly called because they are prefixed with `f`, use a syntax similar to that of the format method, but with a little less overhead. The following examples should give you a basic idea of how f-strings work: "
   ]
  },
  {
   "cell_type": "code",
   "execution_count": 33,
   "metadata": {},
   "outputs": [
    {
     "name": "stdout",
     "output_type": "stream",
     "text": "The answer is 42\n"
    }
   ],
   "source": [
    "value = 42\n",
    "message = f\"The answer is {value}\"\n",
    "\n",
    "print(message)  # The answer is 42"
   ]
  },
  {
   "cell_type": "markdown",
   "execution_count": null,
   "metadata": {},
   "outputs": [],
   "source": [
    "Just as with the format method, format specifiers may be added:"
   ]
  },
  {
   "cell_type": "code",
   "execution_count": 55,
   "metadata": {},
   "outputs": [
    {
     "name": "stdout",
     "output_type": "stream",
     "text": "pi is 3.141592653589793\npi is       3.14\npi is 3.141593e+00\n"
    }
   ],
   "source": [
    "import math\n",
    "pi = math.pi\n",
    "\n",
    "print(f\"pi is {pi}\")  # pi is 3.141592653589793\n",
    "print(f\"pi is {pi:10.2f}\")  # pi is 3.14\n",
    "print(f\"pi is {pi:1e}\")"
   ]
  }
 ],
 "metadata": {
  "file_extension": ".py",
  "kernelspec": {
   "display_name": "Python 3.7.6 64-bit ('base': conda)",
   "language": "python",
   "name": "python37664bitbaseconda6c222bf472ac4bd5bcb4f73402c25df7"
  },
  "language_info": {
   "codemirror_mode": {
    "name": "ipython",
    "version": 3
   },
   "file_extension": ".py",
   "mimetype": "text/x-python",
   "name": "python",
   "nbconvert_exporter": "python",
   "pygments_lexer": "ipython3",
   "version": "3.7.6-final"
  },
  "mimetype": "text/x-python",
  "name": "python",
  "npconvert_exporter": "python",
  "pygments_lexer": "ipython3",
  "version": 3
 },
 "nbformat": 4,
 "nbformat_minor": 2
}