{
 "nbformat": 4,
 "nbformat_minor": 2,
 "metadata": {
  "language_info": {
   "name": "python",
   "codemirror_mode": {
    "name": "ipython",
    "version": 3
   },
   "version": "3.7.6-final"
  },
  "orig_nbformat": 2,
  "file_extension": ".py",
  "mimetype": "text/x-python",
  "name": "python",
  "npconvert_exporter": "python",
  "pygments_lexer": "ipython3",
  "version": 3,
  "kernelspec": {
   "name": "python37664bitbaseconda6c222bf472ac4bd5bcb4f73402c25df7",
   "display_name": "Python 3.7.6 64-bit ('base': conda)"
  }
 },
 "cells": [
  {
   "cell_type": "markdown",
   "execution_count": null,
   "metadata": {},
   "outputs": [],
   "source": [
    "# Python Lists"
   ]
  },
  {
   "cell_type": "code",
   "execution_count": 31,
   "metadata": {},
   "outputs": [],
   "source": [
    "x = [\"first\", \"second\", \"third\", \"fourth\"]"
   ]
  },
  {
   "cell_type": "markdown",
   "execution_count": null,
   "metadata": {},
   "outputs": [],
   "source": [
    "It may seem reasonable that if the second index indicates a position in the list before the first index, this code would return the elements between those indices in reverse order, but this isn’t what happens. Instead, this code returns an empty list: "
   ]
  },
  {
   "cell_type": "code",
   "execution_count": 32,
   "metadata": {},
   "outputs": [
    {
     "data": {
      "text/plain": "[]"
     },
     "execution_count": 32,
     "metadata": {},
     "output_type": "execute_result"
    }
   ],
   "source": [
    "x[-1:2]"
   ]
  },
  {
   "cell_type": "code",
   "execution_count": 33,
   "metadata": {},
   "outputs": [
    {
     "name": "stdout",
     "output_type": "stream",
     "text": "['fourth', 'third', 'second', 'first']\n['fourth', 'third', 'second', 'first']\n"
    }
   ],
   "source": [
    "print(x[::-1]) # step parameter!, you can also use x.reverse()\n",
    "\n",
    "x.reverse()\n",
    "print(x)"
   ]
  },
  {
   "cell_type": "markdown",
   "execution_count": null,
   "metadata": {},
   "outputs": [],
   "source": [
    "Omitting both indices makes a new list that goes from the beginning to the end of the original list—that is, copies the list. This technique is useful when you want to make a copy that you can modify without affecting the original list: "
   ]
  },
  {
   "cell_type": "code",
   "execution_count": 5,
   "metadata": {},
   "outputs": [
    {
     "name": "stdout",
     "output_type": "stream",
     "text": "['1 st', 'second', 'third', 'fourth']\n['first', 'second', 'third', 'fourth']\n"
    }
   ],
   "source": [
    "y = x[:]\n",
    "y[0] = '1 st'\n",
    "print(y) # ['1 st', 'second', 'third', 'fourth']\n",
    "print(x) # ['first', 'second', 'third', 'fourth']"
   ]
  },
  {
   "cell_type": "markdown",
   "execution_count": null,
   "metadata": {},
   "outputs": [],
   "source": [
    "## Modify a list"
   ]
  },
  {
   "cell_type": "code",
   "execution_count": 12,
   "metadata": {},
   "outputs": [
    {
     "name": "stdout",
     "output_type": "stream",
     "text": "[1, 2, 3, 4, 5, 6, 7]\n[-1, 0, 1, 2, 3, 4, 5, 6, 7]\n[-1, 7]\n"
    }
   ],
   "source": [
    "x = [1, 2, 3, 4]\n",
    "x[len(x):] = [5, 6, 7] # append at the end\n",
    "print(x)  # [1, 2, 3, 4, 5, 6, 7]\n",
    "\n",
    "x[:0] = [-1, 0] # insert at the beginning\n",
    "print(x) # [-1, 0, 1, 2, 3, 4, 5, 6, 7]\n",
    "\n",
    "x[1:-1] = [] # delete elements\n",
    "print(x) # [-1, 7]"
   ]
  },
  {
   "cell_type": "code",
   "execution_count": 7,
   "metadata": {},
   "outputs": [
    {
     "name": "stdout",
     "output_type": "stream",
     "text": "[1, 2, 3, 'four']\n"
    }
   ],
   "source": [
    "x = [1, 2, 3]\n",
    "x.append(\"four\") # appends a single element at the end\n",
    "print(x)  # [1, 2, 3, 'four']"
   ]
  },
  {
   "cell_type": "code",
   "execution_count": 10,
   "metadata": {},
   "outputs": [
    {
     "name": "stdout",
     "output_type": "stream",
     "text": "[1, 2, 3, 4, [5, 6, 7]]\n[1, 2, 3, 4, 5, 6, 7]\n"
    }
   ],
   "source": [
    "x = [1, 2, 3, 4]\n",
    "y = [5, 6, 7]\n",
    "x.append(y) \n",
    "print(x)  # [1, 2, 3, 4, [5, 6, 7]]\n",
    "\n",
    "x = [1, 2, 3, 4]\n",
    "x.extend(y)\n",
    "print(x) # [1, 2, 3, 4, 5, 6, 7]"
   ]
  },
  {
   "cell_type": "markdown",
   "execution_count": null,
   "metadata": {},
   "outputs": [],
   "source": [
    "There’s also a special `insert` method to insert new list elements between two existing elements or at the front of the list. `insert` is used as a method of lists and takes two additional arguments. The first additional argument is the index position in the list where the new element should be inserted, and the second is the new element itself: "
   ]
  },
  {
   "cell_type": "code",
   "execution_count": 25,
   "metadata": {},
   "outputs": [
    {
     "name": "stdout",
     "output_type": "stream",
     "text": "[1, 2, 'hello', 3]\n['start', 1, 2, 'hello', 3]\n['start', 1, 2, 'hello', 3, 'hello']\n"
    }
   ],
   "source": [
    "x = [1, 2, 3]\n",
    "x.insert(2, \"hello\") # identical with -1\n",
    "print(x) # [1, 2, 'hello', 3]\n",
    "\n",
    "x.insert(0, \"start\")\n",
    "print(x) # ['start', 1, 2, 'hello', 3]\n",
    "\n",
    "x.insert(len(x), \"hello\") # like append\n",
    "print(x) # [1, 2, 'hello', 3]"
   ]
  },
  {
   "cell_type": "markdown",
   "execution_count": null,
   "metadata": {},
   "outputs": [],
   "source": [
    "The `del` statement is the preferred method of deleting list items or slices. It doesn’t do anything that can’t be done with slice assignment, but it’s usually easier to remember and easier to read: "
   ]
  },
  {
   "cell_type": "code",
   "execution_count": 26,
   "metadata": {},
   "outputs": [
    {
     "name": "stdout",
     "output_type": "stream",
     "text": "['a', 'c', 7, 9, 11]\n[7, 9, 11]\n"
    }
   ],
   "source": [
    "x = ['a', 2, 'c', 7, 9, 11]\n",
    "del x[1]\n",
    "print(x)  # ['a', 'c', 7, 9, 11]\n",
    "\n",
    "del x[:2]\n",
    "print(x) # [7, 9, 11]"
   ]
  },
  {
   "cell_type": "markdown",
   "execution_count": null,
   "metadata": {},
   "outputs": [],
   "source": [
    "The `remove` method isn’t the converse of `insert`. Whereas `insert` inserts an element at a specified location, `remove` looks for the first instance of a given value in a list and removes that value from the list: "
   ]
  },
  {
   "cell_type": "code",
   "execution_count": 28,
   "metadata": {},
   "outputs": [
    {
     "name": "stdout",
     "output_type": "stream",
     "text": "[1, 2, 4, 3, 5]\n[1, 2, 4, 5]\n"
    },
    {
     "ename": "ValueError",
     "evalue": "list.remove(x): x not in list",
     "output_type": "error",
     "traceback": [
      "\u001b[1;31m---------------------------------------------------------------------------\u001b[0m",
      "\u001b[1;31mValueError\u001b[0m                                Traceback (most recent call last)",
      "\u001b[1;32m<ipython-input-28-d985f5e83739>\u001b[0m in \u001b[0;36m<module>\u001b[1;34m\u001b[0m\n\u001b[0;32m      6\u001b[0m \u001b[0mprint\u001b[0m\u001b[1;33m(\u001b[0m\u001b[0mx\u001b[0m\u001b[1;33m)\u001b[0m \u001b[1;31m# [1, 2, 4, 5]\u001b[0m\u001b[1;33m\u001b[0m\u001b[1;33m\u001b[0m\u001b[0m\n\u001b[0;32m      7\u001b[0m \u001b[1;33m\u001b[0m\u001b[0m\n\u001b[1;32m----> 8\u001b[1;33m \u001b[0mx\u001b[0m\u001b[1;33m.\u001b[0m\u001b[0mremove\u001b[0m\u001b[1;33m(\u001b[0m\u001b[1;36m3\u001b[0m\u001b[1;33m)\u001b[0m\u001b[1;33m\u001b[0m\u001b[1;33m\u001b[0m\u001b[0m\n\u001b[0m",
      "\u001b[1;31mValueError\u001b[0m: list.remove(x): x not in list"
     ]
    }
   ],
   "source": [
    "x = [1, 2, 3, 4, 3, 5]\n",
    "x.remove(3)\n",
    "print(x) # [1, 2, 4, 3, 5]\n",
    "\n",
    "x.remove(3)\n",
    "print(x) # [1, 2, 4, 5]\n",
    "\n",
    "x.remove(3) # ValueError: list.remove(x): x not in list, how to avoid? try-except or use `in` operator"
   ]
  },
  {
   "cell_type": "markdown",
   "execution_count": null,
   "metadata": {},
   "outputs": [],
   "source": [
    "## Sorting"
   ]
  },
  {
   "cell_type": "code",
   "execution_count": 34,
   "metadata": {},
   "outputs": [
    {
     "name": "stdout",
     "output_type": "stream",
     "text": "[0, 1, 2, 3, 4, 8]\n"
    }
   ],
   "source": [
    "x = [3, 8, 4, 0, 2, 1]\n",
    "x.sort()\n",
    "print(x) # [0, 1, 2, 3, 4, 8]"
   ]
  },
  {
   "cell_type": "markdown",
   "execution_count": null,
   "metadata": {},
   "outputs": [],
   "source": [
    "This method does an **in-place** sort—that is, changes the list being sorted. To sort a list without changing the original list, you have two options. You can use the `sorted()` built-in function, discussed in section 5.4.2, or you can make a **copy** of the list and sort the copy: "
   ]
  },
  {
   "cell_type": "code",
   "execution_count": 35,
   "metadata": {},
   "outputs": [
    {
     "name": "stdout",
     "output_type": "stream",
     "text": "[1, 2, 3, 4]\n[2, 4, 1, 3]\n"
    }
   ],
   "source": [
    "x = [2, 4, 1, 3]\n",
    "y = x[:]\n",
    "y.sort()\n",
    "print(y) # [1, 2, 3, 4]\n",
    "print(x) # [2, 4, 1, 3]"
   ]
  },
  {
   "cell_type": "code",
   "execution_count": 36,
   "metadata": {},
   "outputs": [
    {
     "name": "stdout",
     "output_type": "stream",
     "text": "['Enchanting', 'Is', 'Life']\n"
    }
   ],
   "source": [
    "x = [\"Life\", \"Is\", \"Enchanting\"]\n",
    "x.sort()\n",
    "print(x) # ['Enchanting', 'Is', 'Life']"
   ]
  },
  {
   "cell_type": "markdown",
   "execution_count": null,
   "metadata": {},
   "outputs": [],
   "source": [
    "The `sort` method can sort just about anything because Python can compare just about anything. But there’s one caveat in sorting: The default key method used by sort requires all items in the list to be of **comparable types**. That means that using the sort method on a list containing both numbers and strings raises an exception: "
   ]
  },
  {
   "cell_type": "code",
   "execution_count": 37,
   "metadata": {},
   "outputs": [
    {
     "ename": "TypeError",
     "evalue": "'<' not supported between instances of 'str' and 'int'",
     "output_type": "error",
     "traceback": [
      "\u001b[1;31m---------------------------------------------------------------------------\u001b[0m",
      "\u001b[1;31mTypeError\u001b[0m                                 Traceback (most recent call last)",
      "\u001b[1;32m<ipython-input-37-287a4370f93a>\u001b[0m in \u001b[0;36m<module>\u001b[1;34m\u001b[0m\n\u001b[0;32m      1\u001b[0m \u001b[0mx\u001b[0m \u001b[1;33m=\u001b[0m \u001b[1;33m[\u001b[0m\u001b[1;36m1\u001b[0m\u001b[1;33m,\u001b[0m \u001b[1;36m2\u001b[0m\u001b[1;33m,\u001b[0m \u001b[1;34m'hello'\u001b[0m\u001b[1;33m,\u001b[0m \u001b[1;36m3\u001b[0m\u001b[1;33m]\u001b[0m\u001b[1;33m\u001b[0m\u001b[1;33m\u001b[0m\u001b[0m\n\u001b[1;32m----> 2\u001b[1;33m \u001b[0mx\u001b[0m\u001b[1;33m.\u001b[0m\u001b[0msort\u001b[0m\u001b[1;33m(\u001b[0m\u001b[1;33m)\u001b[0m \u001b[1;31m# TypeError: '<' not supported between instances of 'str' and 'int'\u001b[0m\u001b[1;33m\u001b[0m\u001b[1;33m\u001b[0m\u001b[0m\n\u001b[0m",
      "\u001b[1;31mTypeError\u001b[0m: '<' not supported between instances of 'str' and 'int'"
     ]
    }
   ],
   "source": [
    "x = [1, 2, 'hello', 3]\n",
    "x.sort() # TypeError: '<' not supported between instances of 'str' and 'int'"
   ]
  },
  {
   "cell_type": "code",
   "execution_count": 38,
   "metadata": {},
   "outputs": [
    {
     "name": "stdout",
     "output_type": "stream",
     "text": "[[2, 3], [2, 9], [3, 2], [3, 5], [4, 1]]\n"
    }
   ],
   "source": [
    "x = [[3, 5], [2, 9], [2, 3], [4, 1], [3, 2]]\n",
    "x.sort() # sort ascending by first key!\n",
    "print(x) # [[2, 3], [2, 9], [3, 2], [3, 5], [4, 1]]"
   ]
  },
  {
   "cell_type": "markdown",
   "execution_count": null,
   "metadata": {},
   "outputs": [],
   "source": [
    "### Custom Sorting"
   ]
  },
  {
   "cell_type": "markdown",
   "execution_count": null,
   "metadata": {},
   "outputs": [],
   "source": [
    "By default, `sort` uses built-in Python comparison functions to determine ordering, which is satisfactory for most purposes. At times, though, you want to sort a list in a way that doesn’t correspond to this default ordering. Suppose that you want to sort a list of words by the number of characters in each word, as opposed to the lexicographic sort that Python normally carries out.\n",
    "\n",
    "To do this, write a **function** that returns the value, or key, that you want to sort on, and use it with the sort method. That function in the context of sort is a function that takes one argument and returns the key or value that the sort function is to use.\n"
   ]
  },
  {
   "cell_type": "code",
   "execution_count": 42,
   "metadata": {},
   "outputs": [
    {
     "name": "stdout",
     "output_type": "stream",
     "text": "['C', 'Python', 'better', 'is', 'than']\n['C', 'is', 'than', 'Python', 'better']\n"
    }
   ],
   "source": [
    "def compare_num_of_chars(string):\n",
    "    return len(string)\n",
    "\n",
    "word_list = ['Python', 'is', 'better', 'than', 'C']\n",
    "word_list.sort()\n",
    "print(word_list)  # ['C', 'Python', 'better', 'is', 'than']\n",
    "\n",
    "word_list = ['Python', 'is', 'better', 'than', 'C']\n",
    "word_list.sort(key=compare_num_of_chars)\n",
    "print(word_list) # ['C', 'is', 'than', 'Python', 'better']"
   ]
  },
  {
   "cell_type": "code",
   "execution_count": 44,
   "metadata": {},
   "outputs": [
    {
     "name": "stdout",
     "output_type": "stream",
     "text": "['C', 'is', 'than', 'Python', 'better']\n"
    }
   ],
   "source": [
    "word_list = ['Python', 'is', 'better', 'than', 'C']\n",
    "word_list.sort(key=lambda s: len(s)) # make usage of a lambda function which is an anonymous function and does the same as compare_num_of_chars()\n",
    "print(word_list) # ['C', 'is', 'than', 'Python', 'better']"
   ]
  },
  {
   "cell_type": "markdown",
   "execution_count": null,
   "metadata": {},
   "outputs": [],
   "source": [
    "Lists have a built-in method to sort themselves, but other iterables in Python, such as the keys of a dictionary, don’t have a sort method. Python also has the built-in function `sorted()`, which returns a **sorted list from any iterable**. `sorted()` uses the same key and reverse parameters as the sort method: "
   ]
  },
  {
   "cell_type": "code",
   "execution_count": 48,
   "metadata": {},
   "outputs": [
    {
     "name": "stdout",
     "output_type": "stream",
     "text": "(4, 3, 1, 2) [1, 2, 3, 4]\n(4, 3, 1, 2) [1, 2, 3, 4] [4, 3, 2, 1]\n"
    }
   ],
   "source": [
    "x = (4, 3, 1, 2) # tuple\n",
    "y = sorted(x) # sorted returns the sorted list, does not sort inplace!\n",
    "print(x, y) # [1, 2, 3, 4]\n",
    "\n",
    "z = sorted(x, reverse=True)\n",
    "print(x, y, z) # [4, 3, 2, 1]"
   ]
  },
  {
   "cell_type": "markdown",
   "execution_count": null,
   "metadata": {},
   "outputs": [],
   "source": [
    "## Common list operators"
   ]
  },
  {
   "cell_type": "code",
   "execution_count": 50,
   "metadata": {},
   "outputs": [
    {
     "name": "stdout",
     "output_type": "stream",
     "text": "True\nFalse\nFalse\nTrue\n"
    }
   ],
   "source": [
    "print(3 in [1, 3, 4, 5]) # True\n",
    "print(3 not in [1, 3, 4, 5]) # False\n",
    "print(3 in [\"one\", \"two\", \"three\"]) # False\n",
    "print(3 not in [\"one\", \"two\", \"three\"]) # True"
   ]
  },
  {
   "cell_type": "code",
   "execution_count": null,
   "metadata": {},
   "outputs": [],
   "source": [
    "z = [1, 2, 3] + [4, 5]\n",
    "print(z) # [1, 2, 3, 4, 5], same as extend, but creates a new list!\n"
   ]
  },
  {
   "cell_type": "code",
   "execution_count": 52,
   "metadata": {},
   "outputs": [
    {
     "name": "stdout",
     "output_type": "stream",
     "text": "[1, 2, 3, 4, 5]\n[1, 2, 3]\n"
    }
   ],
   "source": [
    "x = [1,2,3]\n",
    "y = [4,5]\n",
    "x.extend(y) # inplace\n",
    "print(x)\n",
    "\n",
    "x = [1,2,3]\n",
    "x+y # return new list\n",
    "print(x)"
   ]
  },
  {
   "cell_type": "code",
   "execution_count": null,
   "metadata": {},
   "outputs": [],
   "source": [
    "z = [None] * 4 # list initialization\n",
    "print(z) # [None, None, None, None]\n",
    "\n",
    "z = [3, 1] * 2\n",
    "print(z) # [3, 1, 3, 1]"
   ]
  },
  {
   "cell_type": "code",
   "execution_count": 53,
   "metadata": {},
   "outputs": [
    {
     "name": "stdout",
     "output_type": "stream",
     "text": "-2\n"
    },
    {
     "ename": "TypeError",
     "evalue": "'>' not supported between instances of 'str' and 'int'",
     "output_type": "error",
     "traceback": [
      "\u001b[1;31m---------------------------------------------------------------------------\u001b[0m",
      "\u001b[1;31mTypeError\u001b[0m                                 Traceback (most recent call last)",
      "\u001b[1;32m<ipython-input-53-f9e165d9360c>\u001b[0m in \u001b[0;36m<module>\u001b[1;34m\u001b[0m\n\u001b[0;32m      1\u001b[0m \u001b[0mprint\u001b[0m\u001b[1;33m(\u001b[0m\u001b[0mmin\u001b[0m\u001b[1;33m(\u001b[0m\u001b[1;33m[\u001b[0m\u001b[1;36m3\u001b[0m\u001b[1;33m,\u001b[0m \u001b[1;36m7\u001b[0m\u001b[1;33m,\u001b[0m \u001b[1;36m0\u001b[0m\u001b[1;33m,\u001b[0m \u001b[1;33m-\u001b[0m\u001b[1;36m2\u001b[0m\u001b[1;33m,\u001b[0m \u001b[1;36m11\u001b[0m\u001b[1;33m]\u001b[0m\u001b[1;33m)\u001b[0m\u001b[1;33m)\u001b[0m \u001b[1;31m# -2\u001b[0m\u001b[1;33m\u001b[0m\u001b[1;33m\u001b[0m\u001b[0m\n\u001b[0;32m      2\u001b[0m \u001b[1;33m\u001b[0m\u001b[0m\n\u001b[1;32m----> 3\u001b[1;33m \u001b[0mmax\u001b[0m\u001b[1;33m(\u001b[0m\u001b[1;33m[\u001b[0m\u001b[1;36m4\u001b[0m\u001b[1;33m,\u001b[0m \u001b[1;34m\"Hello\"\u001b[0m\u001b[1;33m,\u001b[0m \u001b[1;33m[\u001b[0m\u001b[1;36m1\u001b[0m\u001b[1;33m,\u001b[0m \u001b[1;36m2\u001b[0m\u001b[1;33m]\u001b[0m\u001b[1;33m]\u001b[0m\u001b[1;33m)\u001b[0m \u001b[1;31m# TypeError: '>' not supported between instances of 'str' and 'int'\u001b[0m\u001b[1;33m\u001b[0m\u001b[1;33m\u001b[0m\u001b[0m\n\u001b[0m",
      "\u001b[1;31mTypeError\u001b[0m: '>' not supported between instances of 'str' and 'int'"
     ]
    }
   ],
   "source": [
    "print(min([3, 7, 0, -2, 11])) # -2\n",
    "\n",
    "max([4, \"Hello\", [1, 2]]) # TypeError: '>' not supported between instances of 'str' and 'int'"
   ]
  },
  {
   "cell_type": "code",
   "execution_count": 54,
   "metadata": {},
   "outputs": [
    {
     "name": "stdout",
     "output_type": "stream",
     "text": "3\n"
    },
    {
     "ename": "ValueError",
     "evalue": "5 is not in list",
     "output_type": "error",
     "traceback": [
      "\u001b[1;31m---------------------------------------------------------------------------\u001b[0m",
      "\u001b[1;31mValueError\u001b[0m                                Traceback (most recent call last)",
      "\u001b[1;32m<ipython-input-54-6199719a2289>\u001b[0m in \u001b[0;36m<module>\u001b[1;34m\u001b[0m\n\u001b[0;32m      2\u001b[0m \u001b[0mprint\u001b[0m\u001b[1;33m(\u001b[0m\u001b[0mx\u001b[0m\u001b[1;33m.\u001b[0m\u001b[0mindex\u001b[0m\u001b[1;33m(\u001b[0m\u001b[1;36m7\u001b[0m\u001b[1;33m)\u001b[0m\u001b[1;33m)\u001b[0m \u001b[1;31m# 3\u001b[0m\u001b[1;33m\u001b[0m\u001b[1;33m\u001b[0m\u001b[0m\n\u001b[0;32m      3\u001b[0m \u001b[1;33m\u001b[0m\u001b[0m\n\u001b[1;32m----> 4\u001b[1;33m \u001b[0mx\u001b[0m\u001b[1;33m.\u001b[0m\u001b[0mindex\u001b[0m\u001b[1;33m(\u001b[0m\u001b[1;36m5\u001b[0m\u001b[1;33m)\u001b[0m \u001b[1;31m# ValueError: 5 is not in list\u001b[0m\u001b[1;33m\u001b[0m\u001b[1;33m\u001b[0m\u001b[0m\n\u001b[0m",
      "\u001b[1;31mValueError\u001b[0m: 5 is not in list"
     ]
    }
   ],
   "source": [
    "x = [1, 3, \"five\", 7, -2]\n",
    "print(x.index(7)) # 3\n",
    "\n",
    "x.index(5) # ValueError: 5 is not in list"
   ]
  },
  {
   "cell_type": "code",
   "execution_count": 55,
   "metadata": {},
   "outputs": [
    {
     "name": "stdout",
     "output_type": "stream",
     "text": "3\n2\n0\n"
    }
   ],
   "source": [
    "x = [1, 2, 2, 3, 5, 2, 5]\n",
    "print(x.count(2)) # 3\n",
    "print(x.count(5)) # 2\n",
    "print(x.count(4)) # 0"
   ]
  },
  {
   "cell_type": "code",
   "execution_count": 61,
   "metadata": {},
   "outputs": [
    {
     "name": "stdout",
     "output_type": "stream",
     "text": "['H', 'e', 'l', 'l', 'o']\n"
    }
   ],
   "source": [
    "print(list(\"Hello\")) # ['H', 'e', 'l', 'l', 'o']"
   ]
  },
  {
   "cell_type": "markdown",
   "execution_count": null,
   "metadata": {},
   "outputs": [],
   "source": [
    "Table 5.1. List operations\n",
    "\n",
    "| List operation | Explanation | Example | \n",
    "| ---------------|-------------|---------|\n",
    "| `[]`             | Creates an empty list |\t`x = []` |\n",
    "| `len`            | Returns the length of a list |\t`len(x)` |\n",
    "| `append` \t       | Adds a single element to the end of a list | \t`x.append('y')` |\n",
    "| `extend`  \t   | Adds another list to the end of the list | `x.extend(['a', 'b'])` |\n",
    "| `insert`         | Inserts a new element at a given position in the list |\t`x.insert(0, 'y')` |\n",
    "| `del` \t       | Removes a list element or slice | `del(x[0])` |\n",
    "| `remove` \t       | Searches for and removes a given value from a list | `x.remove('y')` |\n",
    "| `reverse` \t   | Reverses a list in place | `x.reverse()` |\n",
    "| `sort` \t       | Sorts a list in place | `x.sort()` |\n",
    "| `+`              | Adds two lists together | `[1,2,3] + [4,5,6]` |\n",
    "| `*` \t           | Replicates a list | `x = ['y'] * 3` |\n",
    "| `min` \t       | Returns the smallest element in a list | `min(x)` |\n",
    "| `max` \t       | Returns the largest element in a list | `max(x)` |\n",
    "| `index` \t       | Returns the position of a value in a list | `x.index['y']` |\n",
    "| `count` \t       | Counts the number of times a value occurs in a list | `x.count('y')` |\n",
    "| `sum` \t       | Sums the items (if they can be summed) | `sum(x)` |\n",
    "| `in` \t           | Returns whether an item is in a list | `'y' in x` |"
   ]
  },
  {
   "cell_type": "markdown",
   "execution_count": null,
   "metadata": {},
   "outputs": [],
   "source": [
    "What would be the result of `len([[1,2]] * 3)`?"
   ]
  },
  {
   "cell_type": "markdown",
   "execution_count": null,
   "metadata": {},
   "outputs": [],
   "source": [
    "What are two differences between using the in operator and a list’s index() method? "
   ]
  },
  {
   "cell_type": "markdown",
   "execution_count": null,
   "metadata": {},
   "outputs": [],
   "source": [
    "Which of the following will raise an exception?\n",
    "- `min([\"a\", \"b\", \"c\"])`\n",
    "- `max([1, 2, \"three\"])`\n",
    "- `[1, 2, 3].count(\"one\")`"
   ]
  },
  {
   "cell_type": "markdown",
   "execution_count": null,
   "metadata": {},
   "outputs": [],
   "source": [
    "## Nested lists"
   ]
  },
  {
   "cell_type": "markdown",
   "execution_count": null,
   "metadata": {},
   "outputs": [],
   "source": [
    "Lists can be nested. One application of nesting is to represent two-dimensional matrices. The members of these matrices can be referred to by using two-dimensional indices. Indices for these matrices work as follows: "
   ]
  },
  {
   "cell_type": "code",
   "execution_count": 56,
   "metadata": {},
   "outputs": [
    {
     "name": "stdout",
     "output_type": "stream",
     "text": "[0, 1, 2]\n1\n[20, 21, 22]\n22\n"
    }
   ],
   "source": [
    "m = [[0, 1, 2], [10, 11, 12], [20, 21, 22]]\n",
    "print(m[0]) # [0, 1, 2]\n",
    "print(m[0][1]) # 1\n",
    "print(m[2]) # [20, 21, 22]\n",
    "print(m[2][2]) # 22"
   ]
  },
  {
   "cell_type": "code",
   "execution_count": 57,
   "metadata": {},
   "outputs": [
    {
     "name": "stdout",
     "output_type": "stream",
     "text": "[[0], 1]\n"
    }
   ],
   "source": [
    "nested = [0]\n",
    "original = [nested, 1]\n",
    "print(original) # [[0], 1]"
   ]
  },
  {
   "cell_type": "markdown",
   "execution_count": null,
   "metadata": {},
   "outputs": [],
   "source": [
    "![](https://dpzbhybb2pdcj.cloudfront.net/ceder2/Figures/05fig01.jpg)"
   ]
  },
  {
   "cell_type": "code",
   "execution_count": 58,
   "metadata": {},
   "outputs": [
    {
     "name": "stdout",
     "output_type": "stream",
     "text": "[['zero'], 1]\n[0]\n[[0], 1]\n"
    }
   ],
   "source": [
    "nested[0] = 'zero'\n",
    "print(original) # [['zero'], 1]\n",
    "\n",
    "original[0][0] = 0\n",
    "print(nested) # [0]\n",
    "\n",
    "print(original) # [[0], 1]\n",
    "\n",
    "# so far everything is fine but now we decouple the lists"
   ]
  },
  {
   "cell_type": "code",
   "execution_count": 59,
   "metadata": {},
   "outputs": [
    {
     "name": "stdout",
     "output_type": "stream",
     "text": "[[0], 1]\n"
    }
   ],
   "source": [
    "nested = [2] # points now to a new object\n",
    "print(original) # [[0], 1], unchanged"
   ]
  },
  {
   "cell_type": "markdown",
   "execution_count": null,
   "metadata": {},
   "outputs": [],
   "source": [
    "![](https://dpzbhybb2pdcj.cloudfront.net/ceder2/Figures/05fig02.jpg)"
   ]
  },
  {
   "cell_type": "markdown",
   "execution_count": null,
   "metadata": {},
   "outputs": [],
   "source": [
    "You’ve seen that you can obtain a copy of a list by taking a **full slice** (that is, `x[:]`). You can also obtain a copy of a list by using the `+` or `*` operator (for example, `x + []` or `x * 1`). These techniques are slightly less efficient than the slice method. All three create what is called a **shallow copy** of the list, which is probably what you want most of the time. But if your list has other lists nested in it, you may want to make a deep copy. You can do this with the deepcopy function of the copy module: "
   ]
  },
  {
   "cell_type": "code",
   "execution_count": 60,
   "metadata": {},
   "outputs": [],
   "source": [
    "import copy\n",
    "\n",
    "original = [[0], 1]\n",
    "shallow = original[:]\n",
    "deep = copy.deepcopy(original)"
   ]
  },
  {
   "cell_type": "markdown",
   "execution_count": null,
   "metadata": {},
   "outputs": [],
   "source": [
    "![](https://dpzbhybb2pdcj.cloudfront.net/ceder2/Figures/05fig03.jpg)"
   ]
  },
  {
   "cell_type": "code",
   "execution_count": null,
   "metadata": {},
   "outputs": [],
   "source": [
    "shallow[1] = 2\n",
    "print(shallow) # [[0], 2]\n",
    "print(original) # [[0], 1], not changed, because we changed an immutable object\n",
    "\n",
    "shallow[0][0] = 'zero'\n",
    "print(original) # [['zero'], 1], whoa! also changed!\n"
   ]
  },
  {
   "cell_type": "code",
   "execution_count": null,
   "metadata": {},
   "outputs": [],
   "source": []
  }
 ]
}