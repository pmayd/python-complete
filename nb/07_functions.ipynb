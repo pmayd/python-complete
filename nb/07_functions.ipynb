{
 "nbformat": 4,
 "nbformat_minor": 2,
 "metadata": {
  "language_info": {
   "name": "python",
   "codemirror_mode": {
    "name": "ipython",
    "version": 3
   },
   "version": "3.7.6-final"
  },
  "orig_nbformat": 2,
  "file_extension": ".py",
  "mimetype": "text/x-python",
  "name": "python",
  "npconvert_exporter": "python",
  "pygments_lexer": "ipython3",
  "version": 3,
  "kernelspec": {
   "name": "python37664bitbaseconda6c222bf472ac4bd5bcb4f73402c25df7",
   "display_name": "Python 3.7.6 64-bit ('base': conda)"
  }
 },
 "cells": [
  {
   "cell_type": "markdown",
   "execution_count": null,
   "metadata": {},
   "outputs": [],
   "source": [
    "# Functions"
   ]
  },
  {
   "cell_type": "markdown",
   "execution_count": 1,
   "metadata": {},
   "outputs": [],
   "source": [
    "## Basic function definitions\n",
    "\n",
    "The basic syntax for a Python function definition is\n",
    "\n",
    "```python\n",
    "def name(parameter1, parameter2, . . .):\n",
    "    body\n",
    "```"
   ]
  },
  {
   "cell_type": "markdown",
   "execution_count": 2,
   "metadata": {},
   "outputs": [
    {
     "ename": "SyntaxError",
     "evalue": "invalid syntax (<ipython-input-2-741a94b8b2a3>, line 1)",
     "output_type": "error",
     "traceback": [
      "\u001b[1;36m  File \u001b[1;32m\"<ipython-input-2-741a94b8b2a3>\"\u001b[1;36m, line \u001b[1;32m1\u001b[0m\n\u001b[1;33m    def name(parameter1, parameter2, . . .):\u001b[0m\n\u001b[1;37m                                     ^\u001b[0m\n\u001b[1;31mSyntaxError\u001b[0m\u001b[1;31m:\u001b[0m invalid syntax\n"
     ]
    }
   ],
   "source": [
    "As it does with control structures, Python uses indentation to delimit the body of the function definition. The following simple example puts the factorial code from a previous section into a function body, so you can call a fact function to obtain the factorial of a number: "
   ]
  },
  {
   "cell_type": "code",
   "execution_count": 5,
   "metadata": {},
   "outputs": [],
   "source": [
    "def fact(n):\n",
    "    \"\"\"Return the factorial of the given number.\"\"\"    \n",
    "    r = 1\n",
    "\n",
    "    while n > 0:\n",
    "        r = r * n\n",
    "        n = n - 1\n",
    "        \n",
    "    return r                                           \n"
   ]
  },
  {
   "cell_type": "code",
   "execution_count": 4,
   "metadata": {},
   "outputs": [
    {
     "data": {
      "text/plain": "3628800"
     },
     "execution_count": 4,
     "metadata": {},
     "output_type": "execute_result"
    }
   ],
   "source": [
    "fact(10)"
   ]
  },
  {
   "cell_type": "code",
   "execution_count": 6,
   "metadata": {},
   "outputs": [
    {
     "data": {
      "text/plain": "'Return the factorial of the given number.'"
     },
     "execution_count": 6,
     "metadata": {},
     "output_type": "execute_result"
    }
   ],
   "source": [
    "fact.__doc__"
   ]
  },
  {
   "cell_type": "code",
   "execution_count": 7,
   "metadata": {},
   "outputs": [
    {
     "name": "stdout",
     "output_type": "stream",
     "text": "Help on function fact in module __main__:\n\nfact(n)\n    Return the factorial of the given number.\n\n"
    }
   ],
   "source": [
    "help(fact)"
   ]
  },
  {
   "cell_type": "markdown",
   "execution_count": null,
   "metadata": {},
   "outputs": [],
   "source": [
    "In some languages, a function that doesn’t return a value is called a __procedure__. Although you can (and will) write functions that don’t have a `return` statement, they aren’t really procedures. All Python procedures are functions; if no explicit return is executed in the procedure body, the special Python value `None` is returned, and if `return arg` is executed, the value `arg` is immediately returned. Nothing else in the function body is executed after a `return` has been executed. Because Python doesn’t have true procedures, I’ll refer to both types as functions. "
   ]
  },
  {
   "cell_type": "code",
   "execution_count": 8,
   "metadata": {},
   "outputs": [
    {
     "name": "stdout",
     "output_type": "stream",
     "text": "24\n24\n"
    }
   ],
   "source": [
    "print(fact(4))  # 24\n",
    "\n",
    "x = fact(4)\n",
    "print(x)  # 24"
   ]
  },
  {
   "cell_type": "markdown",
   "execution_count": null,
   "metadata": {},
   "outputs": [],
   "source": [
    "## Function parameter options\n",
    "\n",
    "Most functions need parameters, and each language has its own specifications for how function parameters are defined. Python is flexible and provides three options for defining function parameters. These options are outlined in this section. "
   ]
  },
  {
   "cell_type": "markdown",
   "execution_count": null,
   "metadata": {},
   "outputs": [],
   "source": [
    "### Positional parameters \n",
    "\n",
    "The simplest way to pass parameters to a function in Python is by **position**. In the first line of the function, you specify variable names for each parameter; when the function is called, the parameters used in the calling code are matched to the function’s parameter variables based on their order. The following function computes `x` to the power of `y`: "
   ]
  },
  {
   "cell_type": "code",
   "execution_count": 9,
   "metadata": {},
   "outputs": [
    {
     "name": "stdout",
     "output_type": "stream",
     "text": "27\n"
    }
   ],
   "source": [
    "def power(x, y):\n",
    "    r = 1\n",
    "\n",
    "    while y > 0:\n",
    "        r = r * x\n",
    "        y = y - 1\n",
    "        \n",
    "    return r\n",
    "\n",
    "print(power(3, 3))  # 27"
   ]
  },
  {
   "cell_type": "markdown",
   "execution_count": null,
   "metadata": {},
   "outputs": [],
   "source": [
    "This method requires that the number of parameters used by the calling code exactly matches the number of parameters in the function definition; otherwise, a `TypeError` exception is raised: "
   ]
  },
  {
   "cell_type": "code",
   "execution_count": 13,
   "metadata": {},
   "outputs": [
    {
     "ename": "TypeError",
     "evalue": "power() missing 1 required positional argument: 'y'",
     "output_type": "error",
     "traceback": [
      "\u001b[1;31m---------------------------------------------------------------------------\u001b[0m",
      "\u001b[1;31mTypeError\u001b[0m                                 Traceback (most recent call last)",
      "\u001b[1;32m<ipython-input-13-75d4b928378d>\u001b[0m in \u001b[0;36m<module>\u001b[1;34m\u001b[0m\n\u001b[1;32m----> 1\u001b[1;33m \u001b[0mpower\u001b[0m\u001b[1;33m(\u001b[0m\u001b[1;36m3\u001b[0m\u001b[1;33m)\u001b[0m      \u001b[1;31m# TypeError\u001b[0m\u001b[1;33m\u001b[0m\u001b[1;33m\u001b[0m\u001b[0m\n\u001b[0m\u001b[0;32m      2\u001b[0m \u001b[0mpower\u001b[0m\u001b[1;33m(\u001b[0m\u001b[1;36m1\u001b[0m\u001b[1;33m,\u001b[0m\u001b[1;36m2\u001b[0m\u001b[1;33m,\u001b[0m\u001b[1;36m3\u001b[0m\u001b[1;33m)\u001b[0m  \u001b[1;31m# TypeError\u001b[0m\u001b[1;33m\u001b[0m\u001b[1;33m\u001b[0m\u001b[0m\n",
      "\u001b[1;31mTypeError\u001b[0m: power() missing 1 required positional argument: 'y'"
     ]
    }
   ],
   "source": [
    "power(3)      # TypeError\n",
    "power(1,2,3)  # TypeError"
   ]
  },
  {
   "cell_type": "markdown",
   "execution_count": null,
   "metadata": {},
   "outputs": [],
   "source": [
    "\n",
    "#### Default values\n",
    "\n",
    "Function parameters can have **default values**, which you declare by assigning a default value in the first line of the function definition, like so:\n"
   ]
  },
  {
   "cell_type": "code",
   "execution_count": 15,
   "metadata": {},
   "outputs": [],
   "source": [
    "def fun(arg1, arg2=\"default_string\", arg3=3):\n",
    "    pass"
   ]
  },
  {
   "cell_type": "markdown",
   "execution_count": null,
   "metadata": {},
   "outputs": [],
   "source": [
    "Any number of parameters can be given default values. Parameters with default values must be defined as the **last ones** in the parameter list because Python, like most languages, pairs arguments with parameters on a positional basis. There must be enough arguments to a function that the last parameter in that function’s parameter list without a default value gets an argument."
   ]
  },
  {
   "cell_type": "code",
   "execution_count": 17,
   "metadata": {},
   "outputs": [
    {
     "ename": "SyntaxError",
     "evalue": "non-default argument follows default argument (<ipython-input-17-fe6d0b52f42b>, line 2)",
     "output_type": "error",
     "traceback": [
      "\u001b[1;36m  File \u001b[1;32m\"<ipython-input-17-fe6d0b52f42b>\"\u001b[1;36m, line \u001b[1;32m2\u001b[0m\n\u001b[1;33m    def fun(arg1=1, arg2):\u001b[0m\n\u001b[1;37m           ^\u001b[0m\n\u001b[1;31mSyntaxError\u001b[0m\u001b[1;31m:\u001b[0m non-default argument follows default argument\n"
     ]
    }
   ],
   "source": [
    "# SyntaxError\n",
    "def fun(arg1=1, arg2):  \n",
    "    pass"
   ]
  },
  {
   "cell_type": "code",
   "execution_count": 22,
   "metadata": {},
   "outputs": [],
   "source": [
    "def power(x, y=2):\n",
    "    r = 1\n",
    "\n",
    "    while y > 0:\n",
    "        r = r * x\n",
    "        y = y - 1\n",
    "\n",
    "    return r"
   ]
  },
  {
   "cell_type": "code",
   "execution_count": 23,
   "metadata": {},
   "outputs": [
    {
     "name": "stdout",
     "output_type": "stream",
     "text": "27\n9\n"
    }
   ],
   "source": [
    "print(power(3, 3))  # 27\n",
    "\n",
    "print(power(3))  # 9"
   ]
  },
  {
   "cell_type": "markdown",
   "execution_count": null,
   "metadata": {},
   "outputs": [],
   "source": [
    "### Passing arguments by parameter name \n",
    "\n",
    "You can also pass arguments into a function by using the name of the corresponding function parameter rather than its position. Continuing with the previous interactive example, you can type"
   ]
  },
  {
   "cell_type": "code",
   "execution_count": 24,
   "metadata": {},
   "outputs": [
    {
     "name": "stdout",
     "output_type": "stream",
     "text": "8\n9\n9\n"
    }
   ],
   "source": [
    "print(power(2, 3))  # 8\n",
    "\n",
    "print(power(3, 2))  # 9\n",
    "\n",
    "print(power(y=2, x=3)) # 9"
   ]
  },
  {
   "cell_type": "markdown",
   "execution_count": null,
   "metadata": {},
   "outputs": [],
   "source": [
    "Because the arguments to `power` in the final invocation are named, their **order is irrelevant**; the arguments are associated with the parameters of the same name in the definition of `power`, and you get back `3^2`. This type of argument passing is called **keyword passing**."
   ]
  },
  {
   "cell_type": "markdown",
   "execution_count": null,
   "metadata": {},
   "outputs": [],
   "source": [
    "Keyword passing, in combination with the default argument capability of Python functions, can be highly useful when you’re defining functions with **large numbers of possible arguments**, most of which have common defaults. Consider a function that’s intended to produce a list with information about files in the current directory and that uses Boolean arguments to indicate whether that list should include information such as file size, last modified date, and so forth, for each file. You can define such a function along these lines\n",
    "\n",
    "\n",
    "```python\n",
    "def list_file_info(size=False, create_date=False, mod_date=False, ...):\n",
    "    ...get file names...\n",
    "    if size:\n",
    "        # code to get file sizes goes here\n",
    "    if create_date:\n",
    "        # code to get create dates goes here\n",
    "    # do any other stuff desired\n",
    "\n",
    "    return fileinfostructure\n",
    "```\n",
    "\n",
    "and then call it from other code using keyword argument passing to indicate that you want only certain information (in this example, the file size and modification date but not the creation date):\n",
    "\n",
    "```python \n",
    "fileinfo = list_file_info(size=True, mod_date=True)\n",
    "```\n",
    "\n",
    "This type of argument handling is particularly suited for functions with very complex behavior, and one place where such functions occur is in a **graphical user interface (GUI)**. If you ever use the Tkinter package to build GUIs in Python, you’ll find that the use of optional, keyword-named arguments like this is invaluable. \n",
    "\n"
   ]
  },
  {
   "cell_type": "markdown",
   "execution_count": 25,
   "metadata": {},
   "outputs": [],
   "source": [
    "### Variable numbers of arguments"
   ]
  },
  {
   "cell_type": "markdown",
   "execution_count": null,
   "metadata": {},
   "outputs": [],
   "source": [
    "Python functions can also be defined to handle variable numbers of arguments, which you can do in two ways. One way handles the relatively familiar case in which you want to collect an **unknown number of arguments** at the end of the argument list into a list. The other method can collect an **arbitrary number of keyword-passed arguments**, which have no correspondingly named parameter in the function parameter list, into a dictionary. These two mechanisms are discussed next. "
   ]
  },
  {
   "cell_type": "markdown",
   "execution_count": null,
   "metadata": {},
   "outputs": [],
   "source": [
    "#### Dealing with an indefinite number of positional arguments\n",
    "\n",
    "Prefixing the final parameter name of the function with a `*` causes all excess non-keyword arguments in a call of a function (that is, those positional arguments not assigned to another parameter) to be collected together and assigned as a `tuple` to the given parameter. Here’s a simple way to implement a function to find the maximum in a list of numbers.\n",
    "\n",
    "First, implement the function:\n"
   ]
  },
  {
   "cell_type": "code",
   "execution_count": 26,
   "metadata": {},
   "outputs": [],
   "source": [
    "def maximum(*numbers):\n",
    "    if len(numbers) == 0:\n",
    "        return None\n",
    "\n",
    "    else:\n",
    "        maxnum = numbers[0]\n",
    "\n",
    "        for n in numbers[1:]:\n",
    "            if n > maxnum:\n",
    "                maxnum = n\n",
    "         \n",
    "        return maxnum"
   ]
  },
  {
   "cell_type": "code",
   "execution_count": 27,
   "metadata": {},
   "outputs": [
    {
     "name": "stdout",
     "output_type": "stream",
     "text": "8\n9\n"
    }
   ],
   "source": [
    "print(maximum(3, 2, 8))  # 8\n",
    "\n",
    "print(maximum(1, 5, 9, -2, 2))  # 9"
   ]
  },
  {
   "cell_type": "markdown",
   "execution_count": null,
   "metadata": {},
   "outputs": [],
   "source": [
    "#### Dealing with an indefinite number of arguments passed by keyword\n",
    "\n",
    "An arbitrary number of keyword arguments can also be handled. If the final parameter in the parameter list is prefixed with `**`, it collects all excess keyword-passed arguments into a `dictionary`. The key for each entry in the dictionary is the keyword (parameter name) for the excess argument. The value of that entry is the argument itself. An argument passed by keyword is excess in this context if the keyword by which it was passed doesn’t match one of the parameter names in the function definition.\n",
    "\n",
    "For example:"
   ]
  },
  {
   "cell_type": "code",
   "execution_count": 32,
   "metadata": {},
   "outputs": [],
   "source": [
    "def example_fun(x, y, **other):\n",
    "    print(f\"x: {x}, y: {y}, keys in 'other': {list(other.keys())}\")\n",
    "\n",
    "    other_total = 0\n",
    "    for k in other.keys():\n",
    "        other_total = other_total + other[k]\n",
    "\n",
    "    print(f\"The total of values in 'other' is {other_total}\")"
   ]
  },
  {
   "cell_type": "markdown",
   "execution_count": null,
   "metadata": {},
   "outputs": [],
   "source": [
    "Trying out this function in an interactive session reveals that it can handle arguments passed in under the keywords `foo` and `bar`, even though `foo` and `bar` aren’t parameter names in the function definition: "
   ]
  },
  {
   "cell_type": "code",
   "execution_count": 33,
   "metadata": {},
   "outputs": [
    {
     "name": "stdout",
     "output_type": "stream",
     "text": "x: 2, y: 1, keys in 'other': ['foo', 'bar']\nThe total of values in 'other' is 7\nNone\n"
    }
   ],
   "source": [
    "print(example_fun(2, y=\"1\", foo=3, bar=4)) \n",
    "\n",
    "# x: 2, y: 1, keys in 'other': ['foo', 'bar']\n",
    "# The total of values in 'other' is 7"
   ]
  },
  {
   "cell_type": "markdown",
   "execution_count": null,
   "metadata": {},
   "outputs": [],
   "source": [
    "## Mutable objects as arguments"
   ]
  },
  {
   "cell_type": "markdown",
   "execution_count": null,
   "metadata": {},
   "outputs": [],
   "source": [
    "Arguments are passed in by **object reference**. The parameter becomes a new reference to the object. For **immutable objects** (such as tuples, strings, and numbers), what is done with a parameter has **no effect outside the function**. But if you pass in a **mutable object** (such as a list, dictionary, or class instance), any change made to the object changes what the argument is **referencing outside the function**. Reassigning the parameter doesn’t affect the argument, as shown in figures 9.1 and 9.2: "
   ]
  },
  {
   "cell_type": "code",
   "execution_count": 34,
   "metadata": {},
   "outputs": [
    {
     "name": "stdout",
     "output_type": "stream",
     "text": "5 [1, 2, 3] [4, 5]\n"
    }
   ],
   "source": [
    "def f(n, list1, list2):\n",
    "   list1.append(3)\n",
    "   list2 = [4, 5, 6]\n",
    "   n = n + 1\n",
    "\n",
    "x = 5\n",
    "y = [1, 2]\n",
    "z = [4, 5]\n",
    "\n",
    "f(x, y, z)\n",
    "\n",
    "print(x, y, z)  # (5, [1, 2, 3], [4, 5])"
   ]
  },
  {
   "cell_type": "code",
   "execution_count": null,
   "metadata": {},
   "outputs": [],
   "source": []
  },
  {
   "cell_type": "code",
   "execution_count": null,
   "metadata": {},
   "outputs": [],
   "source": []
  }
 ]
}