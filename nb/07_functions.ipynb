{
 "cells": [
  {
   "cell_type": "markdown",
   "metadata": {},
   "source": [
    "# Functions"
   ]
  },
  {
   "cell_type": "markdown",
   "metadata": {},
   "source": [
    "## Basic function definitions\n",
    "\n",
    "The basic syntax for a Python function definition is\n",
    "\n",
    "```python\n",
    "def name(parameter1, parameter2, . . .):\n",
    "    body\n",
    "```"
   ]
  },
  {
   "cell_type": "markdown",
   "metadata": {},
   "source": [
    "As it does with control structures, Python uses indentation to delimit the body of the function definition. The following simple example puts the factorial code from a previous section into a function body, so you can call a fact function to obtain the factorial of a number: "
   ]
  },
  {
   "cell_type": "code",
   "execution_count": null,
   "metadata": {},
   "outputs": [],
   "source": [
    "def fact(n):\n",
    "    \"\"\"Return the factorial of the given number.\"\"\"    \n",
    "    r = 1\n",
    "\n",
    "    while n > 0:\n",
    "        r = r * n\n",
    "        n = n - 1\n",
    "        \n",
    "    return r                                           \n"
   ]
  },
  {
   "cell_type": "code",
   "execution_count": null,
   "metadata": {},
   "outputs": [],
   "source": [
    "fact(10)"
   ]
  },
  {
   "cell_type": "code",
   "execution_count": null,
   "metadata": {},
   "outputs": [],
   "source": [
    "fact.__doc__"
   ]
  },
  {
   "cell_type": "code",
   "execution_count": null,
   "metadata": {},
   "outputs": [],
   "source": [
    "help(fact)"
   ]
  },
  {
   "cell_type": "markdown",
   "metadata": {},
   "source": [
    "In some languages, a function that doesn’t return a value is called a __procedure__. Although you can (and will) write functions that don’t have a `return` statement, they aren’t really procedures. All Python procedures are functions; if no explicit return is executed in the procedure body, the special Python value `None` is returned, and if `return arg` is executed, the value `arg` is immediately returned. Nothing else in the function body is executed after a `return` has been executed. Because Python doesn’t have true procedures, I’ll refer to both types as functions. "
   ]
  },
  {
   "cell_type": "code",
   "execution_count": null,
   "metadata": {},
   "outputs": [],
   "source": [
    "print(fact(4))  # 24\n",
    "\n",
    "x = fact(4)\n",
    "print(x)  # 24"
   ]
  },
  {
   "cell_type": "markdown",
   "metadata": {},
   "source": [
    "## Function parameter options\n",
    "\n",
    "Most functions need parameters, and each language has its own specifications for how function parameters are defined. Python is flexible and provides three options for defining function parameters. These options are outlined in this section. "
   ]
  },
  {
   "cell_type": "markdown",
   "metadata": {},
   "source": [
    "### Positional parameters \n",
    "\n",
    "The simplest way to pass parameters to a function in Python is by **position**. In the first line of the function, you specify variable names for each parameter; when the function is called, the parameters used in the calling code are matched to the function’s parameter variables based on their order. The following function computes `x` to the power of `y`: "
   ]
  },
  {
   "cell_type": "code",
   "execution_count": null,
   "metadata": {},
   "outputs": [],
   "source": [
    "def power(x, y):\n",
    "    r = 1\n",
    "\n",
    "    while y > 0:\n",
    "        r = r * x\n",
    "        y = y - 1\n",
    "        \n",
    "    return r\n",
    "\n",
    "print(power(3, 3))  # 27"
   ]
  },
  {
   "cell_type": "markdown",
   "metadata": {},
   "source": [
    "This method requires that the number of parameters used by the calling code exactly matches the number of parameters in the function definition; otherwise, a `TypeError` exception is raised: "
   ]
  },
  {
   "cell_type": "code",
   "execution_count": null,
   "metadata": {},
   "outputs": [],
   "source": [
    "power(3)      # TypeError\n",
    "power(1,2,3)  # TypeError"
   ]
  },
  {
   "cell_type": "markdown",
   "metadata": {},
   "source": [
    "\n",
    "#### Default values\n",
    "\n",
    "Function parameters can have **default values**, which you declare by assigning a default value in the first line of the function definition, like so:\n"
   ]
  },
  {
   "cell_type": "code",
   "execution_count": null,
   "metadata": {},
   "outputs": [],
   "source": [
    "def fun(arg1, arg2=\"default_string\", arg3=3):\n",
    "    pass"
   ]
  },
  {
   "cell_type": "markdown",
   "metadata": {},
   "source": [
    "Any number of parameters can be given default values. Parameters with default values must be defined as the **last ones** in the parameter list because Python, like most languages, pairs arguments with parameters on a positional basis. There must be enough arguments to a function that the last parameter in that function’s parameter list without a default value gets an argument."
   ]
  },
  {
   "cell_type": "code",
   "execution_count": null,
   "metadata": {},
   "outputs": [],
   "source": [
    "# SyntaxError\n",
    "def fun(arg1=1, arg2):  \n",
    "    pass"
   ]
  },
  {
   "cell_type": "code",
   "execution_count": null,
   "metadata": {},
   "outputs": [],
   "source": [
    "def power(x, y=2):\n",
    "    r = 1\n",
    "\n",
    "    while y > 0:\n",
    "        r = r * x\n",
    "        y = y - 1\n",
    "\n",
    "    return r"
   ]
  },
  {
   "cell_type": "code",
   "execution_count": null,
   "metadata": {},
   "outputs": [],
   "source": [
    "print(power(3, 3))  # 27\n",
    "\n",
    "print(power(3))  # 9"
   ]
  },
  {
   "cell_type": "markdown",
   "metadata": {},
   "source": [
    "### Passing arguments by parameter name \n",
    "\n",
    "You can also pass arguments into a function by using the name of the corresponding function parameter rather than its position. Continuing with the previous interactive example, you can type"
   ]
  },
  {
   "cell_type": "code",
   "execution_count": null,
   "metadata": {},
   "outputs": [],
   "source": [
    "print(power(2, 3))  # 8\n",
    "\n",
    "print(power(3, 2))  # 9\n",
    "\n",
    "print(power(y=2, x=3)) # 9"
   ]
  },
  {
   "cell_type": "markdown",
   "metadata": {},
   "source": [
    "Because the arguments to `power` in the final invocation are named, their **order is irrelevant**; the arguments are associated with the parameters of the same name in the definition of `power`, and you get back `3^2`. This type of argument passing is called **keyword passing**."
   ]
  },
  {
   "cell_type": "markdown",
   "metadata": {},
   "source": [
    "Keyword passing, in combination with the default argument capability of Python functions, can be highly useful when you’re defining functions with **large numbers of possible arguments**, most of which have common defaults. Consider a function that’s intended to produce a list with information about files in the current directory and that uses Boolean arguments to indicate whether that list should include information such as file size, last modified date, and so forth, for each file. You can define such a function along these lines\n",
    "\n",
    "\n",
    "```python\n",
    "def list_file_info(size=False, create_date=False, mod_date=False, ...):\n",
    "    ...get file names...\n",
    "    if size:\n",
    "        # code to get file sizes goes here\n",
    "    if create_date:\n",
    "        # code to get create dates goes here\n",
    "    # do any other stuff desired\n",
    "\n",
    "    return fileinfostructure\n",
    "```\n",
    "\n",
    "and then call it from other code using keyword argument passing to indicate that you want only certain information (in this example, the file size and modification date but not the creation date):\n",
    "\n",
    "```python \n",
    "fileinfo = list_file_info(size=True, mod_date=True)\n",
    "```\n",
    "\n",
    "This type of argument handling is particularly suited for functions with very complex behavior, and one place where such functions occur is in a **graphical user interface (GUI)**. If you ever use the Tkinter package to build GUIs in Python, you’ll find that the use of optional, keyword-named arguments like this is invaluable. \n",
    "\n"
   ]
  },
  {
   "cell_type": "markdown",
   "metadata": {},
   "source": [
    "### Variable numbers of arguments"
   ]
  },
  {
   "cell_type": "markdown",
   "metadata": {},
   "source": [
    "Python functions can also be defined to handle variable numbers of arguments, which you can do in two ways. One way handles the relatively familiar case in which you want to collect an **unknown number of arguments** at the end of the argument list into a list. The other method can collect an **arbitrary number of keyword-passed arguments**, which have no correspondingly named parameter in the function parameter list, into a dictionary. These two mechanisms are discussed next. "
   ]
  },
  {
   "cell_type": "markdown",
   "metadata": {},
   "source": [
    "#### Dealing with an indefinite number of positional arguments\n",
    "\n",
    "Prefixing the final parameter name of the function with a `*` causes all excess non-keyword arguments in a call of a function (that is, those positional arguments not assigned to another parameter) to be collected together and assigned as a `tuple` to the given parameter. Here’s a simple way to implement a function to find the maximum in a list of numbers.\n",
    "\n",
    "First, implement the function:\n"
   ]
  },
  {
   "cell_type": "code",
   "execution_count": null,
   "metadata": {},
   "outputs": [],
   "source": [
    "def maximum(*numbers):\n",
    "    if len(numbers) == 0:\n",
    "        return None\n",
    "\n",
    "    else:\n",
    "        maxnum = numbers[0]\n",
    "\n",
    "        for n in numbers[1:]:\n",
    "            if n > maxnum:\n",
    "                maxnum = n\n",
    "         \n",
    "        return maxnum"
   ]
  },
  {
   "cell_type": "code",
   "execution_count": null,
   "metadata": {},
   "outputs": [],
   "source": [
    "print(maximum(3, 2, 8))  # 8\n",
    "\n",
    "print(maximum(1, 5, 9, -2, 2))  # 9"
   ]
  },
  {
   "cell_type": "markdown",
   "metadata": {},
   "source": [
    "#### Dealing with an indefinite number of arguments passed by keyword\n",
    "\n",
    "An arbitrary number of keyword arguments can also be handled. If the final parameter in the parameter list is prefixed with `**`, it collects all excess keyword-passed arguments into a `dictionary`. The key for each entry in the dictionary is the keyword (parameter name) for the excess argument. The value of that entry is the argument itself. An argument passed by keyword is excess in this context if the keyword by which it was passed doesn’t match one of the parameter names in the function definition.\n",
    "\n",
    "For example:"
   ]
  },
  {
   "cell_type": "code",
   "execution_count": null,
   "metadata": {},
   "outputs": [],
   "source": [
    "def example_fun(x, y, **other):\n",
    "    print(f\"x: {x}, y: {y}, keys in 'other': {list(other.keys())}\")\n",
    "\n",
    "    other_total = 0\n",
    "    for k in other.keys():\n",
    "        other_total = other_total + other[k]\n",
    "\n",
    "    print(f\"The total of values in 'other' is {other_total}\")"
   ]
  },
  {
   "cell_type": "markdown",
   "metadata": {},
   "source": [
    "Trying out this function in an interactive session reveals that it can handle arguments passed in under the keywords `foo` and `bar`, even though `foo` and `bar` aren’t parameter names in the function definition: "
   ]
  },
  {
   "cell_type": "code",
   "execution_count": null,
   "metadata": {},
   "outputs": [],
   "source": [
    "print(example_fun(2, y=\"1\", foo=3, bar=4)) \n",
    "\n",
    "# x: 2, y: 1, keys in 'other': ['foo', 'bar']\n",
    "# The total of values in 'other' is 7"
   ]
  },
  {
   "cell_type": "markdown",
   "metadata": {},
   "source": [
    "## Mutable objects as arguments"
   ]
  },
  {
   "cell_type": "markdown",
   "metadata": {},
   "source": [
    "Arguments are passed in by **object reference**. The parameter becomes a new reference to the object. For **immutable objects** (such as tuples, strings, and numbers), what is done with a parameter has **no effect outside the function**. But if you pass in a **mutable object** (such as a list, dictionary, or class instance), any change made to the object changes what the argument is **referencing outside the function**. Reassigning the parameter doesn’t affect the argument, as shown in figures 9.1 and 9.2: "
   ]
  },
  {
   "cell_type": "code",
   "execution_count": null,
   "metadata": {},
   "outputs": [],
   "source": [
    "def f(n, list1, list2):\n",
    "   list1.append(3)\n",
    "   list2 = [4, 5, 6]\n",
    "   n = n + 1\n",
    "\n",
    "x = 5\n",
    "y = [1, 2]\n",
    "z = [4, 5]\n",
    "\n",
    "f(x, y, z)\n",
    "\n",
    "print(x, y, z)  # (5, [1, 2, 3], [4, 5])"
   ]
  },
  {
   "cell_type": "markdown",
   "metadata": {},
   "source": [
    "To better understand what happens here, go to Python Tutor:\n",
    "\n",
    "http://pythontutor.com/visualize.html#code=def%20f%28n,%20list1,%20list2%29%3A%0A%20%20%20list1.append%283%29%0A%20%20%20list2%20%3D%20%5B4,%205,%206%5D%0A%20%20%20n%20%3D%20n%20%2B%201%0A%0Ax%20%3D%205%0Ay%20%3D%20%5B1,%202%5D%0Az%20%3D%20%5B4,%205%5D%0A%0Af%28x,%20y,%20z%29%0A&cumulative=false&curInstr=5&heapPrimitives=nevernest&mode=display&origin=opt-frontend.js&py=3&rawInputLstJSON=%5B%5D&textReferences=false"
   ]
  },
  {
   "cell_type": "markdown",
   "metadata": {},
   "source": [
    "## Local, nonlocal, and global variables\n",
    "\n",
    "Here, you return to the definition of fact from the beginning of this chapter: \n"
   ]
  },
  {
   "cell_type": "code",
   "execution_count": null,
   "metadata": {},
   "outputs": [],
   "source": [
    "def fact(n):\n",
    "    \"\"\"Return the factorial of the given number.\"\"\"\n",
    "    r = 1\n",
    "\n",
    "    while n > 0:\n",
    "        r = r * n\n",
    "        n = n - 1\n",
    "        \n",
    "    return r"
   ]
  },
  {
   "cell_type": "markdown",
   "metadata": {},
   "source": [
    "Both the variables  `r` and `n` are **local** to any particular call of the factorial function; changes to them made when the function is executing have no effect on any variables outside the function. Any variables in the parameter list of a function, and any variables created within a function by an assignment (like `r = 1` in fact), are local to the function.\n",
    "\n",
    "You can explicitly make a variable **global** by declaring it so before the variable is used, using the `global` statement. Global variables can be accessed and changed by the function. They exist outside the function and can also be accessed and changed by other functions that declare them global or by code that’s not within a function. Here’s an example that shows the difference between local and global variables:\n"
   ]
  },
  {
   "cell_type": "code",
   "execution_count": null,
   "metadata": {},
   "outputs": [],
   "source": [
    "def fun():\n",
    "   global a\n",
    "   a = 1\n",
    "   b = 2"
   ]
  },
  {
   "cell_type": "code",
   "execution_count": null,
   "metadata": {},
   "outputs": [],
   "source": [
    "fun()\n",
    "\n",
    "print(a)  # 1 -> available\n",
    "\n",
    "print(b)  # 'two' -> Name Error"
   ]
  },
  {
   "cell_type": "code",
   "execution_count": null,
   "metadata": {},
   "outputs": [],
   "source": [
    "a = \"one\"\n",
    "b = \"two\"\n",
    "\n",
    "fun()\n",
    "\n",
    "print(a)  # 1 -> changed!\n",
    "\n",
    "print(b)  # 'two' -> unchanged"
   ]
  },
  {
   "cell_type": "markdown",
   "metadata": {},
   "source": [
    "The assignment to `a` within `fun` is an assignment to the **global** variable `a` also existing **outside** fun. Because `a` is designated `global` in `fun`, the assignment modifies that global variable to hold the value `1` instead of the value `\"one\"`. The same isn’t true for `b`; the **local** variable called `b` inside `fun` starts out referring to the same value as the variable `b` outside fun, but the assignment causes `b` to point to a new value that’s **local** to the function `fun`.\n",
    "\n",
    "Similar to the global statement is the `nonlocal` statement, which causes an identifier to refer to a **previously bound** variable in the closest enclosing scope. We have not discussed the concept of variable scopes so far, but the point is that `global` is used for a **top-level variable**, whereas `nonlocal` can refer to any variable in an enclosing scope, as the example in listing 9.1 illustrates.\n"
   ]
  },
  {
   "cell_type": "code",
   "execution_count": null,
   "metadata": {},
   "outputs": [],
   "source": [
    "g_var = 0\n",
    "nl_var = 0\n",
    "\n",
    "print(f\"top level-> g_var: {g_var} nl_var: {nl_var}\")\n",
    "\n",
    "def test():\n",
    "    nl_var = 2\n",
    "    print(f\"in test-> g_var: {g_var} nl_var: {nl_var}\")\n",
    "\n",
    "    def inner_test():\n",
    "        global g_var # try t ocomment out! What will happen?\n",
    "        nonlocal nl_var # try to comment out! What will happen?\n",
    "        g_var = 1\n",
    "        nl_var = 4\n",
    "        print(f\"in inner_test-> g_var: {g_var} nl_var: {nl_var}\")\n",
    "\n",
    "    inner_test()\n",
    "    print(f\"in test-> g_var: {g_var} nl_var: {nl_var}\")\n",
    "\n",
    "test()\n",
    "print(f\"top level-> g_var: {g_var} nl_var: {nl_var}\")"
   ]
  },
  {
   "cell_type": "markdown",
   "metadata": {},
   "source": [
    "Note that the value of the top-level `nl_var` hasn’t been affected, which would happen if `inner_test` contained the line `global nl_var`. "
   ]
  },
  {
   "cell_type": "markdown",
   "metadata": {},
   "source": [
    "## Assigning functions to variables\n",
    "\n",
    "Functions can be assigned, like other Python objects, to variables, as shown in this example:"
   ]
  },
  {
   "cell_type": "code",
   "execution_count": null,
   "metadata": {},
   "outputs": [],
   "source": [
    "def f_to_kelvin(degrees_f):\n",
    "   return 273.15 + (degrees_f - 32) * 5 / 9\n",
    "\n",
    "def c_to_kelvin(degrees_c):\n",
    "   return 273.15 + degrees_c\n",
    "\n",
    "abs_temperature = f_to_kelvin\n",
    "print(abs_temperature(32))  # 273.15\n",
    "\n",
    "abs_temperature = c_to_kelvin\n",
    "print(abs_temperature(0))  # 273.15"
   ]
  },
  {
   "cell_type": "markdown",
   "metadata": {},
   "source": [
    "You can place functions in lists, tuples, or dictionaries:"
   ]
  },
  {
   "cell_type": "code",
   "execution_count": null,
   "metadata": {},
   "outputs": [],
   "source": [
    "t = {'FtoK': f_to_kelvin, 'CtoK': c_to_kelvin}\n",
    "\n",
    "print(t['FtoK'](32))  # 273.15\n",
    "\n",
    "print(t['CtoK'](0))  # 273.15"
   ]
  },
  {
   "cell_type": "markdown",
   "metadata": {},
   "source": [
    "##  lambda expressions\n",
    "\n",
    "Short functions like those you just saw can also be defined by using `lambda` expressions of the form \n",
    "\n",
    "```python\n",
    "lambda parameter1, parameter2, . . .: expression\n",
    "```\n",
    "\n",
    "`lambda` expressions are anonymous little functions that you can quickly define inline.\n",
    "\n",
    "Often, a small function needs to be passed to another function, like the `key` function used by a list’s `sort` method. In such cases, a large function is usually unnecessary, and it would be awkward to have to define the function in a separate place from where it’s used. The dictionary in the previous subsection can be defined all in one place with "
   ]
  },
  {
   "cell_type": "code",
   "execution_count": null,
   "metadata": {},
   "outputs": [],
   "source": [
    "t2 = {'FtoK': lambda deg_f: 273.15 + (deg_f - 32) * 5 / 9,\n",
    "      'CtoK': lambda deg_c: 273.15 + deg_c}\n",
    "     \n",
    "print(t2['FtoK'](32))  # 273.15"
   ]
  },
  {
   "cell_type": "markdown",
   "metadata": {},
   "source": [
    "Note that `lambda` expressions don’t have a return statement because the value of the expression is automatically returned. "
   ]
  },
  {
   "cell_type": "markdown",
   "metadata": {},
   "source": [
    "## Generator functions\n",
    "\n",
    "A **generator** function is a special kind of function that you can use to define your own iterators. When you define a generator function, you return each iteration’s value using the `yield` keyword. The generator will stop returning values when there are no more iterations, or it encounters either an empty `return` statement or the end of the function. Local variables in a generator function are **saved** from one call to the next, unlike in normal functions: "
   ]
  },
  {
   "cell_type": "code",
   "execution_count": null,
   "metadata": {},
   "outputs": [],
   "source": [
    "def four():\n",
    "    x = 0\n",
    "    while x < 4:\n",
    "       print(\"in generator, x =\", x)\n",
    "       yield x\n",
    "       x += 1\n",
    "\n",
    "for i in four():\n",
    "    print(i)"
   ]
  },
  {
   "cell_type": "markdown",
   "metadata": {},
   "source": [
    "Note that this generator function has a `while` loop that limits the number of times the generator executes. Depending on how it’s used, a generator that doesn’t have some condition to halt it could cause an **endless loop** when called. "
   ]
  },
  {
   "cell_type": "markdown",
   "metadata": {},
   "source": [
    "Starting with Python 3.3, the new key word for generators, `yield from`, joins `yield`. Basically, `yield from` makes it possible to **string generators together**. `yield from` behaves the same way as `yield`, except that it delegates the generator machinery to a **subgenerator**. So in a simple case, you could do this: "
   ]
  },
  {
   "cell_type": "code",
   "execution_count": null,
   "metadata": {},
   "outputs": [],
   "source": [
    "def subgen(x):\n",
    "    for i in range(x):\n",
    "        yield i\n",
    "\n",
    "def gen(y):\n",
    "    yield from subgen(y)  # return would return the generator object, not the values\n",
    "\n",
    "for q in gen(6):\n",
    "    print(q)"
   ]
  },
  {
   "cell_type": "markdown",
   "metadata": {},
   "source": [
    "You can also use `generator` functions with `in` to see whether a value is in the series that the generator produces: "
   ]
  },
  {
   "cell_type": "code",
   "execution_count": null,
   "metadata": {},
   "outputs": [],
   "source": [
    "print(2 in four())  # True\n",
    "\n",
    "print(5 in four())  # False"
   ]
  },
  {
   "cell_type": "markdown",
   "metadata": {},
   "source": [
    "After all, it seems that you should always use generators instead of ordinary functions, as they behave almost exactly the same and you save valuable resources. However, this is not the case. A `generator` object, be it a function or an expression, can only be used once. Behind the scene, the built-in `next` function is used to extract one value at a time from the `generator`. We can easily see the problem we ran into, when we try to use a generator twice:"
   ]
  },
  {
   "cell_type": "code",
   "execution_count": null,
   "metadata": {},
   "outputs": [],
   "source": [
    "first_5_squared_numbers = (x**2 for x in range(1,6))\n",
    "\n",
    "print(next(first_5_squared_numbers)) # 1\n",
    "print(list(first_5_squared_numbers)) # [4, 9, 16, 25, 36, 49, 64, 81, 100]\n",
    "\n",
    "print(next(first_5_squared_numbers)) # StopIteration"
   ]
  },
  {
   "cell_type": "markdown",
   "metadata": {},
   "source": [
    "The first call of the `generator` with `next` extracts the first value. The second call that uses `list` extracts all remaining values from the `generator`. Pay attention to the fact, that the list does not include the first value. Likewise, trying to call `next` after having extracted all values from the `generator` raises an `StopIteration` exception. \n",
    "\n",
    "So, `generator` objects are great, if you need to iterate over them only once, like with a single `for` loop. As soon as you need the same generator several times, you either have to reassign the variable, so that it points to a new generator, or you have to first store the values in a list."
   ]
  },
  {
   "cell_type": "markdown",
   "metadata": {},
   "source": [
    "## Decorators\n",
    "\n",
    "Because functions are **first-class objects** in Python, they can be assigned to variables, as you’ve seen. Functions can also be passed as **arguments** to other functions and passed back as **return values** from other functions.\n",
    "\n",
    "It’s possible, for example, to write a Python function that takes another function as its parameter, **wraps** it in another function that does something related, and then returns the new function. This new combination can be used instead of the original function:\n"
   ]
  },
  {
   "cell_type": "code",
   "execution_count": null,
   "metadata": {},
   "outputs": [],
   "source": [
    "def decorate(func):\n",
    "    print(\"in decorate function, decorating\", func.__name__)\n",
    "\n",
    "    def wrapper_func(*args):\n",
    "        print(\"Executing\", func.__name__)\n",
    "        return func(*args)\n",
    "\n",
    "    return wrapper_func\n",
    "\n",
    "def myfunction(parameter):\n",
    "    print(parameter)\n",
    "\n",
    "myfunction = decorate(myfunction)  # in decorate function, decorating myfunction\n",
    "myfunction(\"hello\")  # Executing myfunction, hello"
   ]
  },
  {
   "cell_type": "markdown",
   "metadata": {},
   "source": [
    "A `decorator` is syntactic sugar for this process and lets you wrap one function inside another with a **one-line addition**. It still gives you exactly the same effect as the previous code, but the resulting code is much cleaner and easier to read.\n",
    "\n",
    "Very simply, using a decorator involves two parts: \n",
    "\n",
    "1. defining the function that will be wrapping or “decorating” other functions and \n",
    "2. then using an `@` followed by the decorator immediately before the wrapped function is defined.\n",
    "\n",
    "The decorator function should take a function as a parameter and return a function, as follows:\n"
   ]
  },
  {
   "cell_type": "code",
   "execution_count": null,
   "metadata": {},
   "outputs": [],
   "source": [
    "def decorate(func):\n",
    "    print(\"in decorate function, decorating\", func.__name__)\n",
    "\n",
    "    def wrapper_func(*args):\n",
    "        print(\"Executing\", func.__name__)\n",
    "        return func(*args)\n",
    "\n",
    "    return wrapper_func\n",
    "\n",
    "@decorate\n",
    "def myfunction(parameter):\n",
    "    print(parameter)\n",
    "\n",
    "# output: in decorate function, decorating myfunction                        \n",
    "myfunction(\"hello\") # Executing myfunction, hello"
   ]
  },
  {
   "cell_type": "markdown",
   "metadata": {},
   "source": [
    "The `decorate` function prints the name of the function it’s wrapping when the function is **defined**. When it’s finished, the decorator returns the wrapped function. `myfunction` is decorated using `@decorate`. The wrapped function is called after the decorator function has completed.\n",
    "\n",
    "Using a `decorator` to wrap one function in another can be handy for several purposes. In web frameworks such as `Django`, decorators are used to make sure that a user is logged in before executing a function; and in graphics libraries, decorators can be used to register a function with the graphics framework.\n"
   ]
  },
  {
   "cell_type": "code",
   "execution_count": null,
   "metadata": {},
   "outputs": [],
   "source": []
  }
 ],
 "metadata": {
  "file_extension": ".py",
  "kernelspec": {
   "display_name": "Python 3.9",
   "language": "python",
   "name": "py39"
  },
  "language_info": {
   "codemirror_mode": {
    "name": "ipython",
    "version": 3
   },
   "file_extension": ".py",
   "mimetype": "text/x-python",
   "name": "python",
   "nbconvert_exporter": "python",
   "pygments_lexer": "ipython3",
   "version": "3.9.2"
  },
  "mimetype": "text/x-python",
  "name": "python",
  "npconvert_exporter": "python",
  "pygments_lexer": "ipython3",
  "version": 3
 },
 "nbformat": 4,
 "nbformat_minor": 2
}
