{
 "nbformat": 4,
 "nbformat_minor": 2,
 "metadata": {
  "language_info": {
   "name": "python",
   "codemirror_mode": {
    "name": "ipython",
    "version": 3
   },
   "version": "3.7.6-final"
  },
  "orig_nbformat": 2,
  "file_extension": ".py",
  "mimetype": "text/x-python",
  "name": "python",
  "npconvert_exporter": "python",
  "pygments_lexer": "ipython3",
  "version": 3,
  "kernelspec": {
   "name": "python37664bitbaseconda6c222bf472ac4bd5bcb4f73402c25df7",
   "display_name": "Python 3.7.6 64-bit ('base': conda)"
  }
 },
 "cells": [
  {
   "cell_type": "markdown",
   "execution_count": null,
   "metadata": {},
   "outputs": [],
   "source": [
    "# Control Flow"
   ]
  },
  {
   "cell_type": "markdown",
   "execution_count": null,
   "metadata": {},
   "outputs": [],
   "source": [
    "## The while loop"
   ]
  },
  {
   "cell_type": "markdown",
   "execution_count": null,
   "metadata": {},
   "outputs": [],
   "source": [
    "You’ve come across the basic `while` loop several times already. The full `while` loop looks like this: \n",
    "\n",
    "```python\n",
    "while condition:\n",
    "    body\n",
    "else:\n",
    "    post-code\n",
    "```"
   ]
  },
  {
   "cell_type": "markdown",
   "execution_count": 1,
   "metadata": {},
   "outputs": [
    {
     "ename": "NameError",
     "evalue": "name 'condition' is not defined",
     "output_type": "error",
     "traceback": [
      "\u001b[1;31m---------------------------------------------------------------------------\u001b[0m",
      "\u001b[1;31mNameError\u001b[0m                                 Traceback (most recent call last)",
      "\u001b[1;32m<ipython-input-1-32c0ecb3cdad>\u001b[0m in \u001b[0;36m<module>\u001b[1;34m\u001b[0m\n\u001b[1;32m----> 1\u001b[1;33m \u001b[1;32mwhile\u001b[0m \u001b[0mcondition\u001b[0m\u001b[1;33m:\u001b[0m\u001b[1;33m\u001b[0m\u001b[1;33m\u001b[0m\u001b[0m\n\u001b[0m\u001b[0;32m      2\u001b[0m     \u001b[0mbody\u001b[0m\u001b[1;33m\u001b[0m\u001b[1;33m\u001b[0m\u001b[0m\n\u001b[0;32m      3\u001b[0m \u001b[1;32melse\u001b[0m\u001b[1;33m:\u001b[0m\u001b[1;33m\u001b[0m\u001b[1;33m\u001b[0m\u001b[0m\n\u001b[0;32m      4\u001b[0m     \u001b[0mpost\u001b[0m\u001b[1;33m-\u001b[0m\u001b[0mcode\u001b[0m\u001b[1;33m\u001b[0m\u001b[1;33m\u001b[0m\u001b[0m\n",
      "\u001b[1;31mNameError\u001b[0m: name 'condition' is not defined"
     ]
    }
   ],
   "source": [
    "`condition` is a Boolean expression—that is, one that evaluates to a `True` or `False` value. As long as it’s `True`, the body is executed repeatedly. When the condition evaluates to `False`, the `while` loop executes the post-code section and then terminates. If the condition starts out by being `False`, the body won’t be executed at all—just the post-code section. The body and post-code are each sequences of one or more Python statements that are separated by newlines and are at the same level of indentation. The Python interpreter uses this level to delimit them. No other delimiters, such as braces or brackets, are necessary. "
   ]
  },
  {
   "cell_type": "markdown",
   "execution_count": null,
   "metadata": {},
   "outputs": [],
   "source": [
    "Note that the `else` part of the `while` loop is optional and not often used. That’s because as long as there’s no `break` in the body, this loop \n",
    "\n",
    "```python\n",
    "while condition:\n",
    "    body\n",
    "else:\n",
    "    post-code\n",
    "```\n",
    "\n",
    "and this loop\n",
    "\n",
    "```python\n",
    "while condition:\n",
    "    body\n",
    "post-code\n",
    "```\n",
    "\n",
    "do the same things—and the second is simpler to understand. I probably wouldn’t mention the else clause except that if you don’t know about it, you may find it confusing if you run across this syntax in another person’s code. Also, it’s useful in some situations. \n"
   ]
  },
  {
   "cell_type": "markdown",
   "execution_count": null,
   "metadata": {},
   "outputs": [],
   "source": [
    "The two special statements `break` and `continue` can be used in the body of a `while` loop. If `break` is executed, it immediately **terminates** the `while` loop, and not even the post-code (if there is an `else` clause) is executed. If `continue` is executed, it causes the remainder of the body to be skipped over; the condition is evaluated again, and the loop proceeds as normal. "
   ]
  },
  {
   "cell_type": "markdown",
   "execution_count": null,
   "metadata": {},
   "outputs": [],
   "source": [
    "The if-elif-else statement"
   ]
  },
  {
   "cell_type": "markdown",
   "execution_count": null,
   "metadata": {},
   "outputs": [],
   "source": [
    "The most general form of the if-then-else construct in Python is\n",
    "\n",
    "```python\n",
    "if condition1:\n",
    "    body1\n",
    "elif condition2:\n",
    "    body2\n",
    "elif condition3:\n",
    "    body3\n",
    ".\n",
    ".\n",
    ".\n",
    "elif condition(n-1):\n",
    "    body(n-1)\n",
    "\n",
    "\n",
    "\n",
    "else:\n",
    "    body(n)\n",
    "```\n",
    "\n",
    "It says: If `condition1` is `True`, execute `body1`; otherwise, if `condition2` is `True`, execute `body2`; otherwise . . . and so on until it either finds a condition that evaluates to `True` or hits the `else` clause, in which case it executes body(n). As with the `while` loop, the body sections are again sequences of one or more Python statements that are separated by newlines and are at the same level of indentation. \n"
   ]
  },
  {
   "cell_type": "markdown",
   "execution_count": null,
   "metadata": {},
   "outputs": [],
   "source": [
    "You don’t need all that luggage for every conditional, of course. You can leave out the `elif` parts, the `else` part, or both. If a conditional can’t find any body to execute (no conditions evaluate to True, and there’s no else part), it does nothing. "
   ]
  },
  {
   "cell_type": "markdown",
   "execution_count": null,
   "metadata": {},
   "outputs": [],
   "source": [
    "## The for loop"
   ]
  },
  {
   "cell_type": "markdown",
   "execution_count": null,
   "metadata": {},
   "outputs": [],
   "source": [
    "A `for` loop in Python is different from `for` loops in some other languages. The traditional pattern is to increment and test a variable on each iteration, which is what C for loops usually do. In Python, a `for` loop **iterates over the values returned by any **iterable object—that** is, any object that can yield a sequence of values. For example, a `for` loop can iterate over every element in a `list`, a `tuple`, or a `string`. But an iterable object can also be a special function called `range` or a special type of function called a `generator` or a `generator expression`, which can be quite powerful. The general form is \n",
    "\n",
    "```python\n",
    "for item in sequence:\n",
    "    body\n",
    "else:\n",
    "    post-code\n",
    "```\n",
    "\n",
    "`body` is executed once for each element of sequence. `item` is set to be the first element of sequence, and `body` is executed; then `item` is set to be the second element of sequence, and `body` is executed, and so on for each remaining element of the sequence.\n",
    "\n",
    "The `else` part is optional. Like the `else` part of a `while` loop, it’s rarely used. `break` and `continue` do the same thing in a `for` loop as in a `while` loop.\n"
   ]
  },
  {
   "cell_type": "code",
   "execution_count": 8,
   "metadata": {},
   "outputs": [
    {
     "name": "stdout",
     "output_type": "stream",
     "text": "1.0\n0.5\n0.3333333333333333\n"
    }
   ],
   "source": [
    "x = [1.0, 2.0, 3.0]\n",
    "\n",
    "for n in x:\n",
    "    print(1 / n)"
   ]
  },
  {
   "cell_type": "markdown",
   "execution_count": null,
   "metadata": {},
   "outputs": [],
   "source": [
    "### The range function"
   ]
  },
  {
   "cell_type": "markdown",
   "execution_count": null,
   "metadata": {},
   "outputs": [],
   "source": [
    "The `range` function provides a convenient way of creating list of natural numbers. The default behavior of `range(n)`, when passing only a single argument, is to create a list of integers, starting from `0` and ending with `n-1`:"
   ]
  },
  {
   "cell_type": "code",
   "execution_count": 23,
   "metadata": {},
   "outputs": [
    {
     "name": "stdout",
     "output_type": "stream",
     "text": "[0, 1, 2, 3, 4, 5, 6, 7, 8, 9]\n"
    }
   ],
   "source": [
    "x = range(10)\n",
    "\n",
    "print(list(x))  # [0, 1, 2, 3, 4, 5, 6, 7, 8, 9]"
   ]
  },
  {
   "cell_type": "markdown",
   "execution_count": null,
   "metadata": {},
   "outputs": [],
   "source": [
    "Because `range` returns an iterable object, it can be used in combination with the `for` loop:"
   ]
  },
  {
   "cell_type": "code",
   "execution_count": 24,
   "metadata": {},
   "outputs": [
    {
     "name": "stdout",
     "output_type": "stream",
     "text": "0\n1\n2\n3\n4\n5\n6\n7\n8\n9\n"
    }
   ],
   "source": [
    "for i in range(10):\n",
    "    print(i)"
   ]
  },
  {
   "cell_type": "markdown",
   "execution_count": null,
   "metadata": {},
   "outputs": [],
   "source": [
    " The `range` function doesn’t build a Python `list` of integers; it just appears to. Instead, it creates a `range object` that produces integers on demand. This is useful when you’re using explicit loops to iterate over **really large lists**. Instead of building a list with 10 million elements in it, for example, which would take up quite a bit of memory, you can use `range(10000000)`, which takes up only a small amount of memory and generates a sequence of integers from 0 up to (but not including) 10000000 as needed by the for loop. "
   ]
  },
  {
   "cell_type": "code",
   "execution_count": 26,
   "metadata": {},
   "outputs": [
    {
     "name": "stdout",
     "output_type": "stream",
     "text": "9112\n48\n"
    }
   ],
   "source": [
    "import sys\n",
    "\n",
    "x = list(range(1000))\n",
    "y = range(1000)\n",
    "\n",
    "print(sys.getsizeof(x))  # 9112\n",
    "\n",
    "print(sys.getsizeof(y))  # 48"
   ]
  },
  {
   "cell_type": "markdown",
   "execution_count": null,
   "metadata": {},
   "outputs": [],
   "source": [
    "You can use two variants on the `range` function to gain more control over the sequence it produces. If you use `range` with two numeric arguments, the first argument is the **starting number** for the resulting sequence, and the second number is the number the resulting sequence **goes up to** (but doesn’t include). Here are a few examples: "
   ]
  },
  {
   "cell_type": "code",
   "execution_count": 27,
   "metadata": {},
   "outputs": [
    {
     "name": "stdout",
     "output_type": "stream",
     "text": "[3, 4, 5, 6]\n[2, 3, 4, 5, 6, 7, 8, 9]\n[]\n"
    }
   ],
   "source": [
    "print(list(range(3, 7)))  # [3, 4, 5, 6]\n",
    "\n",
    "print(list(range(2, 10)))  # [2, 3, 4, 5, 6, 7, 8, 9]\n",
    "\n",
    "print(list(range(5, 3)))  # []"
   ]
  },
  {
   "cell_type": "markdown",
   "execution_count": null,
   "metadata": {},
   "outputs": [],
   "source": [
    "`list()` is used only to force the items range would generate to appear as a list. It’s not normally used in actual code."
   ]
  },
  {
   "cell_type": "markdown",
   "execution_count": null,
   "metadata": {},
   "outputs": [],
   "source": [
    "This still doesn’t allow you to count backward, which is why the value of list(range(5, 3)) is an empty list. To count backward, or to count by any amount other than 1, you need to use the optional `third` argument to range, which gives a `step` value by which counting proceeds: "
   ]
  },
  {
   "cell_type": "code",
   "execution_count": 28,
   "metadata": {},
   "outputs": [
    {
     "name": "stdout",
     "output_type": "stream",
     "text": "[0, 2, 4, 6, 8]\n[5, 4, 3, 2, 1]\n"
    }
   ],
   "source": [
    "print(list(range(0, 10, 2)))  # [0, 2, 4, 6, 8]\n",
    "\n",
    "print(list(range(5, 0, -1)))  # [5, 4, 3, 2, 1]"
   ]
  },
  {
   "cell_type": "markdown",
   "execution_count": null,
   "metadata": {},
   "outputs": [],
   "source": [
    "### The for loop and tuple unpacking "
   ]
  },
  {
   "cell_type": "markdown",
   "execution_count": null,
   "metadata": {},
   "outputs": [],
   "source": [
    "You can use **tuple unpacking** to make some `for` loops cleaner. The following code takes a list of two-element tuples and calculates the value of the sum of the products of the two numbers in each tuple (a moderately common mathematical operation in some fields): "
   ]
  },
  {
   "cell_type": "code",
   "execution_count": 29,
   "metadata": {},
   "outputs": [
    {
     "name": "stdout",
     "output_type": "stream",
     "text": "68\n"
    }
   ],
   "source": [
    "somelist = [(1, 2), (3, 7), (9, 5)]\n",
    "\n",
    "result = 0\n",
    "for t in somelist:\n",
    "    result += t[0] * t[1]\n",
    "\n",
    "print(result)  # 68"
   ]
  },
  {
   "cell_type": "markdown",
   "execution_count": null,
   "metadata": {},
   "outputs": [],
   "source": [
    "Here’s the same thing, but cleaner:"
   ]
  },
  {
   "cell_type": "code",
   "execution_count": 31,
   "metadata": {},
   "outputs": [
    {
     "name": "stdout",
     "output_type": "stream",
     "text": "68\n"
    }
   ],
   "source": [
    "somelist = [(1, 2), (3, 7), (9, 5)]\n",
    "\n",
    "result = 0\n",
    "for x, y in somelist:\n",
    "    result += x * y\n",
    "\n",
    "print(result)  # 68"
   ]
  },
  {
   "cell_type": "markdown",
   "execution_count": null,
   "metadata": {},
   "outputs": [],
   "source": [
    "This is much clearer in communicating to the reader of the code, that `somelist` actually contains pairs of numbers."
   ]
  },
  {
   "cell_type": "markdown",
   "execution_count": null,
   "metadata": {},
   "outputs": [],
   "source": [
    "## The enumerate function"
   ]
  },
  {
   "cell_type": "markdown",
   "execution_count": null,
   "metadata": {},
   "outputs": [],
   "source": [
    "You can combine tuple unpacking with the `enumerate` function to loop over both the **items and their index**. This is similar to using range but has the advantage that the code is clearer and easier to understand. Like the previous example, the following code prints out all the positions in a list where it finds negative numbers: "
   ]
  },
  {
   "cell_type": "code",
   "execution_count": 32,
   "metadata": {},
   "outputs": [
    {
     "name": "stdout",
     "output_type": "stream",
     "text": "Found a negative number at index  2\nFound a negative number at index  5\n"
    }
   ],
   "source": [
    "x = [1, 3, -7, 4, 9, -5, 4]\n",
    "\n",
    "for i, n in enumerate(x):                                \n",
    "    if n < 0:                                            \n",
    "        print(\"Found a negative number at index \", i)    "
   ]
  },
  {
   "cell_type": "markdown",
   "execution_count": null,
   "metadata": {},
   "outputs": [],
   "source": [
    "The enumerate function returns tuples of (index, item), which, thanks to tuple unpacking, can be used directly as variables within the body of the `for` loop."
   ]
  },
  {
   "cell_type": "markdown",
   "execution_count": null,
   "metadata": {},
   "outputs": [],
   "source": [
    "## The zip function"
   ]
  },
  {
   "cell_type": "markdown",
   "execution_count": null,
   "metadata": {},
   "outputs": [],
   "source": [
    "Sometimes, it’s useful to combine **two or more iterables** before looping over them. The `zip` function takes the corresponding elements from one or more iterables and **combines them into tuples** until it reaches the end of the shortest iterable: "
   ]
  },
  {
   "cell_type": "code",
   "execution_count": 36,
   "metadata": {},
   "outputs": [
    {
     "name": "stdout",
     "output_type": "stream",
     "text": "[(1, 'a'), (2, 'b'), (3, 'c')]\n"
    }
   ],
   "source": [
    "x = [1, 2, 3, 4]\n",
    "y = ['a', 'b', 'c']\n",
    "\n",
    "print(list(zip(x, y))) # [(1, 'a'), (2, 'b'), (3, 'c')]"
   ]
  },
  {
   "cell_type": "markdown",
   "execution_count": null,
   "metadata": {},
   "outputs": [],
   "source": [
    "Again, we have to use `list` here to transform the generator that is returned by the `zip` function into an actual list that can be printed out. Thus, you can use `zip` with very long lists and don't have to worry about memory."
   ]
  },
  {
   "cell_type": "markdown",
   "execution_count": null,
   "metadata": {},
   "outputs": [],
   "source": [
    "> TRY THIS\n",
    "\n",
    "\n",
    "Suppose that you have a list `x = [1, 3, 5, 0, -1, 3, -2]`, and you need to remove all negative numbers from that list. Write the code to do this.\n",
    "\n",
    "How would you count the total number of negative numbers in a list `y = [[1, -1, 0], [2, 5, -9], [-2, -3, 0]]`?\n",
    "\n",
    "What code would you use to print \"very low\" if the value of `x` is below `-5`, \"low\" if it’s from `-5` up to `0`, \"neutral\" if it’s equal to `0`, \"high\" if it’s greater than `0` up to `5`, and \"very high\" if it’s greater than `5`?\n"
   ]
  },
  {
   "cell_type": "markdown",
   "execution_count": null,
   "metadata": {},
   "outputs": [],
   "source": [
    "##  List and dictionary comprehensions"
   ]
  },
  {
   "cell_type": "markdown",
   "execution_count": null,
   "metadata": {},
   "outputs": [],
   "source": [
    "The pattern of using a `for` loop to iterate through a list, modify or select individual elements, and create a new list or dictionary is very common. Such loops often look a lot like the following: "
   ]
  },
  {
   "cell_type": "code",
   "execution_count": 37,
   "metadata": {},
   "outputs": [
    {
     "name": "stdout",
     "output_type": "stream",
     "text": "[1, 4, 9, 16]\n"
    }
   ],
   "source": [
    "x = [1, 2, 3, 4]\n",
    "x_squared = []\n",
    "\n",
    "for item in x:\n",
    "    x_squared.append(item * item)\n",
    "\n",
    "print(x_squared)  # [1, 4, 9, 16]"
   ]
  },
  {
   "cell_type": "markdown",
   "execution_count": null,
   "metadata": {},
   "outputs": [],
   "source": [
    "This sort of situation is so common that Python has a special **shortcut** for such operations, called a `comprehension`. You can think of a **list or dictionary comprehension** as a **one-line for loop** that **creates a new list** or dictionary from a sequence. The pattern of a list comprehension is as follows: \n",
    "\n",
    "```python\n",
    "new_list = [expression1 for variable in old_list if expression2]\n",
    "```\n",
    "\n",
    "and a dictionary comprehension looks like this:\n",
    "\n",
    "```python\n",
    "new_dict = {expression1:expression2 for variable in list if expression3}\n",
    "```\n"
   ]
  },
  {
   "cell_type": "markdown",
   "execution_count": null,
   "metadata": {},
   "outputs": [],
   "source": [
    "In both cases, the heart of the expression is similar to the beginning of a `for` loop—for variable in list—with some expression using that variable to create a new key or value and an optional conditional expression using the value of the variable to select whether it’s included in the new list or dictionary. The following code does exactly the same thing as the previous code but is a list comprehension: "
   ]
  },
  {
   "cell_type": "code",
   "execution_count": 38,
   "metadata": {},
   "outputs": [
    {
     "name": "stdout",
     "output_type": "stream",
     "text": "[1, 4, 9, 16]\n"
    }
   ],
   "source": [
    "x = [1, 2, 3, 4]\n",
    "x_squared = [item * item for item in x]\n",
    "\n",
    "print(x_squared)  # [1, 4, 9, 16]"
   ]
  },
  {
   "cell_type": "markdown",
   "execution_count": null,
   "metadata": {},
   "outputs": [],
   "source": [
    "Using the `range` function, we can further condense this code:"
   ]
  },
  {
   "cell_type": "code",
   "execution_count": 41,
   "metadata": {},
   "outputs": [
    {
     "name": "stdout",
     "output_type": "stream",
     "text": "[1, 4, 9, 16]\n"
    }
   ],
   "source": [
    "x_squared = [item * item for item in range(1,5)]\n",
    "\n",
    "print(x_squared)  # [1, 4, 9, 16]"
   ]
  },
  {
   "cell_type": "markdown",
   "execution_count": null,
   "metadata": {},
   "outputs": [],
   "source": [
    "You can even use `if` statements to select items from the list: "
   ]
  },
  {
   "cell_type": "code",
   "execution_count": 42,
   "metadata": {},
   "outputs": [
    {
     "name": "stdout",
     "output_type": "stream",
     "text": "[9, 16]\n"
    }
   ],
   "source": [
    "x = [1, 2, 3, 4]\n",
    "x_squared = [item * item for item in x if item > 2]\n",
    "\n",
    "print(x_squared)  # [9, 16]"
   ]
  },
  {
   "cell_type": "markdown",
   "execution_count": null,
   "metadata": {},
   "outputs": [],
   "source": [
    "Dictionary comprehensions are similar, but you need to supply both a `key` and a `value`. If you want to do something similar to the previous example but have the number be the key and the number’s square be the value in a dictionary, you can use a dictionary comprehension, like so: "
   ]
  },
  {
   "cell_type": "code",
   "execution_count": 43,
   "metadata": {},
   "outputs": [
    {
     "name": "stdout",
     "output_type": "stream",
     "text": "{1: 1, 2: 4, 3: 9, 4: 16}\n"
    }
   ],
   "source": [
    "x = [1, 2, 3, 4]\n",
    "x_squared_dict = {item: item * item for item in x}\n",
    "\n",
    "print(x_squared_dict)  # {1: 1, 2: 4, 3: 9, 4: 16}"
   ]
  },
  {
   "cell_type": "markdown",
   "execution_count": null,
   "metadata": {},
   "outputs": [],
   "source": [
    "List and dictionary comprehensions are very flexible and powerful, and when you get used to them, they make list-processing operations much simpler. I recommend that you experiment with them and try them any time you find yourself writing a for loop to process a list of items. "
   ]
  },
  {
   "cell_type": "markdown",
   "execution_count": null,
   "metadata": {},
   "outputs": [],
   "source": [
    "### Generator expressions"
   ]
  },
  {
   "cell_type": "markdown",
   "execution_count": null,
   "metadata": {},
   "outputs": [],
   "source": [
    "Generator expressions are similar to list comprehensions. A generator expression looks a lot like a list comprehension, except that in place of **square brackets**, it uses **parentheses**. The following example is the generator-expression version of the list comprehension already discussed: "
   ]
  },
  {
   "cell_type": "code",
   "execution_count": 46,
   "metadata": {},
   "outputs": [
    {
     "name": "stdout",
     "output_type": "stream",
     "text": "<generator object <genexpr> at 0x000001B058A80BC8>\n1\n4\n9\n16\n"
    }
   ],
   "source": [
    "x = [1, 2, 3, 4]\n",
    "x_squared = (item * item for item in x)\n",
    "\n",
    "print(x_squared)  # <generator object <genexpr> at 0x102176708>\n",
    "\n",
    "for square in x_squared:\n",
    "    print(square)"
   ]
  }
 ]
}