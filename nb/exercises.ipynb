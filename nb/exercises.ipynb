{
 "cells": [
  {
   "cell_type": "markdown",
   "id": "known-substitute",
   "metadata": {},
   "source": [
    "# Python exercises\n",
    "\n",
    "https://pythonistaplanet.com/python-programming-exercises-and-solutions\n"
   ]
  },
  {
   "cell_type": "markdown",
   "id": "american-musical",
   "metadata": {},
   "source": [
    "## 1 Python program to check whether the given number is even or not."
   ]
  },
  {
   "cell_type": "code",
   "execution_count": null,
   "id": "original-perth",
   "metadata": {},
   "outputs": [],
   "source": [
    "number = input(\"Enter a number \")\n",
    "x = ...\n",
    "\n",
    "if x ... 0:\n",
    "    print(\" The number is Even \")\n",
    "else:\n",
    "    print(\" The number is odd \")\n"
   ]
  },
  {
   "cell_type": "markdown",
   "id": "pretty-treaty",
   "metadata": {},
   "source": [
    "## 2 Python program to convert the temperature in degree centigrade to Fahrenheit\n",
    "\n",
    "$$ F = (C \\cdot \\frac{9}{5}) + 32 $$"
   ]
  },
  {
   "cell_type": "code",
   "execution_count": null,
   "id": "accurate-invitation",
   "metadata": {},
   "outputs": [],
   "source": [
    "c = input(\" Enter temperature in Centigrade: \")\n",
    "f = ...\n",
    "print(\" Temperature in Fahrenheit is: \", f)"
   ]
  },
  {
   "cell_type": "markdown",
   "id": "otherwise-pathology",
   "metadata": {},
   "source": [
    "## 3 Python program to find the area of a triangle whose sides are given\n",
    "\n",
    "$$ \\begin{align}A &= \\sqrt{s(s-a)(s-b)(s-c)} \\\\ s &= \\frac{a+b+c}{2} \\end{align}$$"
   ]
  },
  {
   "cell_type": "code",
   "execution_count": null,
   "id": "wireless-photograph",
   "metadata": {},
   "outputs": [],
   "source": [
    "import math\n",
    "a = float(input(\"Enter the length of side a: \"))\n",
    "b = float(input(\"Enter the length of side b: \"))\n",
    "c = float(input(\"Enter the length of side c: \"))\n",
    "s = ...\n",
    "area = math.sqrt(...)\n",
    "print(\" Area of the triangle is: \", area)"
   ]
  },
  {
   "cell_type": "markdown",
   "id": "sapphire-round",
   "metadata": {},
   "source": [
    "## 4 Python program to find out the average of a set of integers"
   ]
  },
  {
   "cell_type": "code",
   "execution_count": null,
   "id": "dominant-commerce",
   "metadata": {},
   "outputs": [],
   "source": [
    "count = int(input(\"Enter the count of numbers: \"))\n",
    "i = 0\n",
    "sum_ = 0\n",
    "\n",
    "for i in ...:\n",
    "    x = int(input(\"Enter an integer: \"))\n",
    "    sum_ = ...\n",
    "    \n",
    "avg = ...\n",
    "print(\" The average is: \", avg)"
   ]
  },
  {
   "cell_type": "code",
   "execution_count": null,
   "id": "brown-carroll",
   "metadata": {},
   "outputs": [],
   "source": [
    "# find the min/max number\n",
    "..."
   ]
  },
  {
   "cell_type": "markdown",
   "id": "compressed-carbon",
   "metadata": {},
   "source": [
    "## 5 Python program to find the product of a set of real numbers"
   ]
  },
  {
   "cell_type": "code",
   "execution_count": null,
   "id": "unlike-gardening",
   "metadata": {},
   "outputs": [],
   "source": [
    "count = int(input(\"Enter the number of real numbers: \"))\n",
    "i = 0\n",
    "product = 1\n",
    "\n",
    "for i in ...:\n",
    "    x = float(input(\"Enter a real number: \"))\n",
    "    product = ...\n",
    "    \n",
    "print(\"The product of the numbers is: \", product)"
   ]
  },
  {
   "cell_type": "markdown",
   "id": "intensive-registration",
   "metadata": {},
   "source": [
    "## 6 Python program to find the circumference and area of a circle with a given radius\n",
    "\n",
    "$$ \\text{Umfang}=2\\cdot\\pi{}r $$\n",
    "$$ A = \\pi{}r^2 $$"
   ]
  },
  {
   "cell_type": "code",
   "execution_count": null,
   "id": "applied-portrait",
   "metadata": {},
   "outputs": [],
   "source": [
    "import math\n",
    "\n",
    "r = float(input(\"Input the radius of the circle: \"))\n",
    "c = ...\n",
    "area = ...\n",
    "\n",
    "print(\"The circumference of the circle is: \", c)\n",
    "print(\"The area of the circle is: \", area)"
   ]
  },
  {
   "cell_type": "markdown",
   "id": "sudden-arabic",
   "metadata": {},
   "source": [
    "## 7 Python program to check whether the given integer is a multiple of 5"
   ]
  },
  {
   "cell_type": "code",
   "execution_count": null,
   "id": "selective-domain",
   "metadata": {},
   "outputs": [],
   "source": [
    "number = int(input(\"Enter an integer: \"))\n",
    "\n",
    "if ...:\n",
    "    print(number, \"is a multile of 5\")\n",
    "else:\n",
    "    print(number, \"is not a multiple of 5\")"
   ]
  },
  {
   "cell_type": "markdown",
   "id": "dying-transcript",
   "metadata": {},
   "source": [
    "## 8 Python program to check whether the given integer is a multiple of both 5 and 7"
   ]
  },
  {
   "cell_type": "code",
   "execution_count": null,
   "id": "relative-ethernet",
   "metadata": {},
   "outputs": [],
   "source": [
    "number = int(input(\"Enter an integer: \"))\n",
    "\n",
    "if ...:\n",
    "    print(number, \"is a multile of both 5 and 7\")\n",
    "else:\n",
    "    print(number, \"is not a multiple of both 5 and 7\")"
   ]
  },
  {
   "cell_type": "markdown",
   "id": "funky-contact",
   "metadata": {},
   "source": [
    "## 9 Python program to find the average of 10 numbers using while loop"
   ]
  },
  {
   "cell_type": "code",
   "execution_count": null,
   "id": "third-yellow",
   "metadata": {},
   "outputs": [],
   "source": [
    "count = 0\n",
    "sum_ = 0.0\n",
    "\n",
    "while ...:\n",
    "    number = float(input(\"Enter a real number: \"))\n",
    "    count = ...\n",
    "    sum_ = ...\n",
    "    \n",
    "avg = ...\n",
    "print(\"Average is :\", avg)"
   ]
  },
  {
   "cell_type": "code",
   "execution_count": null,
   "id": "planned-phase",
   "metadata": {},
   "outputs": [],
   "source": [
    "# now abort only when user says so"
   ]
  },
  {
   "cell_type": "markdown",
   "id": "dedicated-healing",
   "metadata": {},
   "source": [
    " ## 10 Python program to display the given integer in reverse manner"
   ]
  },
  {
   "cell_type": "code",
   "execution_count": null,
   "id": "after-forwarding",
   "metadata": {},
   "outputs": [],
   "source": [
    "number = input(\"Enter a positive integer: \")\n",
    "rev = \"\"\n",
    "\n",
    "for r in number:\n",
    "    rev = ...\n",
    "    \n",
    "print(rev)"
   ]
  },
  {
   "cell_type": "code",
   "execution_count": null,
   "id": "enhanced-aging",
   "metadata": {},
   "outputs": [],
   "source": [
    "# solve this with a slice operator and the join command in one line\n",
    "number = input(\"Enter a positive integer: \")\n",
    "\n"
   ]
  },
  {
   "cell_type": "markdown",
   "id": "deadly-davis",
   "metadata": {},
   "source": [
    "## 15 Python program to check whether the given integer is a prime number or not"
   ]
  },
  {
   "cell_type": "code",
   "execution_count": null,
   "id": "noted-brake",
   "metadata": {},
   "outputs": [],
   "source": [
    "num = int(input(\"Enter an integer: \"))\n",
    "isprime = 1 #assuming that num is prime\n",
    "\n",
    "for i in ...:\n",
    "    if ...:\n",
    "        isprime = 0\n",
    "        break\n",
    "        \n",
    "if(isprime==1):\n",
    "    print(num, \"is a prime number\")\n",
    "else:\n",
    "    print(num, \"is not a prime number\")"
   ]
  },
  {
   "cell_type": "markdown",
   "id": "thorough-local",
   "metadata": {},
   "source": [
    "## 16 Python program to generate the prime numbers from 1 to N"
   ]
  },
  {
   "cell_type": "code",
   "execution_count": null,
   "id": "acceptable-gossip",
   "metadata": {},
   "outputs": [],
   "source": [
    "num =int(input(\"Enter the range: \"))\n",
    "\n",
    "for n in ...:\n",
    "    for i in ...:\n",
    "        if ...:\n",
    "            break\n",
    "    else:\n",
    "        print(n)  "
   ]
  },
  {
   "cell_type": "markdown",
   "id": "naked-assist",
   "metadata": {},
   "source": [
    "## 20 Python program to display the sum of n numbers using a list"
   ]
  },
  {
   "cell_type": "code",
   "execution_count": null,
   "id": "facial-electron",
   "metadata": {},
   "outputs": [],
   "source": [
    "numbers = []\n",
    "num = int(input('How many numbers: '))\n",
    "\n",
    "for n in ...:\n",
    "    x = int(input('Enter number '))\n",
    "    ...\n",
    "    \n",
    "print(\"Sum of numbers in the given list is :\", ...)"
   ]
  },
  {
   "cell_type": "markdown",
   "id": "utility-genius",
   "metadata": {},
   "source": [
    "## 23 Python program to find the odd numbers in an array"
   ]
  },
  {
   "cell_type": "code",
   "execution_count": null,
   "id": "devoted-shuttle",
   "metadata": {},
   "outputs": [],
   "source": [
    "numbers = [8,3,1,6,2,4,5,9]\n",
    "count = 0\n",
    "\n",
    "for ... in ...:\n",
    "    if ...:\n",
    "        count = ...\n",
    "        \n",
    "print(\"The number of odd numbers in the list are: \", count)"
   ]
  },
  {
   "cell_type": "markdown",
   "id": "adjustable-hazard",
   "metadata": {},
   "source": [
    "## 24 Python program to find the largest number in a list without using built-in functions"
   ]
  },
  {
   "cell_type": "code",
   "execution_count": null,
   "id": "amino-display",
   "metadata": {},
   "outputs": [],
   "source": [
    "numbers = [3,8,1,7,2,9,5,4]\n",
    "big = numbers[0]\n",
    "position = 0\n",
    "\n",
    "for ... in ...:\n",
    "    if ...:\n",
    "        big = ...\n",
    "        position = ...\n",
    "        \n",
    "print(\"The largest element is \", big, \" which is found at position \", position)"
   ]
  },
  {
   "cell_type": "markdown",
   "id": "organic-chart",
   "metadata": {},
   "source": [
    "## 27 Python program to check whether a string is palindrome or not"
   ]
  },
  {
   "cell_type": "code",
   "execution_count": null,
   "id": "nutritional-paper",
   "metadata": {},
   "outputs": [],
   "source": [
    "def reverse_string(text):\n",
    "    return ...\n",
    "\n",
    "def is_palindrome(text):\n",
    "    rev_string = reverse_string(text)\n",
    "    \n",
    "    if ...:\n",
    "        print(\"The string is palindrome\")\n",
    "    else:\n",
    "        print(\"The string is not palindrome\")\n",
    "\n",
    "s = input(\"Enter a string: \")\n",
    "\n",
    "is_palindrome(s)"
   ]
  },
  {
   "cell_type": "markdown",
   "id": "taken-complaint",
   "metadata": {},
   "source": [
    "## 28 Python program to implement matrix addition"
   ]
  },
  {
   "cell_type": "code",
   "execution_count": null,
   "id": "circular-louisville",
   "metadata": {},
   "outputs": [],
   "source": [
    "X = [\n",
    "    [8,5,1],\n",
    "    [9,3,2],\n",
    "    [4b,6,3]\n",
    "]\n",
    "Y = [\n",
    "    [8,5,3],\n",
    "    [9,5,7],\n",
    "    [9,4,1]\n",
    "]\n",
    "result = [\n",
    "    [0,0,0],\n",
    "    [0,0,0],\n",
    "    [0,0,0]\n",
    "]\n",
    "\n",
    "for i in ...:\n",
    "    for j in ...:\n",
    "        result = ...\n",
    "        \n",
    "for k in result:\n",
    "    print(k)"
   ]
  },
  {
   "cell_type": "markdown",
   "id": "daily-competition",
   "metadata": {},
   "source": [
    "## 33 Python program to print all the items in a dictionary"
   ]
  },
  {
   "cell_type": "code",
   "execution_count": null,
   "id": "stylish-outreach",
   "metadata": {},
   "outputs": [],
   "source": [
    "phone_book = {\n",
    "'John' : [ '8592970000', 'john@xyzmail.com' ],\n",
    "'Bob': [ '7994880000', 'bob@xyzmail.com' ],\n",
    "'Tom' : [ '9749552647' , 'tom@xyzmail.com' ]\n",
    "}\n",
    "\n",
    "for k,v in phone_book.items():\n",
    "    print(...) # use f-string"
   ]
  },
  {
   "cell_type": "markdown",
   "id": "another-creature",
   "metadata": {},
   "source": [
    "##  34 Python program to implement a calculator to do basic operations"
   ]
  },
  {
   "cell_type": "code",
   "execution_count": null,
   "id": "structural-automation",
   "metadata": {},
   "outputs": [],
   "source": [
    "def add(x,y):\n",
    "    print(x+y)\n",
    "    \n",
    "def subtract(x,y):\n",
    "    print(x-y)\n",
    "    \n",
    "def multiply(x,y):\n",
    "    print(x*y)\n",
    "    \n",
    "def divide(x,y):\n",
    "    print(x/y)\n",
    "    \n",
    "print(\"Enter two numbers\")\n",
    "n1=input()\n",
    "n2=input()\n",
    "\n",
    "op=input(\"Enter the operation +,-,,/ \") \n",
    "\n",
    "if ...:\n",
    "    ...\n",
    "elif ...:\n",
    "    ...\n",
    "elif ...:\n",
    "    ...\n",
    "elif ...:\n",
    "    ...\n",
    "else:\n",
    "    print(\" Invalid entry \")"
   ]
  },
  {
   "cell_type": "code",
   "execution_count": null,
   "id": "latest-composite",
   "metadata": {},
   "outputs": [],
   "source": [
    "## redo the exercise with a dictionary"
   ]
  },
  {
   "cell_type": "markdown",
   "id": "optimum-charles",
   "metadata": {},
   "source": [
    "## 35 Python program to draw a circle of squares using Turtle"
   ]
  },
  {
   "cell_type": "code",
   "execution_count": null,
   "id": "selective-brooklyn",
   "metadata": {},
   "outputs": [],
   "source": [
    "!pip install turtle"
   ]
  },
  {
   "cell_type": "code",
   "execution_count": null,
   "id": "threaded-award",
   "metadata": {},
   "outputs": [],
   "source": [
    "import turtle\n",
    "x=turtle.Turtle()\n",
    "\n",
    "\n",
    "def square(angle):\n",
    "    x.forward(100)\n",
    "    x.right(angle)\n",
    "    x.forward(100)\n",
    "    x.right(angle)\n",
    "    x.forward(100)\n",
    "    x.right(angle)\n",
    "    x.forward(100)\n",
    "    x.right(angle+10)\n",
    "\n",
    "for i in range(36):\n",
    "    square(90)\n"
   ]
  },
  {
   "cell_type": "code",
   "execution_count": null,
   "id": "pleased-burner",
   "metadata": {},
   "outputs": [],
   "source": []
  }
 ],
 "metadata": {
  "kernelspec": {
   "display_name": "Python 3.9",
   "language": "python",
   "name": "py39"
  },
  "language_info": {
   "codemirror_mode": {
    "name": "ipython",
    "version": 3
   },
   "file_extension": ".py",
   "mimetype": "text/x-python",
   "name": "python",
   "nbconvert_exporter": "python",
   "pygments_lexer": "ipython3",
   "version": "3.9.2"
  }
 },
 "nbformat": 4,
 "nbformat_minor": 5
}
