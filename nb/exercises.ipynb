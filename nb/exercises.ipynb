{
 "cells": [
  {
   "cell_type": "markdown",
   "id": "delayed-walker",
   "metadata": {},
   "source": [
    "# Python exercises\n",
    "\n",
    "https://pythonistaplanet.com/python-programming-exercises-and-solutions\n"
   ]
  },
  {
   "cell_type": "code",
   "execution_count": null,
   "id": "beautiful-latitude",
   "metadata": {},
   "outputs": [],
   "source": [
    "import math\n",
    "import time"
   ]
  },
  {
   "cell_type": "markdown",
   "id": "mineral-columbia",
   "metadata": {},
   "source": [
    "## 1 Python program to check whether the given number is even or not."
   ]
  },
  {
   "cell_type": "code",
   "execution_count": null,
   "id": "unable-bishop",
   "metadata": {},
   "outputs": [],
   "source": [
    "number = input(\"Enter a number \")\n",
    "x = ...\n",
    "\n",
    "if x ... 0:\n",
    "    print(\" The number is Even \")\n",
    "else:\n",
    "    print(\" The number is odd \")\n"
   ]
  },
  {
   "cell_type": "code",
   "execution_count": null,
   "id": "toxic-pottery",
   "metadata": {},
   "outputs": [],
   "source": [
    "number = input()\n",
    "type(number)"
   ]
  },
  {
   "cell_type": "markdown",
   "id": "handmade-thickness",
   "metadata": {},
   "source": [
    "## 2 Python program to convert the temperature in degree centigrade to Fahrenheit\n",
    "\n",
    "$$ F = (C \\cdot \\frac{9}{5}) + 32 $$"
   ]
  },
  {
   "cell_type": "code",
   "execution_count": null,
   "id": "coated-schema",
   "metadata": {},
   "outputs": [],
   "source": [
    "c = input(\" Enter temperature in Centigrade: \")\n",
    "f = ...\n",
    "print(\" Temperature in Fahrenheit is: \", f)"
   ]
  },
  {
   "cell_type": "markdown",
   "id": "pressing-fever",
   "metadata": {},
   "source": [
    "## 3 Python program to find the area of a triangle whose sides are given\n",
    "\n",
    "$$ \\begin{align}A &= \\sqrt{s(s-a)(s-b)(s-c)} \\\\ s &= \\frac{a+b+c}{2} \\end{align}$$"
   ]
  },
  {
   "cell_type": "code",
   "execution_count": null,
   "id": "consistent-mailing",
   "metadata": {},
   "outputs": [],
   "source": [
    "a = float(input(\"Enter the length of side a: \"))\n",
    "b = float(input(\"Enter the length of side b: \"))\n",
    "c = float(input(\"Enter the length of side c: \"))\n",
    "s = ...\n",
    "area = math.sqrt(...)\n",
    "print(\" Area of the triangle is: \", area)"
   ]
  },
  {
   "cell_type": "code",
   "execution_count": null,
   "id": "instrumental-senegal",
   "metadata": {},
   "outputs": [],
   "source": [
    "math.cos"
   ]
  },
  {
   "cell_type": "markdown",
   "id": "failing-smooth",
   "metadata": {},
   "source": [
    "## 4 Python program to find out the average of a set of integers"
   ]
  },
  {
   "cell_type": "code",
   "execution_count": null,
   "id": "alert-constraint",
   "metadata": {},
   "outputs": [],
   "source": [
    "count = int(input(\"Enter the count of numbers: \"))\n",
    "i = 0\n",
    "sum_ = 0\n",
    "\n",
    "for _ in range(count):  # 0,1,...,count-1\n",
    "    x = int(input(\"Enter an integer: \"))\n",
    "    sum_ += x  # -=, +=, /=, *=, %=\n",
    "    \n",
    "avg = sum_/count\n",
    "print(f\"The average is: {avg}.\")"
   ]
  },
  {
   "cell_type": "code",
   "execution_count": null,
   "id": "apparent-freeze",
   "metadata": {},
   "outputs": [],
   "source": [
    "# find the min/max number ohne liste\n",
    "count = int(input(\"Enter the count of numbers: \"))\n",
    "i = 0\n",
    "sum_ = 0\n",
    "max_value = None\n",
    "\n",
    "for _ in range(count):  # 0,1,...,count-1\n",
    "    x = int(input(\"Enter an integer: \"))\n",
    "    # ist x größer als bisheriger max_value\n",
    "    if max_value is None:\n",
    "        max_value = x\n",
    "    elif x > max_value:\n",
    "        max_value = x   \n",
    "    else:\n",
    "        print(\"tue erstmal nichts\")\n",
    "        pass\n",
    "        break # bricht Schleife ab\n",
    "        continue # setzt die Schleife im nächsten Durchgang fort\n",
    "    \n",
    "print(f\"The maximum is: {max_value}.\")"
   ]
  },
  {
   "cell_type": "code",
   "execution_count": null,
   "id": "least-amount",
   "metadata": {},
   "outputs": [],
   "source": [
    "# mit liste -> min/max eingebaut\n",
    "count = int(input(\"Enter the count of numbers: \"))\n",
    "numbers = [] # list()\n",
    "\n",
    "for _ in range(count):  # 0,1,...,count-1\n",
    "    x = int(input(\"Enter an integer: \"))\n",
    "    numbers.append(x) # x muss singulär, wenn x liste -> extend\n",
    "    \n",
    "print(f\"The maximum is: {max(numbers)}.\")"
   ]
  },
  {
   "cell_type": "markdown",
   "id": "spatial-tomorrow",
   "metadata": {},
   "source": [
    "## 5 Python program to find the product of a set of real numbers"
   ]
  },
  {
   "cell_type": "code",
   "execution_count": null,
   "id": "african-cycling",
   "metadata": {},
   "outputs": [],
   "source": [
    "count = int(input(\"Enter the number of real numbers: \"))\n",
    "i = 0\n",
    "product = 1\n",
    "\n",
    "for i in ...:\n",
    "    x = float(input(\"Enter a real number: \"))\n",
    "    product *= ...\n",
    "    \n",
    "print(\"The product of the numbers is: \", product)"
   ]
  },
  {
   "cell_type": "markdown",
   "id": "coral-velvet",
   "metadata": {},
   "source": [
    "## 6 Python program to find the circumference and area of a circle with a given radius\n",
    "\n",
    "$$ \\text{Umfang}=2\\cdot\\pi{}r $$\n",
    "$$ A = \\pi{}r^2 $$"
   ]
  },
  {
   "cell_type": "code",
   "execution_count": null,
   "id": "wireless-assignment",
   "metadata": {},
   "outputs": [],
   "source": [
    "import math\n",
    "\n",
    "r = float(input(\"Input the radius of the circle: \"))\n",
    "c = ...\n",
    "area = ...\n",
    "\n",
    "print(\"The circumference of the circle is: \", c)\n",
    "print(\"The area of the circle is: \", area)"
   ]
  },
  {
   "cell_type": "markdown",
   "id": "vocal-scientist",
   "metadata": {},
   "source": [
    "## 7 Python program to check whether the given integer is a multiple of 5"
   ]
  },
  {
   "cell_type": "code",
   "execution_count": null,
   "id": "complex-destination",
   "metadata": {},
   "outputs": [],
   "source": [
    "number = int(input(\"Enter an integer: \"))\n",
    "\n",
    "if ...:\n",
    "    print(number, \"is a multile of 5\")\n",
    "else:\n",
    "    print(number, \"is not a multiple of 5\")"
   ]
  },
  {
   "cell_type": "markdown",
   "id": "attractive-coordinator",
   "metadata": {},
   "source": [
    "## 8 Python program to check whether the given integer is a multiple of both 5 and 7"
   ]
  },
  {
   "cell_type": "code",
   "execution_count": null,
   "id": "innocent-access",
   "metadata": {},
   "outputs": [],
   "source": [
    "number = int(input(\"Enter an integer: \"))\n",
    "\n",
    "if () () :\n",
    "    print(number, \"is a multile of both 5 and 7\")\n",
    "else:\n",
    "    print(number, \"is not a multiple of both 5 and 7\")"
   ]
  },
  {
   "cell_type": "code",
   "execution_count": null,
   "id": "saving-disney",
   "metadata": {},
   "outputs": [],
   "source": [
    "1 < 3 < 10"
   ]
  },
  {
   "cell_type": "markdown",
   "id": "happy-feedback",
   "metadata": {},
   "source": [
    "## 9 Python program to find the average of 10 numbers using while loop"
   ]
  },
  {
   "cell_type": "code",
   "execution_count": null,
   "id": "electrical-queen",
   "metadata": {},
   "outputs": [],
   "source": [
    "count = 0\n",
    "sum_ = 0.0\n",
    "\n",
    "while ...:\n",
    "    number = float(input(\"Enter a real number: \"))\n",
    "    count = ...\n",
    "    sum_ = ...\n",
    "    \n",
    "avg = ...\n",
    "print(\"Average is :\", avg)"
   ]
  },
  {
   "cell_type": "code",
   "execution_count": null,
   "id": "planned-width",
   "metadata": {},
   "outputs": [],
   "source": [
    "# now abort only when user says so"
   ]
  },
  {
   "cell_type": "code",
   "execution_count": null,
   "id": "declared-antigua",
   "metadata": {},
   "outputs": [],
   "source": [
    "count = 0\n",
    "sum_ = 0.0\n",
    "answer = \"y\"\n",
    "\n",
    "while answer == \"y\":  # Endlosschleife\n",
    "    answer = input(\"More numbers? (y|n): \")  # string!\n",
    "    \n",
    "    if answer == \"y\":\n",
    "        number = float(input(\"Enter a real number: \"))\n",
    "        count += 1\n",
    "        sum_ += number\n",
    "    \n",
    "avg = sum_/count\n",
    "print(\"Average is :\", avg)"
   ]
  },
  {
   "cell_type": "markdown",
   "id": "responsible-donor",
   "metadata": {},
   "source": [
    " ## 10 Python program to display the given integer in reverse manner\n",
    " \n",
    " 123 -> 321"
   ]
  },
  {
   "cell_type": "code",
   "execution_count": null,
   "id": "posted-quest",
   "metadata": {},
   "outputs": [],
   "source": [
    "number = input(\"Enter a positive integer: \")\n",
    "rev = \"\"\n",
    "\n",
    "for r in number:\n",
    "    rev = r + rev\n",
    "    \n",
    "print(rev)"
   ]
  },
  {
   "cell_type": "code",
   "execution_count": null,
   "id": "acting-cliff",
   "metadata": {},
   "outputs": [],
   "source": [
    "number = input(\"Enter a positive integer: \")\n",
    "number[::-1]"
   ]
  },
  {
   "cell_type": "code",
   "execution_count": null,
   "id": "accredited-accountability",
   "metadata": {},
   "outputs": [],
   "source": [
    "# solve this with a slice operator and the join command in one line\n",
    "number = list(input(\"Enter a positive integer: \"))\n",
    "number.reverse()\n",
    "\n",
    "\"\".join(number)"
   ]
  },
  {
   "cell_type": "code",
   "execution_count": null,
   "id": "adopted-coral",
   "metadata": {},
   "outputs": [],
   "source": [
    "number = int(input(\"Enter a positive integer:\"))\n",
    "rev_number = \"\"\n",
    "\n",
    "while number > 0:\n",
    "    number, last_digit = divmod(number, 10)\n",
    "    rev_number += str(last_digit)\n",
    "\n",
    "rev_number"
   ]
  },
  {
   "cell_type": "code",
   "execution_count": null,
   "id": "plastic-border",
   "metadata": {},
   "outputs": [],
   "source": [
    "divmod(10, 3)  # 10 // 3, 10 % 3"
   ]
  },
  {
   "cell_type": "code",
   "execution_count": null,
   "id": "comparable-geneva",
   "metadata": {},
   "outputs": [],
   "source": [
    "divmod(123, 10), divmod(12, 10), divmod(1, 10)"
   ]
  },
  {
   "cell_type": "markdown",
   "id": "varying-traffic",
   "metadata": {},
   "source": [
    "## 15 Python program to check whether the given integer is a prime number or not"
   ]
  },
  {
   "cell_type": "code",
   "execution_count": null,
   "id": "loving-schema",
   "metadata": {},
   "outputs": [],
   "source": [
    "num = 77521"
   ]
  },
  {
   "cell_type": "code",
   "execution_count": null,
   "id": "described-orlando",
   "metadata": {},
   "outputs": [],
   "source": [
    "import time\n",
    "\n",
    "start = time.perf_counter()\n",
    "\n",
    "isprime = 1 #assuming that num is prime\n",
    "\n",
    "for i in range(2, num):  # 2,3,...,num - 1\n",
    "    if num % i == 0:\n",
    "        isprime = 0\n",
    "        break\n",
    "\n",
    "end = time.perf_counter()\n",
    "print(\"Dauer:\", end - start)\n",
    "        \n",
    "#if(isprime==1):\n",
    "#    print(num, \"is a prime number\")\n",
    "#else:\n",
    "#    print(num, \"is not a prime number\")"
   ]
  },
  {
   "cell_type": "markdown",
   "id": "incomplete-jimmy",
   "metadata": {},
   "source": [
    "## 16 Python program to generate the prime numbers from 1 to N"
   ]
  },
  {
   "cell_type": "code",
   "execution_count": null,
   "id": "revised-sector",
   "metadata": {},
   "outputs": [],
   "source": [
    "num = int(input(\"Enter the range: \"))\n",
    "\n",
    "for n in range(1, num):\n",
    "    for i in range(2, n):\n",
    "        if not n % i:  # wenn es keinen Rest gibt, ist die Zahl durch i teilbar und wir brechen die Schleife ab, also keine Prime\n",
    "            break\n",
    "    else:  # Ausgabe nur wenn for komplett durchläuft\n",
    "        print(n)  "
   ]
  },
  {
   "cell_type": "markdown",
   "id": "honest-sharp",
   "metadata": {},
   "source": [
    "## 20 Python program to display the sum of n numbers using a list"
   ]
  },
  {
   "cell_type": "code",
   "execution_count": null,
   "id": "animal-forty",
   "metadata": {},
   "outputs": [],
   "source": [
    "numbers = []\n",
    "num = int(input('How many numbers: '))\n",
    "\n",
    "for n in ...:\n",
    "    x = int(input('Enter number '))\n",
    "    ...\n",
    "    \n",
    "print(\"Sum of numbers in the given list is :\", ...)"
   ]
  },
  {
   "cell_type": "markdown",
   "id": "engaging-enough",
   "metadata": {},
   "source": [
    "## 23 Python program to find the odd numbers in an array"
   ]
  },
  {
   "cell_type": "code",
   "execution_count": null,
   "id": "innocent-joyce",
   "metadata": {},
   "outputs": [],
   "source": [
    "numbers = [8,3,1,6,2,4,5,9]\n",
    "count = 0\n",
    "\n",
    "for ... in ...:\n",
    "    if ...:\n",
    "        count = ...\n",
    "        \n",
    "print(\"The number of odd numbers in the list are: \", count)"
   ]
  },
  {
   "cell_type": "markdown",
   "id": "aggregate-cycle",
   "metadata": {},
   "source": [
    "## 24 Python program to find the largest number in a list without using built-in functions"
   ]
  },
  {
   "cell_type": "code",
   "execution_count": null,
   "id": "funky-absorption",
   "metadata": {},
   "outputs": [],
   "source": [
    "numbers = [3,8,1,7,2,9,5,4]\n",
    "big = numbers[0]\n",
    "position = 0\n",
    "\n",
    "for ... in ...:\n",
    "    if ...:\n",
    "        big = ...\n",
    "        position = ...\n",
    "        \n",
    "print(\"The largest element is \", big, \" which is found at position \", position)"
   ]
  },
  {
   "cell_type": "markdown",
   "id": "three-investigator",
   "metadata": {},
   "source": [
    "## 27 Python program to check whether a string is palindrome or not"
   ]
  },
  {
   "cell_type": "code",
   "execution_count": null,
   "id": "absent-noise",
   "metadata": {},
   "outputs": [],
   "source": [
    "def reverse_string(text):\n",
    "    text_als_liste = list(text)\n",
    "    umgekehrter_text_als_liste = text_als_liste[::-1]\n",
    "    umgelehrter_text = \"\".join(umgekehrter_text_als_liste)\n",
    "\n",
    "    return umgelehrter_text\n",
    "\n",
    "def is_palindrome(text):\n",
    "    rev_string = reverse_string(text)\n",
    "    \n",
    "    if ...:\n",
    "        print(\"The string is palindrome\")\n",
    "    else:\n",
    "        print(\"The string is not palindrome\")\n",
    "\n",
    "s = input(\"Enter a string: \")\n",
    "\n",
    "is_palindrome(s)"
   ]
  },
  {
   "cell_type": "markdown",
   "id": "demonstrated-joshua",
   "metadata": {},
   "source": [
    "## 28 Python program to implement matrix addition"
   ]
  },
  {
   "cell_type": "code",
   "execution_count": null,
   "id": "dress-sussex",
   "metadata": {},
   "outputs": [],
   "source": [
    "X = [\n",
    "    [8,5,1],\n",
    "    [9,3,2],\n",
    "    [4,6,3]\n",
    "]\n",
    "Y = [\n",
    "    [8,5,3],\n",
    "    [9,5,7],\n",
    "    [9,4,1]\n",
    "]\n",
    "result = [\n",
    "    [0,0,0],\n",
    "    [0,0,0],\n",
    "    [0,0,0]\n",
    "]\n",
    "\n",
    "for zeile in range(len(X)):\n",
    "    for spalte in range(len(X[0])):\n",
    "        result[zeile][spalte] = X[zeile][spalte] + Y[zeile][spalte]\n",
    "        \n",
    "for k in result:\n",
    "    print(k)"
   ]
  },
  {
   "cell_type": "code",
   "execution_count": null,
   "id": "split-tractor",
   "metadata": {},
   "outputs": [],
   "source": [
    "import numpy as np\n",
    "\n",
    "X = np.array([\n",
    "    [8,5,1],\n",
    "    [9,3,2],\n",
    "    [4,6,3]\n",
    "])\n",
    "Y = np.array([\n",
    "    [8,5,3],\n",
    "    [9,5,7],\n",
    "    [9,4,1]\n",
    "])"
   ]
  },
  {
   "cell_type": "markdown",
   "id": "metric-calvin",
   "metadata": {},
   "source": [
    "## 33 Python program to print all the items in a dictionary"
   ]
  },
  {
   "cell_type": "code",
   "execution_count": null,
   "id": "likely-trash",
   "metadata": {},
   "outputs": [],
   "source": [
    "phone_book = {\n",
    "'John' : [ '8592970000', 'john@xyzmail.com' ],\n",
    "'Bob': [ '7994880000', 'bob@xyzmail.com' ],\n",
    "'Tom' : [ '9749552647' , 'tom@xyzmail.com' ]\n",
    "}\n",
    "\n",
    "for k,v in phone_book.items():\n",
    "    print(f\"Schlüssel: {k}, Wert: {v}\") # use f-string"
   ]
  },
  {
   "cell_type": "markdown",
   "id": "suspended-prince",
   "metadata": {},
   "source": [
    "##  34 Python program to implement a calculator to do basic operations"
   ]
  },
  {
   "cell_type": "code",
   "execution_count": null,
   "id": "broke-bradley",
   "metadata": {},
   "outputs": [],
   "source": [
    "def add(x,y):\n",
    "    print(x+y)\n",
    "    \n",
    "def subtract(x,y):\n",
    "    print(x-y)\n",
    "    \n",
    "def multiply(x,y):\n",
    "    print(x*y)\n",
    "    \n",
    "def divide(x,y):\n",
    "    print(x/y)\n",
    "    \n",
    "print(\"Enter two numbers\")\n",
    "n1=input()\n",
    "n2=input()\n",
    "\n",
    "op=input(\"Enter the operation +,-,,/ \") \n",
    "\n",
    "if ...:\n",
    "    ...\n",
    "elif ...:\n",
    "    ...\n",
    "elif ...:\n",
    "    ...\n",
    "elif ...:\n",
    "    ...\n",
    "else:\n",
    "    print(\" Invalid entry \")"
   ]
  },
  {
   "cell_type": "code",
   "execution_count": null,
   "id": "mature-squad",
   "metadata": {},
   "outputs": [],
   "source": [
    "## redo the exercise with a dictionary"
   ]
  },
  {
   "cell_type": "markdown",
   "id": "frozen-costs",
   "metadata": {},
   "source": [
    "## 35 Python program to draw a circle of squares using Turtle"
   ]
  },
  {
   "cell_type": "code",
   "execution_count": null,
   "id": "historical-speaker",
   "metadata": {},
   "outputs": [],
   "source": [
    "!pip install turtle"
   ]
  },
  {
   "cell_type": "code",
   "execution_count": null,
   "id": "banner-default",
   "metadata": {},
   "outputs": [],
   "source": [
    "import turtle\n",
    "x=turtle.Turtle()\n",
    "\n",
    "\n",
    "def square(angle):\n",
    "    x.forward(100)\n",
    "    x.right(angle)\n",
    "    x.forward(100)\n",
    "    x.right(angle)\n",
    "    x.forward(100)\n",
    "    x.right(angle)\n",
    "    x.forward(100)\n",
    "    x.right(angle+10)\n",
    "\n",
    "for i in range(36):\n",
    "    square(90)\n"
   ]
  },
  {
   "cell_type": "code",
   "execution_count": null,
   "id": "civic-fighter",
   "metadata": {},
   "outputs": [],
   "source": []
  }
 ],
 "metadata": {
  "kernelspec": {
   "display_name": "Python 3.9",
   "language": "python",
   "name": "py39"
  },
  "language_info": {
   "codemirror_mode": {
    "name": "ipython",
    "version": 3
   },
   "file_extension": ".py",
   "mimetype": "text/x-python",
   "name": "python",
   "nbconvert_exporter": "python",
   "pygments_lexer": "ipython3",
   "version": "3.9.2"
  }
 },
 "nbformat": 4,
 "nbformat_minor": 5
}
