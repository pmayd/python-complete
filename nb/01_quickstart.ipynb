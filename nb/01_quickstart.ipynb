{
 "cells": [
  {
   "cell_type": "markdown",
   "metadata": {},
   "source": [
    "# Quickstart Python"
   ]
  },
  {
   "cell_type": "markdown",
   "metadata": {},
   "source": [
    "Challenge: Write a function that takes two lists of numbers and returns a list with the element-wise sums"
   ]
  },
  {
   "cell_type": "code",
   "execution_count": null,
   "metadata": {},
   "outputs": [],
   "source": [
    "# very first version\n",
    "def pairwise_sum(list1, list2):\n",
    "    list_of_sums = list1[:]  # make a copy\n",
    "\n",
    "    for i in range(len(list1)):\n",
    "        list_of_sums[i] = list1[i] + list2[i]\n",
    "\n",
    "    return list_of_sums"
   ]
  },
  {
   "cell_type": "code",
   "execution_count": null,
   "metadata": {},
   "outputs": [],
   "source": [
    "# lets test our function\n",
    "pairwise_sum([1,2,3], [1,2,3]) # can we automate this? sure\n"
   ]
  },
  {
   "cell_type": "code",
   "execution_count": null,
   "metadata": {},
   "outputs": [],
   "source": [
    "assert pairwise_sum([1,2,3], [1,2,3]) == [2,4,6]\n",
    "assert pairwise_sum([3,2,1], [3,2,1]) == [6,4,2]\n",
    "assert pairwise_sum([0,0,0], [0,0,0]) == [0,0,0]\n",
    "assert pairwise_sum([-1,0,1], [-1,0,1]) == [-2,0,2]"
   ]
  },
  {
   "cell_type": "code",
   "execution_count": null,
   "metadata": {},
   "outputs": [],
   "source": [
    "pairwise_sum([1], [1,2])"
   ]
  },
  {
   "cell_type": "code",
   "execution_count": null,
   "metadata": {},
   "outputs": [],
   "source": [
    "# lets improve our version by getting rid of the loop index\n",
    "def pairwise_sum(list1, list2):\n",
    "    list_of_sums = []\n",
    "\n",
    "    for _ in range(len(list1)):\n",
    "        list_of_sums.append(list1.pop(0) + list2.pop(0))\n",
    "    \n",
    "    return list_of_sums"
   ]
  },
  {
   "cell_type": "code",
   "execution_count": null,
   "metadata": {},
   "outputs": [],
   "source": [
    "# lets further improve our version by getting rid of the range function\n",
    "def pairwise_sum(list1, list2):\n",
    "    list_of_sums = []\n",
    "\n",
    "    for el1, el2 in zip(list1, list2):\n",
    "        list_of_sums.append(el1 + el2)\n",
    "    \n",
    "    return list_of_sums"
   ]
  },
  {
   "cell_type": "code",
   "execution_count": null,
   "metadata": {},
   "outputs": [],
   "source": [
    "list(zip([1,2,3], [1,2,3], [1,2,3]))"
   ]
  },
  {
   "cell_type": "code",
   "execution_count": null,
   "metadata": {},
   "outputs": [],
   "source": [
    "# lets further improve our version by getting rid of the loop at all\n",
    "def pairwise_sum(list1, list2):\n",
    "    list_of_sums = [el1 + el2 for el1, el2 in zip(list1, list2)]  # list comprehension\n",
    "    \n",
    "    return list_of_sums"
   ]
  },
  {
   "cell_type": "code",
   "execution_count": null,
   "metadata": {},
   "outputs": [],
   "source": [
    "# lets further improve our version by getting rid of the variable\n",
    "def pairwise_sum(list1, list2):\n",
    "    return [el1 + el2 for el1, el2 in zip(list1, list2)]"
   ]
  },
  {
   "cell_type": "code",
   "execution_count": null,
   "metadata": {},
   "outputs": [],
   "source": [
    "# lets further improve our version by documenting the type\n",
    "def pairwise_sum(list1: list, list2: list) -> list:\n",
    "    return [el1 + el2 for el1, el2 in zip(list1, list2)]"
   ]
  },
  {
   "cell_type": "code",
   "execution_count": null,
   "metadata": {},
   "outputs": [],
   "source": [
    "# lets further improve our version by getting rid of the variable\n",
    "def pairwise_sum(list1, list2):\n",
    "    \"\"\"return element-wise sum\n",
    "    \n",
    "    Args:\n",
    "        list1 (list): first list\n",
    "        list2 (list): second list    \n",
    "    \"\"\"\n",
    "    return [el1 + el2 for el1, el2 in zip(list1, list2)]"
   ]
  },
  {
   "cell_type": "code",
   "execution_count": null,
   "metadata": {},
   "outputs": [],
   "source": [
    "# we can add some types\n",
    "# and make sure that both lists are of equal length\n",
    "def pairwise_sum(list1: list, list2: list) -> list:\n",
    "    if len(list1) != len(list2):\n",
    "        raise ValueError(\n",
    "            f'Input variables are not of same length. ' \n",
    "            f'Please make sure that both iterables are of the same length. '\n",
    "            f'Actual length are {len(list1)} and {len(list2)}.'\n",
    "        )\n",
    "        \n",
    "    return [el1 + el2 for el1, el2 in zip(list1, list2)]"
   ]
  },
  {
   "cell_type": "code",
   "execution_count": null,
   "metadata": {},
   "outputs": [],
   "source": [
    "#pairwise_sum([1], [1,2])"
   ]
  },
  {
   "cell_type": "code",
   "execution_count": null,
   "metadata": {},
   "outputs": [],
   "source": [
    "# finally, we can check if both input variables are iterable\n",
    "from collections.abc import Iterable\n",
    "\n",
    "def pairwise_sum(list1: list, list2: list) -> list:\n",
    "    if not isinstance(list1, Iterable):\n",
    "        raise TypeError(\n",
    "            f'First input argument is not of type Iterable. '\n",
    "            f'Please make sure to only pass iterables. '\n",
    "            f'Actual type is {type(list1)}.'\n",
    "        )\n",
    "\n",
    "    if not isinstance(list2, Iterable):\n",
    "        raise TypeError(\n",
    "            f'Second input argument is not of type Iterable. '\n",
    "            f'Please make sure to only pass iterables. '\n",
    "            f'Actual type is {type(list2)}.'\n",
    "        )\n",
    "\n",
    "    if len(list1) != len(list2):\n",
    "        raise ValueError(\n",
    "            f'Input variables are not of same length. ' \n",
    "            f'Please make sure that both iterables are of the same length. '\n",
    "            f'Actual length are {len(list1)} and {len(list2)}.'\n",
    "        )\n",
    "\n",
    "    return [el1 + el2 for el1, el2 in zip(list1, list2)]"
   ]
  },
  {
   "cell_type": "code",
   "execution_count": null,
   "metadata": {},
   "outputs": [],
   "source": [
    "#pairwise_sum(1, [1])\n",
    "#pairwise_sum([1], 1)"
   ]
  },
  {
   "cell_type": "code",
   "execution_count": null,
   "metadata": {},
   "outputs": [],
   "source": [
    "# however, the last one is VERY defensive, also this might be good\n",
    "# so lets try to go with whatever we got\n",
    "# finally, we can check if both input variables are iterable\n",
    "from collections.abc import Iterable\n",
    "\n",
    "def pairwise_sum(list1: list, list2: list) -> list:\n",
    "    if not isinstance(list1, Iterable):\n",
    "        list1 = [list1]\n",
    "\n",
    "    if not isinstance(list2, Iterable):\n",
    "        list2 = [list2]\n",
    "\n",
    "    if len(list1) != len(list2):\n",
    "        raise ValueError(\n",
    "            f'Input variables are not of same length. ' \n",
    "            f'Please make sure that both iterables are of the same length. '\n",
    "            f'Actual length are {len(list1)} and {len(list2)}.'\n",
    "        )\n",
    "\n",
    "    return [el1 + el2 for el1, el2 in zip(list1, list2)]"
   ]
  },
  {
   "cell_type": "code",
   "execution_count": null,
   "metadata": {},
   "outputs": [],
   "source": [
    "pairwise_sum(1, [1])"
   ]
  },
  {
   "cell_type": "markdown",
   "metadata": {},
   "source": [
    "Be aware of Pythons dynamical typing system"
   ]
  },
  {
   "cell_type": "code",
   "execution_count": null,
   "metadata": {},
   "outputs": [],
   "source": [
    "## assigning a value to a variable\n",
    "x = [1, 2, 3]\n",
    "## x is a list here\n",
    "print(type(x))\n",
    "## reassigning a value to the 'x'\n",
    "x = True\n",
    "## x is a bool here\n",
    "print(type(x))"
   ]
  },
  {
   "cell_type": "code",
   "execution_count": null,
   "metadata": {},
   "outputs": [],
   "source": [
    "# pay attention to the next thing very closely!\n",
    "print(len([1,2,3]))\n",
    "print(type(len))\n",
    "\n",
    "def len(list):\n",
    "    return \"Why should I not be allowed to overrite a Python function?!\"\n",
    "\n",
    "print(type(len))\n",
    "len([1,2,3])"
   ]
  },
  {
   "cell_type": "markdown",
   "metadata": {},
   "source": [
    "## Useful helper functions"
   ]
  },
  {
   "cell_type": "code",
   "execution_count": null,
   "metadata": {},
   "outputs": [],
   "source": [
    "help(zip) # on functions\n",
    "help(1) # on instances of classes\n",
    "help(str)"
   ]
  },
  {
   "cell_type": "code",
   "execution_count": null,
   "metadata": {},
   "outputs": [],
   "source": [
    "\"hello\".count(\"l\")"
   ]
  },
  {
   "cell_type": "code",
   "execution_count": null,
   "metadata": {},
   "outputs": [],
   "source": [
    "help(pairwise_sum)"
   ]
  },
  {
   "cell_type": "code",
   "execution_count": null,
   "metadata": {
    "scrolled": true
   },
   "outputs": [],
   "source": [
    "#help(os)\n",
    "import os \n",
    "help(os)"
   ]
  },
  {
   "cell_type": "code",
   "execution_count": null,
   "metadata": {},
   "outputs": [],
   "source": [
    "os"
   ]
  },
  {
   "cell_type": "code",
   "execution_count": null,
   "metadata": {},
   "outputs": [],
   "source": [
    "# what if you are only interested in the methods? dir() is your friend\n",
    "dir(os)\n",
    "dir(str)"
   ]
  },
  {
   "cell_type": "code",
   "execution_count": null,
   "metadata": {},
   "outputs": [],
   "source": [
    "# show all available variables: globals(), locals() and vars()\n",
    "globals()"
   ]
  },
  {
   "cell_type": "code",
   "execution_count": null,
   "metadata": {},
   "outputs": [],
   "source": [
    "b = 1\n",
    "\n",
    "def f(x):\n",
    "    print('b' in globals())\n",
    "    print('b' in locals())\n",
    "    print('x' in locals())\n",
    "    print(locals())\n",
    "    return x**2\n",
    "\n",
    "f(2)"
   ]
  },
  {
   "cell_type": "code",
   "execution_count": null,
   "metadata": {},
   "outputs": [],
   "source": [
    "vars(str)"
   ]
  },
  {
   "cell_type": "code",
   "execution_count": null,
   "metadata": {},
   "outputs": [],
   "source": []
  }
 ],
 "metadata": {
  "file_extension": ".py",
  "kernelspec": {
   "display_name": "Python 3.9",
   "language": "python",
   "name": "py39"
  },
  "language_info": {
   "codemirror_mode": {
    "name": "ipython",
    "version": 3
   },
   "file_extension": ".py",
   "mimetype": "text/x-python",
   "name": "python",
   "nbconvert_exporter": "python",
   "pygments_lexer": "ipython3",
   "version": "3.9.2"
  },
  "mimetype": "text/x-python",
  "name": "python",
  "npconvert_exporter": "python",
  "pygments_lexer": "ipython3",
  "version": 3
 },
 "nbformat": 4,
 "nbformat_minor": 2
}
