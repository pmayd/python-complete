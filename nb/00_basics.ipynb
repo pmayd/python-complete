{
 "cells": [
  {
   "cell_type": "markdown",
   "metadata": {},
   "source": [
    "# Python Basics"
   ]
  },
  {
   "cell_type": "markdown",
   "metadata": {},
   "source": [
    "TOC:\n",
    "* [Numbers](#numbers)\n",
    "* [Booleans](#booleans)\n",
    "* [Lists](#lists)\n",
    "* [Tuples](#tuples)\n",
    "* [Strings](#strings)\n",
    "* [Dictionaries](#dics)\n",
    "* [Sets](#sets)\n",
    "* [File objects](#file-object)\n",
    "* [Control flow](#control-flow)\n",
    "* [Modules](#modules)\n",
    "* [Opbject-oriented programming](#oop)\n"
   ]
  },
  {
   "cell_type": "markdown",
   "metadata": {},
   "source": [
    "## Numbers  <a class=\"anchor\" id=\"number\"></a>\n",
    "\n",
    "Python’s four number types are integers, floats, complex numbers, and Booleans:\n",
    "\n",
    "- Integers—1, –3, 42, 355, 888888888888888, –7777777777 (integers aren’t limited in size except by available memory)\n",
    "- Floats—3.0, 31e12, –6e-4\n",
    "- Complex numbers—3 + 2j, –4- 2j, 4.2 + 6.3j\n",
    "- Booleans—True, False\n",
    "\n",
    "You can manipulate them by using the arithmetic operators: `+` (addition), `–` (subtraction), `*` (multiplication), `/` (division), `**` (exponentiation), and `%` (modulus). "
   ]
  },
  {
   "cell_type": "code",
   "execution_count": null,
   "metadata": {},
   "outputs": [],
   "source": [
    "x = 5 + 2 - 3 * 2\n",
    "print(x)  # 1\n",
    "print(5 / 2)  # 2.5                                \n",
    "print(5 // 2) # 2                   \n",
    "print(5 % 2)  # 1\n",
    "print(2 ** 8)  # 256\n",
    "print(1000000001**3)  # 1000000003000000003000000001        "
   ]
  },
  {
   "cell_type": "code",
   "execution_count": null,
   "metadata": {},
   "outputs": [],
   "source": [
    "print(4.3 ** 2.4)  # 33.13784737771648\n",
    "print(3.5e30 * 2.77e45)  # 9.695e+75\n",
    "print(1000000001.0 ** 3) # 1.000000003e+27"
   ]
  },
  {
   "cell_type": "code",
   "execution_count": null,
   "metadata": {},
   "outputs": [],
   "source": [
    "print((3+2j) ** (2+3j))  # (0.6817665190890336-2.1207457766159625j)\n",
    "print((3+2j) * (4+9j))  # (-6+35j)\n",
    "\n",
    "x = (3+2j) * (4+9j)\n",
    "\n",
    "x.real, x.imag  # -6.0 35.0"
   ]
  },
  {
   "cell_type": "code",
   "execution_count": null,
   "metadata": {},
   "outputs": [],
   "source": [
    "round(3.49), round(3.49, 1), round(3.49, 2), round(3.49, 0), round(34.34, -1)            "
   ]
  },
  {
   "cell_type": "markdown",
   "metadata": {},
   "source": [
    "Built-in functions are always available and are called by using a standard function-calling syntax. In the preceding code, `round` is called with a float as its input argument.\n",
    "\n",
    "The functions in library modules are made available via the import statement. The `math` **library module** is imported, and its `ceil` function is called using attribute notation: `module.function(arguments)`. \n",
    "\n",
    "Other functions in the `math` module are: acos, asin, atan, atan2, ceil, cos, cosh, e, exp, fabs, floor, fmod,\n",
    "frexp, hypot, ldexp, log, log10, mod, pi, pow, sin, sinh, sqrt, tan,\n",
    "tanh"
   ]
  },
  {
   "cell_type": "code",
   "execution_count": null,
   "metadata": {},
   "outputs": [],
   "source": [
    "import math\n",
    "\n",
    "math.ceil(3.49), math.floor(3.49), math.remainder(5.1,2)"
   ]
  },
  {
   "cell_type": "code",
   "execution_count": null,
   "metadata": {},
   "outputs": [],
   "source": [
    "math.cos(90)"
   ]
  },
  {
   "cell_type": "markdown",
   "metadata": {},
   "source": [
    "### Type conversion"
   ]
  },
  {
   "cell_type": "code",
   "execution_count": null,
   "metadata": {
    "scrolled": true
   },
   "outputs": [],
   "source": [
    "print(5 + 2 - 3 * 2) # 1\n",
    "print(5 / 2) # floating-point result with normal division -> 2.5\n",
    "print(5 / 2.0) # also a floating-point result -> 2.5\n",
    "print(5 // 2) # integer result with truncation when divided using '//' -> 2\n",
    "print(30000000000)    # This would be too large to be an int in many languages -> 30000000000\n",
    "print(30000000000 * 3) # 90000000000\n",
    "print(30000000000 * 3.0) # 90000000000.0\n",
    "print(2.0e-8)  # Scientific notation gives back a float -> 2e-08\n",
    "print(3000000 * 3000000) # 9000000000000\n",
    "print(int(200.2)) # 200\n",
    "print(int(2e2)) # 200\n",
    "print(float(200)) # 200.0"
   ]
  },
  {
   "cell_type": "markdown",
   "metadata": {},
   "source": [
    "## Booleans  <a class=\"anchor\" id=\"booleans\"></a>\n",
    "\n",
    "Other than their representation as `True` and `False`, Booleans behave like the numbers 1 (True) and 0 (False) 1."
   ]
  },
  {
   "cell_type": "code",
   "execution_count": null,
   "metadata": {},
   "outputs": [],
   "source": [
    "x = False\n",
    "print(x) # False\n",
    "print(type(x)) # type bool\n",
    "print(not x) # True\n",
    "\n",
    "y = True * 2       \n",
    "print(y) # 2"
   ]
  },
  {
   "cell_type": "markdown",
   "metadata": {},
   "source": [
    "## Lists <a class=\"anchor\" id=\"lists\"></a>\n",
    "\n",
    "Python has a powerful built-in list type:\n",
    "\n",
    "```python\n",
    "[]\n",
    "[1]\n",
    "[1, 2, 3, 4, 5, 6, 7, 8, 12]\n",
    "[1, \"two\", 3, 4.0, [\"a\", \"b\"], (5,6)]        1\n",
    "```\n",
    "\n",
    "A list can contain a mixture of other types as its elements, including strings, tuples, lists, dictionaries, functions, file objects, and any type of number 1.\n",
    "\n",
    "A list can be indexed from its front or back. You can also refer to a subsegment, or slice, of a list by using slice notation: \n"
   ]
  },
  {
   "cell_type": "code",
   "execution_count": null,
   "metadata": {},
   "outputs": [],
   "source": [
    "x = [\"first\", \"second\", \"third\", \"fourth\"]  # list()\n",
    "print(x[0])  # first element at index 0: \"first\" \n",
    "\n",
    "print(x[2])  # third element at index 2: \"third\"\n",
    "\n",
    "print(x[-1])  # first element from the back at index -1: \"fourth\"\n",
    "\n",
    "print(x[-2])  # second element from the back at index -2: \"third\"                                        \n",
    "\n",
    "print(x[1:-1])  # a slice, that is all elements from the first index (inclusive) to the last index (exclusive): ['second', 'third']\n",
    "\n",
    "print(x[0:3])  # a slice from the first element to the fourth: ['first', 'second', 'third']\n",
    "\n",
    "print(x[-2:-1])  # a slice from the second last element to the last element: ['third']\n",
    "\n",
    "print(x[:3])  # if you omit the first argument, its always 0: ['first', 'second', 'third']\n",
    "\n",
    "print(x[-2:]) # if you omit the last argument, its always len(x), here 4: ['third', 'fourth']"
   ]
  },
  {
   "cell_type": "code",
   "execution_count": null,
   "metadata": {},
   "outputs": [],
   "source": [
    "# how can you make a copy of a list then?\n",
    "x[:]"
   ]
  },
  {
   "cell_type": "markdown",
   "metadata": {},
   "source": [
    "Table 3.1. List indices\n",
    "\n",
    "|x= | [ | \"first\" , | \"second\" , | \"third\" , | \"fourth\" | ] | \n",
    "|---|---|-----------|------------|-----------|----------|---|\n",
    "| Positive indices |  | 0 | 1 | 2 |\t3 |  |\t \n",
    "| Negative indices |  |\t–4 | –3 | –2 | –1 |  |"
   ]
  },
  {
   "cell_type": "markdown",
   "metadata": {},
   "source": [
    "You can use this notation to add, remove, and replace elements in a list or to obtain an element or a new list that’s a slice from it:"
   ]
  },
  {
   "cell_type": "code",
   "execution_count": null,
   "metadata": {},
   "outputs": [],
   "source": [
    "x = [1, 2, 3, 4, 5, 6, 7, 8, 9]\n",
    "x[1] = \"two\"\n",
    "x[8:9] = []\n",
    "\n",
    "print(x)  # [1, 'two', 3, 4, 5, 6, 7, 8]\n",
    "\n",
    "x[5:7] = [6.0, 6.5, 7.0]\n",
    "\n",
    "print(x)  # [1, 'two', 3, 4, 5, 6.0, 6.5, 7.0, 8]\n",
    "\n",
    "print(x[5:]) # [6.0, 6.5, 7.0, 8]"
   ]
  },
  {
   "cell_type": "markdown",
   "metadata": {},
   "source": [
    "Some built-in functions (`len`, `max`, and `min`), some operators (`in`, `+`, and `*`), the `del` statement, and the list methods `(append, count, extend, index, insert, pop, remove, reverse, and sort)` operate on lists: "
   ]
  },
  {
   "cell_type": "code",
   "execution_count": null,
   "metadata": {},
   "outputs": [],
   "source": [
    "list(range(1,10,2))"
   ]
  },
  {
   "cell_type": "code",
   "execution_count": null,
   "metadata": {},
   "outputs": [],
   "source": [
    "x = list(range(10))\n",
    "\n",
    "print(sum(x))  # 45\n",
    "print(min(x))  # 0 \n",
    "print(max(x))  # 9\n",
    "\n",
    "print(len(x))  # 10\n",
    "\n",
    "print(5 in x)  # True\n",
    "print(\"5\" in x)  # False\n",
    "\n",
    "#print(x + 1)  # Error\n",
    "print(x + [10]) # creates new List [0, 1, 2, 3, 4, 5, 6, 7, 8, 9, 10]\n",
    "print([1] * 3) # creates a new list [1, 1, 1]\n",
    "\n",
    "del x[0] # delete first element inplace\n",
    "print(x)\n",
    "del x[1:3] # delete the whole range\n",
    "print(x)\n",
    "\n",
    "# the list functions seldomly return the list, instead they change the list inplace!\n",
    "x.append(10)\n",
    "print(x)  # changed the object behind x: [0, 1, 2, 3, 4, 5, 6, 7, 8, 9, 10]\n",
    "print(x.count(0))  # 1\n",
    "\n",
    "x.extend([11, 12, 13])\n",
    "\n",
    "print(x)  # add all elements of a second list to the first: [0, 1, 2, 3, 4, 5, 6, 7, 8, 9, 10, 11, 12, 13] \n",
    "\n",
    "print(x.index(10))  # 10 (normally offset of +1!)\n",
    "print([1,2,1].index(1))  # first occurence!\n",
    "\n",
    "print(x.pop(0))  # removes first element AND returns it\n",
    "print(x)\n",
    "\n",
    "x.insert(1, 1) # add element 1 at index 1\n",
    "print(x.remove(1)) # removes the first occurence of the element, but does not return it\n",
    "print(x)\n",
    "\n",
    "x.reverse()  # reverse list inplace\n",
    "print(x)\n",
    "\n",
    "x.sort() # sort ascending\n",
    "print(x)\n",
    "\n",
    "help(x.sort)"
   ]
  },
  {
   "cell_type": "code",
   "execution_count": null,
   "metadata": {},
   "outputs": [],
   "source": [
    "# Übung: Funktion index, die alle indices für das element in der Liste liefert\n",
    "list1 = [1,2,3,4,1,2,3,1]\n",
    "el = 1\n",
    "\n",
    "for position, x in enumerate(list1):\n",
    "    if x == el:\n",
    "        print(f\"Element {el} an Position {position} gefunden.\")\n",
    "\n",
    "        "
   ]
  },
  {
   "cell_type": "markdown",
   "metadata": {},
   "source": [
    "## Tuples <a class=\"anchor\" id=\"tuples\"></a>\n",
    "\n",
    "Tuples are similar to lists but are **immutable**—that is, they can’t be modified after they’ve been created. The operators (`in`, `+`, and `*`) and built-in functions (`len`, `sum`, `max`, and `min`) operate on them the same way as they do on lists because none of them modifies the original. Index and slice notation work the same way for __obtaining__ elements or slices but **can’t** be used to add, remove, or replace elements. Also, there are only two tuple methods: `count` and `index`. An important purpose of tuples is for use as **keys for dictionaries**. They’re also more efficient to use when you don’t need modifiability. "
   ]
  },
  {
   "cell_type": "code",
   "execution_count": null,
   "metadata": {},
   "outputs": [],
   "source": [
    "print(()) # a tuple is defined by () instead of [], which is for lists\n",
    "print((1,)) # (1) would be a mathematical expression, so we need a comma here to tell Python that we are actually defining a tuple                                   \n",
    "print((1, 2, 3, 4, 5, 6, 7, 8, 12))\n",
    "print((1, \"two\", 3, 4.0, [\"a\", \"b\"], (5, 6)))  # like lists, tuples can hold any data type  \n",
    "\n",
    "x = [1, 2, 3, 4]\n",
    "print(tuple(x))  # the tuple build-in function turns any iterable into a tuple\n",
    "print(list(x)) # and back again to lists\n"
   ]
  },
  {
   "cell_type": "code",
   "execution_count": null,
   "metadata": {},
   "outputs": [],
   "source": [
    "x = (1,2,3,4,)\n",
    "x[0] # is fine\n",
    "#x[0] = 1 # is not -> immutable"
   ]
  },
  {
   "cell_type": "markdown",
   "metadata": {},
   "source": [
    "## Strings  <a class=\"anchor\" id=\"strings\"></a>\n",
    "\n",
    "String processing is one of Python’s strengths. There are many options for delimiting strings:\n",
    "\n",
    "```python\n",
    "\"A string in double quotes can contain 'single quote' characters.\"\n",
    "'A string in single quotes can contain \"double quote\" characters.'\n",
    "'''\\tA string which starts with a tab; ends with a newline character.\\n'''\n",
    "\"\"\"This is a triple double quoted string, the only kind that can\n",
    "    contain real newlines.\"\"\"\n",
    "```\n",
    "\n",
    "Strings can be delimited by single (' '), double (\" \"), triple single (''' '''), or triple double (\"\"\" \"\"\") quotations and can contain tab (`\\t`) and newline (`\\n`) characters.\n",
    "\n",
    "Strings are also **immutable**. The operators and functions that work with them return **new strings** derived from the original. The operators (`in`, `+`, and `*`) and built-in functions (`len`, `max`, and `min`) operate on strings as they do on lists and tuples. Index and slice notation works the same way for obtaining elements or slices but can’t be used to add, remove, or replace elements.\n",
    "\n",
    "Strings have several methods to work with their contents, and the re library module also contains functions for working with strings: \n"
   ]
  },
  {
   "cell_type": "code",
   "execution_count": null,
   "metadata": {},
   "outputs": [],
   "source": [
    "x = \"live and     let \\t   \\tlive\"\n",
    "print(x)\n",
    "\n",
    "print(x.split()) # split is one of the most convenient methods in Python\n",
    "\n",
    "print(\"999-8746-13215\".split(\"-\")) # as you can define the character at which to split\n",
    "\n",
    "print(x.replace(\"    let \\t   \\tlive\", \"enjoy life\")) # replace works fine for most simple cases"
   ]
  },
  {
   "cell_type": "code",
   "execution_count": null,
   "metadata": {},
   "outputs": [],
   "source": [
    "import re \n",
    "\n",
    "x = \"live and     let \\t   \\tlive\"\n",
    "\n",
    "regexpr = re.compile(r\"[\\t ]+\") # first you compile a regular expression, that is the pattern you want to search for or use\n",
    "print(regexpr.sub(\" \", x)) # second you use the compiled expression with a target string\n"
   ]
  },
  {
   "cell_type": "markdown",
   "metadata": {},
   "source": [
    "### Format strings"
   ]
  },
  {
   "cell_type": "code",
   "execution_count": null,
   "metadata": {},
   "outputs": [],
   "source": [
    "# source: https://realpython.com/python-f-strings/\n",
    "\n",
    "name = \"Eric\"\n",
    "print(\"Hello, %s.\" % name) # 'Hello, Eric.'\n",
    "\n",
    "name = \"Eric\"\n",
    "age = 74\n",
    "print(\"Hello, %s. You are %s.\" % (name, age))  # 'Hello Eric. You are 74.'\n",
    "\n",
    "print(\"Hello, {}. You are {}.\".format(name, age))   # 'Hello, Eric. You are 74.'\n",
    "print(\"Hello, {1}. You are {0}.\".format(age, name))  # 'Hello, Eric. You are 74.'\n",
    "\n",
    "person = {'name': 'Eric', 'age': 74}\n",
    "print(\"Hello, {name}. You are {age}.\".format(name=person['name'], age=person['age']))  # 'Hello, Eric. You are 74."
   ]
  },
  {
   "cell_type": "code",
   "execution_count": null,
   "metadata": {},
   "outputs": [],
   "source": [
    "name = \"Eric\"\n",
    "age = 74\n",
    "print(f\"Hello, {name}. You are {age}.\") # 'Hello, Eric. You are 74.'\n",
    "\n",
    "print(f\"{2 * 37}\")  # 74\n",
    "\n",
    "def to_lowercase(input):\n",
    "    return input.lower()\n",
    "\n",
    "name = \"Eric Idle\"\n",
    "print(f\"{to_lowercase(name)} is funny.\") # 'eric idle is funny.'\n",
    "print(f\"{name.lower()} is funny.\")       # 'eric idle is funny.'\n",
    "\n",
    "\n",
    "class Comedian:\n",
    "    def __init__(self, first_name, last_name, age):\n",
    "        self.first_name = first_name\n",
    "        self.last_name = last_name\n",
    "        self.age = age\n",
    "\n",
    "    def __str__(self):\n",
    "        return f\"{self.first_name} {self.last_name} is {self.age}.\"\n",
    "\n",
    "    def __repr__(self):\n",
    "        return f\"{self.first_name} {self.last_name} is {self.age}. Surprise!\"\n",
    "\n",
    "new_comedian = Comedian(\"Eric\", \"Idle\", \"74\")\n",
    "print(f\"{new_comedian}\") # 'Eric Idle is 74.'"
   ]
  },
  {
   "cell_type": "code",
   "execution_count": null,
   "metadata": {},
   "outputs": [],
   "source": [
    "name = \"Eric\"\n",
    "profession = \"comedian\"\n",
    "affiliation = \"Monty Python\"\n",
    "message = (\n",
    "    f\"Hi {name}. \"\n",
    "    f\"You are a {profession}. \" # you need a 'f' in front of each line!\n",
    "    f\"You were in {affiliation}.\"\n",
    ")\n",
    "\n",
    "message # 'Hi Eric. You are a comedian. You were in Monty Python.'"
   ]
  },
  {
   "cell_type": "markdown",
   "metadata": {},
   "source": [
    "The f in f-strings may as well stand for “fast.”\n",
    "\n",
    "f-strings are faster than both %-formatting and str.format(). As you already saw, f-strings are expressions evaluated at runtime rather than constant values. Here’s an excerpt from the docs:\n",
    "\n",
    ">>    “F-strings provide a way to embed expressions inside string literals, using a minimal syntax. It should be noted that an f-string is really an expression evaluated at run time, not a constant value. In Python source code, an f-string is a literal string, prefixed with f, which contains expressions inside braces. The expressions are replaced with their values.” (Source)\n",
    "\n",
    "At runtime, the expression inside the curly braces is evaluated in its own scope and then put together with the string literal part of the f-string. The resulting string is then returned. That’s all it takes."
   ]
  },
  {
   "cell_type": "code",
   "execution_count": null,
   "metadata": {},
   "outputs": [],
   "source": [
    "# the following format examples are taken from: http://zetcode.com/python/fstring/\n",
    "import datetime\n",
    "\n",
    "now = datetime.datetime.now()\n",
    "\n",
    "print(f'{now:%Y-%m-%d %H:%M}')"
   ]
  },
  {
   "cell_type": "code",
   "execution_count": null,
   "metadata": {},
   "outputs": [],
   "source": [
    "val = 12.3\n",
    "\n",
    "print(f'{val:.2f}')\n",
    "print(f'{val:.5f}')"
   ]
  },
  {
   "cell_type": "code",
   "execution_count": null,
   "metadata": {},
   "outputs": [],
   "source": [
    "for x in range(1, 11):\n",
    "    print(f'{x:02} {x*x:3} {x*x*x:4}')"
   ]
  },
  {
   "cell_type": "code",
   "execution_count": null,
   "metadata": {},
   "outputs": [],
   "source": [
    "s1 = 'a'\n",
    "s2 = 'ab'\n",
    "s3 = 'abc'\n",
    "s4 = 'abcd'\n",
    "\n",
    "print() # some jupyter bug?\n",
    "print(f'{s1:>10}')\n",
    "print(f'{s2:>10}')\n",
    "print(f'{s3:>10}')\n",
    "print(f'{s4:>10}')"
   ]
  },
  {
   "cell_type": "code",
   "execution_count": null,
   "metadata": {},
   "outputs": [],
   "source": [
    "a = 300\n",
    "\n",
    "# hexadecimal\n",
    "print(f\"{a:x}\")\n",
    "\n",
    "# octal\n",
    "print(f\"{a:o}\")\n",
    "\n",
    "# scientific\n",
    "print(f\"{a:e}\")"
   ]
  },
  {
   "cell_type": "markdown",
   "metadata": {},
   "source": [
    "## Dictionaries  <a class=\"anchor\" id=\"dics\"></a>"
   ]
  },
  {
   "cell_type": "markdown",
   "metadata": {},
   "source": [
    "Python’s built-in dictionary data type provides associative array functionality implemented by using **hash tables**. The built-in `len` function returns the number of key-value pairs in a dictionary. The `del` statement can be used to delete a key-value pair. As is the case for lists, several dictionary methods (`clear`, `copy`,`get`, `items`, `keys`, `update`, and `values`) are available. "
   ]
  },
  {
   "cell_type": "code",
   "execution_count": null,
   "metadata": {},
   "outputs": [],
   "source": [
    "x = {1: \"one\", 2: \"two\"}\n",
    "print(x)\n",
    "\n",
    "x[\"first\"] = \"one\"\n",
    "print(x)\n",
    "\n",
    "x[(\"Delorme\", \"Ryan\", 1995)] = (1, 2, 3)  # a key can be any type of object that is immutable and thus hashable\n",
    "print(x)\n",
    "\n",
    "print(list(x.keys()))  # ['first', 2, 1, ('Delorme', 'Ryan', 1995)]\n",
    "\n",
    "print(x[1]) # 'one'\n",
    "\n",
    "# x[\"4\"]\n",
    "\n",
    "print(x.get(1, \"not available\")) # 'one'\n",
    "\n",
    "print(x.get(4, \"not available\")) # 'not available'\n",
    "\n",
    "\n"
   ]
  },
  {
   "cell_type": "markdown",
   "metadata": {},
   "source": [
    "## Sets  <a class=\"anchor\" id=\"sets\"></a>"
   ]
  },
  {
   "cell_type": "markdown",
   "metadata": {},
   "source": [
    "A `set` in Python is an **unordered collection of objects**, used in situations where membership and uniqueness in the set are the main things you need to know about that object. Sets behave as **collections of dictionary keys** without any associated values: "
   ]
  },
  {
   "cell_type": "code",
   "execution_count": null,
   "metadata": {},
   "outputs": [],
   "source": [
    "x = set([1, 2, 3, 1, 3, 5]) # make a set out of a sequence, all duplicates will be ignored\n",
    "print(x)  # {1, 2, 3, 5}                          \n",
    "\n",
    "print({1,2,3,5})  # you can create a set directly with the shorthand notation\n",
    "\n",
    "print(1 in x)  # True\n",
    "print(4 in x)  # False\n"
   ]
  },
  {
   "cell_type": "markdown",
   "metadata": {},
   "source": [
    "## File objects <a class=\"anchor\" id=\"file-object\"></a>\n",
    "\n",
    "A file is accessed through a Python file object:"
   ]
  },
  {
   "cell_type": "code",
   "execution_count": null,
   "metadata": {},
   "outputs": [],
   "source": [
    "from pathlib import Path\n",
    "print(Path().cwd()) # c:\\Users\\micha\\work\\git\\python-complete\\nb\n",
    "data_root = Path().cwd().parent.joinpath('data')\n",
    "print(data_root.absolute()) # c:\\Users\\micha\\work\\git\\python-complete\\data\n",
    "\n",
    "f = open(data_root.joinpath('my_new_file.txt'), 'w')\n",
    "f.write('First line with necessary newline character\\n') # 44\n",
    "f.write('Second line to write to the file\\n') # 33\n",
    "\n",
    "f.close() # closes file pointer and hdd resource\n",
    "\n",
    "f = open(data_root.joinpath('faust.txt'), 'r')\n",
    "first_ten_lines = [f.readline() for _ in range(10)]\n",
    "\n",
    "for line in first_ten_lines:\n",
    "    print(line)\n",
    "\n",
    "f.close()"
   ]
  },
  {
   "cell_type": "markdown",
   "metadata": {},
   "source": [
    "## Control flow structures <a class=\"anchor\" id=\"control-flow\"></a>\n",
    "\n",
    "Python has a full range of structures to control code execution and program flow, including common branching and looping structures."
   ]
  },
  {
   "cell_type": "markdown",
   "metadata": {},
   "source": [
    "### Boolean values and expressions\n",
    "\n",
    "Python has several ways of expressing Boolean values; the Boolean constant `False`, `0`, the Python nil value `None`, and empty values (for example, the empty list `[]` or empty string `\"\"`) are all taken as `False`. The Boolean constant `True` and **everything else is considered True**.\n",
    "\n",
    "You can create comparison expressions by using the comparison operators (`<, <=, ==, >, >=, !=, is, is not, in, not in`) and the logical operators (`and, not, or`), which all return `True` or `False`. "
   ]
  },
  {
   "cell_type": "code",
   "execution_count": null,
   "metadata": {},
   "outputs": [],
   "source": [
    "print(False == False, False is False) # True True\n",
    "print(0 == False, 0 is False) # True False\n",
    "print(None == False, None is False, None is None) # False False True\n",
    "print([] == False, [] is False) # False False\n",
    "print(\"\" == False, \"\" is False) # False False\n",
    "\n",
    "if not None:\n",
    "    print(\"None is considered like False\")\n",
    "\n",
    "if not []:\n",
    "    print(\"[] is considered like False\")\n",
    "\n",
    "x = []\n",
    "if x:\n",
    "    print(\"Will not get executed because x is empty and thus considered False\")\n",
    "\n",
    "x.append(1)\n",
    "if x:\n",
    "    print(\"All non empty objects are considered True\")\n",
    "    "
   ]
  },
  {
   "cell_type": "markdown",
   "metadata": {},
   "source": [
    "### The if-elif-else statement\n",
    "\n",
    "The block of code after the first `True` condition (of an `if` or an `elif`) is executed. If none of the conditions is `True`, the block of code after the `else` is executed: "
   ]
  },
  {
   "cell_type": "code",
   "execution_count": null,
   "metadata": {},
   "outputs": [],
   "source": [
    "x = 5\n",
    "if x < 5:\n",
    "    y = -1\n",
    "    z = 5\n",
    "elif x > 5:        \n",
    "    y = 1           \n",
    "    z = 11          \n",
    "else:\n",
    "    y = 0\n",
    "    z = 10   \n",
    "\n",
    "print(x, y, z) # 5 0 10"
   ]
  },
  {
   "cell_type": "markdown",
   "metadata": {},
   "source": [
    "The elif and else clauses are optional 1, and there can be any number of elif clauses. Python uses indentation to delimit blocks. No explicit delimiters, such as brackets or braces, are necessary. Each block consists of one or more statements separated by newlines. All these statements must be at the same level of indentation."
   ]
  },
  {
   "cell_type": "code",
   "execution_count": null,
   "metadata": {},
   "outputs": [],
   "source": [
    "if x < y < z:\n",
    "    print(\"x < y < z\")\n",
    "elif z > x and z > y:\n",
    "    print(\"z > x,y\")\n",
    "\n"
   ]
  },
  {
   "cell_type": "markdown",
   "metadata": {},
   "source": [
    "### The while-loop"
   ]
  },
  {
   "cell_type": "code",
   "execution_count": null,
   "metadata": {},
   "outputs": [],
   "source": [
    "u, v, x, y = 0, 0, 100, 30 # shorthand notation for multiple assignment\n",
    "while x > y:\n",
    "    u = u + y # we can further shorten this -> show\n",
    "    x = x - y\n",
    "    if x < y + 2: # if-else could be one line -> show\n",
    "        v = v + x \n",
    "        x = 0\n",
    "    else:\n",
    "        v = v + y + 2\n",
    "        x = x - y - 2\n",
    "\n",
    "print(u, v, x, y) # 60 40 0 30"
   ]
  },
  {
   "cell_type": "markdown",
   "metadata": {},
   "source": [
    "This is a shorthand notation. Here, u and v are assigned a value of 0, x is set to 100, and y obtains a value of 30 1. This is the loop block 2. It’s possible for a loop to contain break (which ends the loop) and continue statements (which abort the current iteration of the loop). The output would be 60 40."
   ]
  },
  {
   "cell_type": "markdown",
   "metadata": {},
   "source": [
    "### The for-loop\n",
    "\n",
    "The `for` loop is simple but powerful because it’s possible to iterate over any iterable type, such as a `list` or `tuple`. Unlike in many languages, Python’s for loop iterates over each of the items in a sequence (for example, a list or tuple), making it more of a foreach loop. The following loop finds the first occurrence of an integer that’s divisible by 7: "
   ]
  },
  {
   "cell_type": "code",
   "execution_count": null,
   "metadata": {},
   "outputs": [],
   "source": [
    "item_list = [3, \"string1\", 23, 14.0, \"string2\", 49, 64, 70]\n",
    "\n",
    "for x in item_list: # x is a bad name here as it implies a number type\n",
    "    if not isinstance(x, int):\n",
    "        continue # skips the rest of the code\n",
    "    if not x % 7: # already shortend, long form: if x % 7 == 0\n",
    "        print(\"found an integer divisible by seven: %d\" % x)\n",
    "        break # abort the loop\n",
    "\n",
    "print(\"Scope: Unlike many other programming languages, x is available outside the loop, because x has a function scope: \", x)"
   ]
  },
  {
   "cell_type": "markdown",
   "metadata": {},
   "source": [
    "### Function definition"
   ]
  },
  {
   "cell_type": "code",
   "execution_count": null,
   "metadata": {},
   "outputs": [],
   "source": [
    "# custom function with three parameter, either positional or via key-value\n",
    "def funct1(x, y, z):\n",
    "    value = x + 2*y + z**2\n",
    "\n",
    "    if value > 0:\n",
    "        return x + 2*y + z**2 # not the best practice -> show\n",
    "    else:\n",
    "        return 0\n",
    "\n",
    "u, v = 3, 4\n",
    "print(funct1(u, v, 2)) # 15\n",
    "print(funct1(u, z=v, y=2)) # 23\n",
    "print(funct1(-10, 1, 1)) # 0\n",
    "#funct1(10)\n",
    "\n",
    "# function with two default parameters\n",
    "# parameters with default values can only come after positional parameters\n",
    "def funct2(x, y=1, z=1):\n",
    "    return x + 2 * y + z ** 2\n",
    "\n",
    "print(funct2(3))  # 6\n",
    "print(funct2(3, z=4)) # 21\n",
    "\n",
    "# the special *args can be used to allow an arbitrary number of arguments\n",
    "# args will be available as a tuple inside the function\n",
    "def funct3(x, y=1, z=1, *tup):\n",
    "    return (x, y, z) + tup\n",
    "\n",
    "print(funct3(2)) # (2, 1, 1)\n",
    "print(funct3(1, 2, 3, 4, 5, 6, 7, 8, 9))  # (1, 2, 3, 4, 5, 6, 7, 8, 9)\n",
    "\n",
    "# the special **kwargs accepts an arbitrary number of key-value pairs\n",
    "# kwargs is available as a dictionary inside the function\n",
    "def funct4(x, y=1, z=1, **kwargs):\n",
    "    return (x, y, z, kwargs)\n",
    "\n",
    "print(funct4(1, 2, m=5, n=9, z=3)) # 1 2 3 {'n': 9, 'm': 5}"
   ]
  },
  {
   "cell_type": "markdown",
   "metadata": {},
   "source": [
    "Functions are defined by using the `def` statement. The `return` statement is what a function uses to return a value. This value can be of any type. If no return statement is encountered, Python’s `None` value is returned. Function arguments can be entered either by **position** or by **name (keyword)**. Function parameters can be defined with **defaults** that are used if a function call leaves them out. A special parameter can be defined that collects **all extra positional arguments** in a function call into a **tuple**. Likewise, a special parameter can be defined that collects **all extra keyword arguments** in a function call into a **dictionary**. "
   ]
  },
  {
   "cell_type": "markdown",
   "metadata": {},
   "source": [
    "### Exceptions\n",
    "\n",
    "Exceptions (errors) can be caught and handled by using the `try-except-else-finally` compound statement. This statement can also catch and handle exceptions you define and raise yourself. Any exception that isn’t caught causes the program to exit. This listing shows basic exception handling. "
   ]
  },
  {
   "cell_type": "code",
   "execution_count": null,
   "metadata": {},
   "outputs": [],
   "source": [
    "# define a custom error class that we can raise and catch later\n",
    "class EmptyFileError(Exception):\n",
    "    pass\n",
    "\n",
    "filenames = [\"my_new_file\", \"nonExistent\", \"faust\", \"empty\"]\n",
    "for file in filenames:\n",
    "    try:\n",
    "        f = open(str(data_root.joinpath(file)) + '.txt', 'r')\n",
    "        line = f.readlines()\n",
    "        if not line:\n",
    "            f.close()\n",
    "            raise EmptyFileError(f'{file} is empty.')\n",
    "    except IOError as error:\n",
    "        print(f'{file}: could not be opened: {error.strerror}')\n",
    "    except EmptyFileError as error:\n",
    "        print(error)\n",
    "    else:\n",
    "        print(f'{file}: {len(line)} lines')\n",
    "    finally:\n",
    "        print(\"Done processing\", file) # could be withouth the finally one level higher"
   ]
  },
  {
   "cell_type": "markdown",
   "metadata": {},
   "source": [
    "Here, you define your own exception type **inheriting** from the base Exception type. If an `IOError` or `EmptyFileError` occurs during the execution of the statements in the try block, the associated except block is executed. The else clause is optional; it’s executed if **no exception occurs in the try block**. (Note that in this example, continue statements in the except blocks could have been used instead.) The finally clause is optional; it’s executed **at the end of the block whether an exception was raised or not**, that means in either case!. So its identical with just the same statement but one indentation level higher. "
   ]
  },
  {
   "cell_type": "markdown",
   "metadata": {},
   "source": [
    "### Context manager\n",
    "\n",
    "A more streamlined way of encapsulating the try-except-finally pattern is to use the `with` keyword and a **context manager**. Python defines context managers for things like file access, and it’s possible for the developer to define custom context managers. One benefit of context managers is that they may (and usually do) have **default clean-up actions defined**, which always execute whether or not an exception occurs. "
   ]
  },
  {
   "cell_type": "code",
   "execution_count": null,
   "metadata": {},
   "outputs": [],
   "source": [
    "filename = \"faust.txt\"\n",
    "\n",
    "with open(data_root.joinpath(filename), \"r\") as f:\n",
    "    faust, mephisto, gretchen = 0,0,0\n",
    "    \n",
    "    for line in f:\n",
    "        if 'FAUST' in line:\n",
    "            faust +=1\n",
    "        if 'MEPHISTOPHELES' in line:\n",
    "            mephisto += 1\n",
    "        if 'GRETCHEN' in line:\n",
    "            gretchen += 1\n",
    "\n",
    "print(faust, mephisto, gretchen) \n",
    "print(f.closed) # True"
   ]
  },
  {
   "cell_type": "markdown",
   "metadata": {},
   "source": [
    "Here, `with` establishes a **context manager** which wraps the open function and the block that follows. In this case, the context manager’s predefined **clean-up action** closes the file, even if an exception occurs, so as long as the expression in the first line executes without raising an exception, the file is always closed. That code is equivalent to this code: "
   ]
  },
  {
   "cell_type": "code",
   "execution_count": null,
   "metadata": {},
   "outputs": [],
   "source": [
    "filename = \"faust.txt\"\n",
    "\n",
    "try:\n",
    "    f = open(data_root.joinpath(filename), \"r\")\n",
    "    for line in f:\n",
    "        print(line)\n",
    "except Exception as e:\n",
    "    raise e\n",
    "finally: \n",
    "    f.close() #remember: will always be executed"
   ]
  },
  {
   "cell_type": "markdown",
   "metadata": {},
   "source": [
    "## Module creation <a class=\"anchor\" id=\"modules\"></a>\n",
    "\n",
    "A good explanation with a lot of examples: [python-modules-packages](https://realpython.com/python-modules-packages/)"
   ]
  },
  {
   "cell_type": "markdown",
   "metadata": {},
   "source": [
    "It’s easy to create your own modules, which can be imported and used in the same way as Python’s built-in library modules. The example in this listing is a simple module with one function that prompts the user to enter a filename and determines the number of times that words occur in this file. "
   ]
  },
  {
   "cell_type": "markdown",
   "metadata": {},
   "source": [
    "## Object-oriented programming <a class=\"anchor\" id=\"oop\"></a>\n",
    "\n",
    "Python provides full support for OOP. The next cell is an example that might be the start of a simple shapes module for a drawing program. It’s intended mainly to serve as a reference if you’re already familiar with OOP. The callout notes relate Python’s syntax and semantics to the standard features found in other languages. "
   ]
  },
  {
   "cell_type": "markdown",
   "metadata": {},
   "source": [
    "Classes are defined by using the `class` keyword. The instance initializer method (**constructor**) for a class is always called `__init__`. Instance variables `x` and `y` are created and initialized here. Methods, like functions, are defined by using the `def` keyword. The first argument of any method is **by convention called** `self`. When the method is invoked, `self` is set to **the instance that invoked the method**. Class Circle **inherits** from class Shape and `pi` is similar to, but not exactly like, a standard class variable. A class must, in its initializer, explicitly call the initializer of its base class. The `__str__` method is used by the print function. Other special method attributes permit **operator overloading** or are employed by **built-in** methods such as the length (`len`) function."
   ]
  },
  {
   "cell_type": "code",
   "execution_count": null,
   "metadata": {},
   "outputs": [],
   "source": [
    "\"\"\"sh module. Contains classes Shape, Square and Circle\"\"\"\n",
    "\n",
    "class Shape:                                                       \n",
    "    \"\"\"Shape class: has method move\"\"\"\n",
    "    # all class methods must accept the current instance as first argument\n",
    "    # as per convention, this is called self\n",
    "    def __init__(self, x, y):\n",
    "        self.x = x\n",
    "        self.y = y\n",
    "    \n",
    "    # one line between class methods\n",
    "    def move(self, deltaX, deltaY):\n",
    "        self.x = self.x + deltaX\n",
    "        self.y = self.y + deltaY\n",
    "\n",
    "\n",
    "# two lines between classes or functions on module level\n",
    "class Square(Shape):\n",
    "    \"\"\"Square Class:inherits from Shape\"\"\"\n",
    "    def __init__(self, side=1, x=0, y=0):\n",
    "        super().__init__(x, y) # self is automatically passed! Also Square.__init__(self, x,y) is possible but not best practice\n",
    "        self.side = side\n",
    "\n",
    "\n",
    "class Circle(Shape):\n",
    "    \"\"\"Circle Class: inherits from Shape and has method area\"\"\"\n",
    "    pi = 3.14159 # cass attribute, available via self.pi and also Shape.pi\n",
    "\n",
    "    def __init__(self, r=1, x=0, y=0):\n",
    "        super().__init__(x, y)\n",
    "        self.radius = r\n",
    "\n",
    "    def area(self):\n",
    "        \"\"\"Circle area method: returns the area of the circle.\"\"\"\n",
    "        return self.radius * self.radius * self.pi\n",
    "\n",
    "    def __str__(self):\n",
    "        return \"Circle of radius %s at coordinates (%d, %d)\"\\\n",
    "               % (self.radius, self.x, self.y)\n",
    "\n",
    "sh = Shape(1,1)\n",
    "sq = Square()\n",
    "print(sq) # <__main__.Square object at 0x00000197785C7148>\n",
    "\n",
    "ci = Circle()\n",
    "print(ci) # Circle of radius 1 at coordinates (0, 0)\n"
   ]
  }
 ],
 "metadata": {
  "file_extension": ".py",
  "kernelspec": {
   "display_name": "Python 3.9",
   "language": "python",
   "name": "py39"
  },
  "language_info": {
   "codemirror_mode": {
    "name": "ipython",
    "version": 3
   },
   "file_extension": ".py",
   "mimetype": "text/x-python",
   "name": "python",
   "nbconvert_exporter": "python",
   "pygments_lexer": "ipython3",
   "version": "3.9.2"
  },
  "mimetype": "text/x-python",
  "name": "python",
  "npconvert_exporter": "python",
  "pygments_lexer": "ipython3",
  "version": 3
 },
 "nbformat": 4,
 "nbformat_minor": 2
}
