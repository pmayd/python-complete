{
 "nbformat": 4,
 "nbformat_minor": 2,
 "metadata": {
  "language_info": {
   "name": "python",
   "codemirror_mode": {
    "name": "ipython",
    "version": 3
   },
   "version": "3.7.4-final"
  },
  "orig_nbformat": 2,
  "file_extension": ".py",
  "mimetype": "text/x-python",
  "name": "python",
  "npconvert_exporter": "python",
  "pygments_lexer": "ipython3",
  "version": 3,
  "kernelspec": {
   "name": "python37464bitbasecondae114a9ddfceb4878aa982be3e0b8cc10",
   "display_name": "Python 3.7.4 64-bit ('base': conda)"
  }
 },
 "cells": [
  {
   "cell_type": "markdown",
   "execution_count": null,
   "metadata": {},
   "outputs": [],
   "source": [
    "# Python Basics"
   ]
  },
  {
   "cell_type": "markdown",
   "execution_count": null,
   "metadata": {},
   "outputs": [],
   "source": [
    "## Numbers\n",
    "\n",
    "Python’s four number types are integers, floats, complex numbers, and Booleans:\n",
    "\n",
    "- Integers—1, –3, 42, 355, 888888888888888, –7777777777 (integers aren’t limited in size except by available memory)\n",
    "- Floats—3.0, 31e12, –6e-4\n",
    "- Complex numbers—3 + 2j, –4- 2j, 4.2 + 6.3j\n",
    "- Booleans—True, False\n",
    "\n",
    "You can manipulate them by using the arithmetic operators: `+` (addition), `–` (subtraction), `*` (multiplication), `/` (division), `**` (exponentiation), and `%` (modulus). "
   ]
  },
  {
   "cell_type": "code",
   "execution_count": 3,
   "metadata": {},
   "outputs": [
    {
     "name": "stdout",
     "output_type": "stream",
     "text": "1\n2.5\n2\n1\n256\n1000000003000000003000000001\n"
    }
   ],
   "source": [
    "x = 5 + 2 - 3 * 2\n",
    "print(x)  # 1\n",
    "print(5 / 2)  # 2.5                                \n",
    "print(5 // 2) # 2                   \n",
    "print(5 % 2)  # 1\n",
    "print(2 ** 8)  # 256\n",
    "print(1000000001**3)  # 1000000003000000003000000001        "
   ]
  },
  {
   "cell_type": "code",
   "execution_count": 5,
   "metadata": {},
   "outputs": [
    {
     "name": "stdout",
     "output_type": "stream",
     "text": "33.13784737771648\n9.695e+75\n1.000000003e+27\n"
    }
   ],
   "source": [
    "print(4.3 ** 2.4)  # 33.13784737771648\n",
    "print(3.5e30 * 2.77e45)  # 9.695e+75\n",
    "print(1000000001.0 ** 3) # 1.000000003e+27"
   ]
  },
  {
   "cell_type": "code",
   "execution_count": 6,
   "metadata": {},
   "outputs": [
    {
     "name": "stdout",
     "output_type": "stream",
     "text": "(0.6817665190890336-2.1207457766159625j)\n(-6+35j)\n"
    },
    {
     "data": {
      "text/plain": "(-6.0, 35.0)"
     },
     "execution_count": 6,
     "metadata": {},
     "output_type": "execute_result"
    }
   ],
   "source": [
    "print((3+2j) ** (2+3j))  # (0.6817665190890336-2.1207457766159625j)\n",
    "print((3+2j) * (4+9j))  # (-6+35j)\n",
    "\n",
    "x = (3+2j) * (4+9j)\n",
    "\n",
    "x.real, x.imag  # -6.0 35.0"
   ]
  },
  {
   "cell_type": "code",
   "execution_count": 12,
   "metadata": {},
   "outputs": [
    {
     "data": {
      "text/plain": "(3, 3.5, 3.49, 3.0, 30.0)"
     },
     "execution_count": 12,
     "metadata": {},
     "output_type": "execute_result"
    }
   ],
   "source": [
    "round(3.49), round(3.49, 1), round(3.49, 2), round(3.49, 0), round(34.34, -1)            "
   ]
  },
  {
   "cell_type": "markdown",
   "execution_count": null,
   "metadata": {},
   "outputs": [],
   "source": [
    "Built-in functions are always available and are called by using a standard function-calling syntax. In the preceding code, `round` is called with a float as its input argument.\n",
    "\n",
    "The functions in library modules are made available via the import statement. The `math` **library module** is imported, and its `ceil` function is called using attribute notation: `module.function(arguments)`. "
   ]
  },
  {
   "cell_type": "code",
   "execution_count": 16,
   "metadata": {},
   "outputs": [
    {
     "data": {
      "text/plain": "(4, 3, -0.9000000000000004)"
     },
     "execution_count": 16,
     "metadata": {},
     "output_type": "execute_result"
    }
   ],
   "source": [
    "import math\n",
    "\n",
    "math.ceil(3.49), math.floor(3.49), math.remainder(5.1,2)"
   ]
  },
  {
   "cell_type": "markdown",
   "execution_count": null,
   "metadata": {},
   "outputs": [],
   "source": [
    "## Booleans\n",
    "\n",
    "Other than their representation as `True` and `False`, Booleans behave like the numbers 1 (True) and 0 (False) 1."
   ]
  },
  {
   "cell_type": "code",
   "execution_count": 23,
   "metadata": {},
   "outputs": [
    {
     "name": "stdout",
     "output_type": "stream",
     "text": "False\n<class 'bool'>\nTrue\n2\n"
    }
   ],
   "source": [
    "x = False\n",
    "print(x) # False\n",
    "print(type(x)) # type bool\n",
    "print(not x) # True\n",
    "\n",
    "y = True * 2       \n",
    "print(y) # 2"
   ]
  },
  {
   "cell_type": "markdown",
   "execution_count": null,
   "metadata": {},
   "outputs": [],
   "source": [
    "## Lists\n",
    "\n",
    "Python has a powerful built-in list type:\n",
    "\n",
    "```python\n",
    "[]\n",
    "[1]\n",
    "[1, 2, 3, 4, 5, 6, 7, 8, 12]\n",
    "[1, \"two\", 3, 4.0, [\"a\", \"b\"], (5,6)]        1\n",
    "```\n",
    "\n",
    "A list can contain a mixture of other types as its elements, including strings, tuples, lists, dictionaries, functions, file objects, and any type of number 1.\n",
    "\n",
    "A list can be indexed from its front or back. You can also refer to a subsegment, or slice, of a list by using slice notation: \n"
   ]
  },
  {
   "cell_type": "code",
   "execution_count": 30,
   "metadata": {},
   "outputs": [
    {
     "name": "stdout",
     "output_type": "stream",
     "text": "first\nthird\nfourth\nthird\n['second', 'third']\n['first', 'second', 'third']\n['third']\n['first', 'second', 'third']\n['third', 'fourth']\n"
    }
   ],
   "source": [
    "x = [\"first\", \"second\", \"third\", \"fourth\"]\n",
    "print(x[0])  # first element at index 0: \"first\" \n",
    "\n",
    "print(x[2])  # third element at index 2: \"third\"\n",
    "\n",
    "print(x[-1])  # first element from the back at index -1: \"fourth\"\n",
    "\n",
    "print(x[-2])  # second element from the back at index -2: \"third\"                                        \n",
    "\n",
    "print(x[1:-1])  # a slice, that is all elements from the first index (inclusive) to the last index (exclusive): ['second', 'third']\n",
    "\n",
    "print(x[0:3])  # a slice from the first element to the fourth: ['first', 'second', 'third']\n",
    "\n",
    "print(x[-2:-1])  # a slice from the second last element to the last element: ['third']\n",
    "\n",
    "print(x[:3])  # if you omit the first argument, its always 0: ['first', 'second', 'third']\n",
    "\n",
    "print(x[-2:]) # if you omit the last argument, its always len(x), here 4: ['third', 'fourth']"
   ]
  },
  {
   "cell_type": "code",
   "execution_count": 31,
   "metadata": {},
   "outputs": [
    {
     "data": {
      "text/plain": "['first', 'second', 'third', 'fourth']"
     },
     "execution_count": 31,
     "metadata": {},
     "output_type": "execute_result"
    }
   ],
   "source": [
    "# how can you make a copy of a list then?\n",
    "x[:]"
   ]
  },
  {
   "cell_type": "markdown",
   "execution_count": null,
   "metadata": {},
   "outputs": [],
   "source": [
    "Table 3.1. List indices\n",
    "\n",
    "|x= | [ | \"first\" , | \"second\" , | \"third\" , | \"fourth\" | ] | \n",
    "|---|---|-----------|------------|-----------|----------|---|\n",
    "| Positive indices |  | 0 | 1 | 2 |\t3 |  |\t \n",
    "| Negative indices |  |\t–4 | –3 | –2 | –1 |  |"
   ]
  },
  {
   "cell_type": "markdown",
   "execution_count": null,
   "metadata": {},
   "outputs": [],
   "source": [
    "You can use this notation to add, remove, and replace elements in a list or to obtain an element or a new list that’s a slice from it:"
   ]
  },
  {
   "cell_type": "code",
   "execution_count": 34,
   "metadata": {},
   "outputs": [
    {
     "name": "stdout",
     "output_type": "stream",
     "text": "[1, 'two', 3, 4, 5, 6, 7, 8]\n[1, 'two', 3, 4, 5, 6.0, 6.5, 7.0, 8]\n[6.0, 6.5, 7.0, 8]\n"
    }
   ],
   "source": [
    "x = [1, 2, 3, 4, 5, 6, 7, 8, 9]\n",
    "x[1] = \"two\"\n",
    "x[8:9] = []\n",
    "\n",
    "print(x)  # [1, 'two', 3, 4, 5, 6, 7, 8]\n",
    "\n",
    "x[5:7] = [6.0, 6.5, 7.0]\n",
    "\n",
    "print(x)  # [1, 'two', 3, 4, 5, 6.0, 6.5, 7.0, 8]\n",
    "\n",
    "print(x[5:]) # [6.0, 6.5, 7.0, 8]"
   ]
  },
  {
   "cell_type": "markdown",
   "execution_count": null,
   "metadata": {},
   "outputs": [],
   "source": [
    "Some built-in functions (`len`, `max`, and `min`), some operators (`in`, `+`, and `*`), the `del` statement, and the list methods `(append, count, extend, index, insert, pop, remove, reverse, and sort)` operate on lists: "
   ]
  },
  {
   "cell_type": "code",
   "execution_count": 61,
   "metadata": {},
   "outputs": [
    {
     "name": "stdout",
     "output_type": "stream",
     "text": "45\n0\n9\n10\nTrue\nFalse\n[0, 1, 2, 3, 4, 5, 6, 7, 8, 9, 10]\n[1, 1, 1]\n[1, 4, 5, 6, 7, 8, 9]\n[1, 4, 5, 6, 7, 8, 9, 10]\n0\n[1, 4, 5, 6, 7, 8, 9, 10, 11, 12, 13]\n7\n0\n1\n[4, 5, 6, 7, 8, 9, 10, 11, 12, 13]\nNone\n[4, 5, 6, 7, 8, 9, 10, 11, 12, 13]\n[13, 12, 11, 10, 9, 8, 7, 6, 5, 4]\n[4, 5, 6, 7, 8, 9, 10, 11, 12, 13]\nHelp on built-in function sort:\n\nsort(*, key=None, reverse=False) method of builtins.list instance\n    Stable sort *IN PLACE*.\n\n"
    }
   ],
   "source": [
    "x = list(range(10))\n",
    "\n",
    "print(sum(x))  # 45\n",
    "print(min(x))  # 0 \n",
    "print(max(x))  # 9\n",
    "\n",
    "print(len(x))  # 10\n",
    "\n",
    "print(5 in x)  # True\n",
    "print(\"5\" in x)  # False\n",
    "\n",
    "#print(x + 1)  # Error\n",
    "print(x + [10]) # creates new List [0, 1, 2, 3, 4, 5, 6, 7, 8, 9, 10]\n",
    "print([1] * 3) # creates a new list [1, 1, 1]\n",
    "\n",
    "del x[0] # delete first element inplace\n",
    "del x[1:3] # delete the whole range\n",
    "print(x)\n",
    "\n",
    "# the list functions seldomly return the list, instead they change the list inplace!\n",
    "x.append(10)\n",
    "print(x)  # changed the object behind x: [0, 1, 2, 3, 4, 5, 6, 7, 8, 9, 10]\n",
    "print(x.count(0))  # 1\n",
    "\n",
    "x.extend([11, 12, 13])\n",
    "\n",
    "print(x)  # add all elements of a second list to the first: [0, 1, 2, 3, 4, 5, 6, 7, 8, 9, 10, 11, 12, 13] \n",
    "\n",
    "print(x.index(10))  # 10 (normally offset of +1!)\n",
    "print([1,2,1].index(1))  # first occurence!\n",
    "\n",
    "print(x.pop(0))  # removes first element AND returns it\n",
    "print(x)\n",
    "\n",
    "x.insert(1, 1) # add element 1 at index 1\n",
    "print(x.remove(1)) # removes the first occurence of the element, but does not return it\n",
    "print(x)\n",
    "\n",
    "x.reverse()  # reverse list inplace\n",
    "print(x)\n",
    "\n",
    "x.sort() # sort ascending\n",
    "print(x)\n",
    "\n",
    "help(x.sort)"
   ]
  },
  {
   "cell_type": "markdown",
   "execution_count": null,
   "metadata": {},
   "outputs": [],
   "source": [
    "## Tuples\n",
    "\n",
    "Tuples are similar to lists but are **immutable**—that is, they can’t be modified after they’ve been created. The operators (`in`, `+`, and `*`) and built-in functions (`len`, `sum`, `max`, and `min`) operate on them the same way as they do on lists because none of them modifies the original. Index and slice notation work the same way for __obtaining__ elements or slices but **can’t** be used to add, remove, or replace elements. Also, there are only two tuple methods: `count` and `index`. An important purpose of tuples is for use as **keys for dictionaries**. They’re also more efficient to use when you don’t need modifiability. "
   ]
  },
  {
   "cell_type": "code",
   "execution_count": 69,
   "metadata": {},
   "outputs": [
    {
     "name": "stdout",
     "output_type": "stream",
     "text": "()\n(1,)\n(1, 2, 3, 4, 5, 6, 7, 8, 12)\n(1, 'two', 3, 4.0, ['a', 'b'], (5, 6))\n(1, 2, 3, 4)\n[1, 2, 3, 4]\n"
    }
   ],
   "source": [
    "print(()) # a tuple is defined by () instead of [], which is for lists\n",
    "print((1,)) # (1) would be a mathematical expression, so we need a comma here to tell Python that we are actually defining a tuple                                   \n",
    "print((1, 2, 3, 4, 5, 6, 7, 8, 12))\n",
    "print((1, \"two\", 3, 4.0, [\"a\", \"b\"], (5, 6)))  # like lists, tuples can hold any data type  \n",
    "\n",
    "x = [1, 2, 3, 4]\n",
    "print(tuple(x))  # the tuple build-in function turns any iterable into a tuple\n",
    "print(list(x)) # and back again to lists\n"
   ]
  },
  {
   "cell_type": "code",
   "execution_count": 72,
   "metadata": {},
   "outputs": [
    {
     "ename": "TypeError",
     "evalue": "'tuple' object does not support item assignment",
     "output_type": "error",
     "traceback": [
      "\u001b[1;31m---------------------------------------------------------------------------\u001b[0m",
      "\u001b[1;31mTypeError\u001b[0m                                 Traceback (most recent call last)",
      "\u001b[1;32m<ipython-input-72-80fa6bcf43a4>\u001b[0m in \u001b[0;36m<module>\u001b[1;34m\u001b[0m\n\u001b[0;32m      1\u001b[0m \u001b[0mx\u001b[0m \u001b[1;33m=\u001b[0m \u001b[1;33m(\u001b[0m\u001b[1;36m1\u001b[0m\u001b[1;33m,\u001b[0m\u001b[1;36m2\u001b[0m\u001b[1;33m,\u001b[0m\u001b[1;36m3\u001b[0m\u001b[1;33m,\u001b[0m\u001b[1;36m4\u001b[0m\u001b[1;33m,\u001b[0m\u001b[1;33m)\u001b[0m\u001b[1;33m\u001b[0m\u001b[1;33m\u001b[0m\u001b[0m\n\u001b[0;32m      2\u001b[0m \u001b[0mx\u001b[0m\u001b[1;33m[\u001b[0m\u001b[1;36m0\u001b[0m\u001b[1;33m]\u001b[0m \u001b[1;31m# is fine\u001b[0m\u001b[1;33m\u001b[0m\u001b[1;33m\u001b[0m\u001b[0m\n\u001b[1;32m----> 3\u001b[1;33m \u001b[0mx\u001b[0m\u001b[1;33m[\u001b[0m\u001b[1;36m0\u001b[0m\u001b[1;33m]\u001b[0m \u001b[1;33m=\u001b[0m \u001b[1;36m1\u001b[0m \u001b[1;31m# is not\u001b[0m\u001b[1;33m\u001b[0m\u001b[1;33m\u001b[0m\u001b[0m\n\u001b[0m",
      "\u001b[1;31mTypeError\u001b[0m: 'tuple' object does not support item assignment"
     ]
    }
   ],
   "source": [
    "x = (1,2,3,4,)\n",
    "x[0] # is fine\n",
    "#x[0] = 1 # is not -> immutable"
   ]
  },
  {
   "cell_type": "markdown",
   "execution_count": null,
   "metadata": {},
   "outputs": [],
   "source": [
    "## Strings\n",
    "\n",
    "String processing is one of Python’s strengths. There are many options for delimiting strings:\n",
    "\n",
    "```python\n",
    "\"A string in double quotes can contain 'single quote' characters.\"\n",
    "'A string in single quotes can contain \"double quote\" characters.'\n",
    "'''\\tA string which starts with a tab; ends with a newline character.\\n'''\n",
    "\"\"\"This is a triple double quoted string, the only kind that can\n",
    "    contain real newlines.\"\"\"\n",
    "```\n",
    "\n",
    "Strings can be delimited by single (' '), double (\" \"), triple single (''' '''), or triple double (\"\"\" \"\"\") quotations and can contain tab (`\\t`) and newline (`\\n`) characters.\n",
    "\n",
    "Strings are also **immutable**. The operators and functions that work with them return **new strings** derived from the original. The operators (`in`, `+`, and `*`) and built-in functions (`len`, `max`, and `min`) operate on strings as they do on lists and tuples. Index and slice notation works the same way for obtaining elements or slices but can’t be used to add, remove, or replace elements.\n",
    "\n",
    "Strings have several methods to work with their contents, and the re library module also contains functions for working with strings: \n"
   ]
  },
  {
   "cell_type": "code",
   "execution_count": 79,
   "metadata": {},
   "outputs": [
    {
     "name": "stdout",
     "output_type": "stream",
     "text": "live and     let \t   \tlive\n['live', 'and', 'let', 'live']\n['999', '8746', '13215']\nlive and enjoy life\n"
    }
   ],
   "source": [
    "x = \"live and     let \\t   \\tlive\"\n",
    "print(x)\n",
    "\n",
    "print(x.split()) # split is one of the most convenient methods in Python\n",
    "\n",
    "print(\"999-8746-13215\".split(\"-\")) # as you can define the character at which to split\n",
    "\n",
    "print(x.replace(\"    let \\t   \\tlive\", \"enjoy life\")) # replace works fine for most simple cases"
   ]
  },
  {
   "cell_type": "code",
   "execution_count": 102,
   "metadata": {},
   "outputs": [
    {
     "name": "stdout",
     "output_type": "stream",
     "text": "live and let live\n"
    }
   ],
   "source": [
    "import re \n",
    "\n",
    "x = \"live and     let \\t   \\tlive\"\n",
    "\n",
    "regexpr = re.compile(r\"[\\t ]+\") # first you compile a regular expression, that is the pattern you want to search for or use\n",
    "print(regexpr.sub(\" \", x)) # second you use the compiled expression with a target string\n"
   ]
  },
  {
   "cell_type": "code",
   "execution_count": 104,
   "metadata": {},
   "outputs": [
    {
     "name": "stdout",
     "output_type": "stream",
     "text": "Hello, Eric.\nHello, Eric. You are 74.\nHello, Eric. You are 74.\nHello, Eric. You are 74.\nHello, Eric. You are 74.\n"
    }
   ],
   "source": [
    "# source: https://realpython.com/python-f-strings/\n",
    "\n",
    "name = \"Eric\"\n",
    "print(\"Hello, %s.\" % name) # 'Hello, Eric.'\n",
    "\n",
    "name = \"Eric\"\n",
    "age = 74\n",
    "print(\"Hello, %s. You are %s.\" % (name, age))  # 'Hello Eric. You are 74.'\n",
    "\n",
    "print(\"Hello, {}. You are {}.\".format(name, age))   # 'Hello, Eric. You are 74.'\n",
    "print(\"Hello, {1}. You are {0}.\".format(age, name))  # 'Hello, Eric. You are 74.'\n",
    "\n",
    "person = {'name': 'Eric', 'age': 74}\n",
    "print(\"Hello, {name}. You are {age}.\".format(name=person['name'], age=person['age']))  # 'Hello, Eric. You are 74."
   ]
  },
  {
   "cell_type": "code",
   "execution_count": 106,
   "metadata": {},
   "outputs": [
    {
     "name": "stdout",
     "output_type": "stream",
     "text": "Hello, Eric. You are 74.\n74\neric idle is funny.\neric idle is funny.\n"
    }
   ],
   "source": [
    "name = \"Eric\"\n",
    "age = 74\n",
    "print(f\"Hello, {name}. You are {age}.\") # 'Hello, Eric. You are 74.'\n",
    "\n",
    "print(f\"{2 * 37}\")  # 74\n",
    "\n",
    "def to_lowercase(input):\n",
    "    return input.lower()\n",
    "\n",
    "name = \"Eric Idle\"\n",
    "print(f\"{to_lowercase(name)} is funny.\") # 'eric idle is funny.'\n",
    "print(f\"{name.lower()} is funny.\")       # 'eric idle is funny.'\n",
    "\n",
    "\n",
    "class Comedian:\n",
    "    def __init__(self, first_name, last_name, age):\n",
    "        self.first_name = first_name\n",
    "        self.last_name = last_name\n",
    "        self.age = age\n",
    "\n",
    "    def __str__(self):\n",
    "        return f\"{self.first_name} {self.last_name} is {self.age}.\"\n",
    "\n",
    "    def __repr__(self):\n",
    "        return f\"{self.first_name} {self.last_name} is {self.age}. Surprise!\"\n",
    "\n",
    "new_comedian = Comedian(\"Eric\", \"Idle\", \"74\")\n",
    "print(f\"{new_comedian}\") # 'Eric Idle is 74.'"
   ]
  },
  {
   "cell_type": "code",
   "execution_count": 107,
   "metadata": {},
   "outputs": [
    {
     "data": {
      "text/plain": "'Hi Eric. You are a comedian. You were in Monty Python.'"
     },
     "execution_count": 107,
     "metadata": {},
     "output_type": "execute_result"
    }
   ],
   "source": [
    "name = \"Eric\"\n",
    "profession = \"comedian\"\n",
    "affiliation = \"Monty Python\"\n",
    "message = (\n",
    "    f\"Hi {name}. \"\n",
    "    f\"You are a {profession}. \" # you need a 'f' in front of each line!\n",
    "    f\"You were in {affiliation}.\"\n",
    ")\n",
    "\n",
    "message # 'Hi Eric. You are a comedian. You were in Monty Python.'"
   ]
  },
  {
   "cell_type": "markdown",
   "execution_count": null,
   "metadata": {},
   "outputs": [],
   "source": [
    "The f in f-strings may as well stand for “fast.”\n",
    "\n",
    "f-strings are faster than both %-formatting and str.format(). As you already saw, f-strings are expressions evaluated at runtime rather than constant values. Here’s an excerpt from the docs:\n",
    "\n",
    ">>    “F-strings provide a way to embed expressions inside string literals, using a minimal syntax. It should be noted that an f-string is really an expression evaluated at run time, not a constant value. In Python source code, an f-string is a literal string, prefixed with f, which contains expressions inside braces. The expressions are replaced with their values.” (Source)\n",
    "\n",
    "At runtime, the expression inside the curly braces is evaluated in its own scope and then put together with the string literal part of the f-string. The resulting string is then returned. That’s all it takes."
   ]
  }
 ]
}