{
 "nbformat": 4,
 "nbformat_minor": 2,
 "metadata": {
  "language_info": {
   "name": "python",
   "codemirror_mode": {
    "name": "ipython",
    "version": 3
   },
   "version": "3.7.4-final"
  },
  "orig_nbformat": 2,
  "file_extension": ".py",
  "mimetype": "text/x-python",
  "name": "python",
  "npconvert_exporter": "python",
  "pygments_lexer": "ipython3",
  "version": 3,
  "kernelspec": {
   "name": "python37464bitbasecondae114a9ddfceb4878aa982be3e0b8cc10",
   "display_name": "Python 3.7.4 64-bit ('base': conda)"
  }
 },
 "cells": [
  {
   "cell_type": "markdown",
   "execution_count": null,
   "metadata": {},
   "outputs": [],
   "source": [
    "# Python Basics"
   ]
  },
  {
   "cell_type": "markdown",
   "execution_count": null,
   "metadata": {},
   "outputs": [],
   "source": [
    "Python’s four number types are integers, floats, complex numbers, and Booleans:\n",
    "\n",
    "- Integers—1, –3, 42, 355, 888888888888888, –7777777777 (integers aren’t limited in size except by available memory)\n",
    "- Floats—3.0, 31e12, –6e-4\n",
    "- Complex numbers—3 + 2j, –4- 2j, 4.2 + 6.3j\n",
    "- Booleans—True, False\n",
    "\n",
    "You can manipulate them by using the arithmetic operators: `+` (addition), `–` (subtraction), `*` (multiplication), `/` (division), `**` (exponentiation), and `%` (modulus). "
   ]
  },
  {
   "cell_type": "code",
   "execution_count": 3,
   "metadata": {},
   "outputs": [
    {
     "name": "stdout",
     "output_type": "stream",
     "text": "1\n2.5\n2\n1\n256\n1000000003000000003000000001\n"
    }
   ],
   "source": [
    "x = 5 + 2 - 3 * 2\n",
    "print(x)  # 1\n",
    "print(5 / 2)  # 2.5                                \n",
    "print(5 // 2) # 2                   \n",
    "print(5 % 2)  # 1\n",
    "print(2 ** 8)  # 256\n",
    "print(1000000001**3)  # 1000000003000000003000000001        "
   ]
  },
  {
   "cell_type": "code",
   "execution_count": 5,
   "metadata": {},
   "outputs": [
    {
     "name": "stdout",
     "output_type": "stream",
     "text": "33.13784737771648\n9.695e+75\n1.000000003e+27\n"
    }
   ],
   "source": [
    "print(4.3 ** 2.4)  # 33.13784737771648\n",
    "print(3.5e30 * 2.77e45)  # 9.695e+75\n",
    "print(1000000001.0 ** 3) # 1.000000003e+27"
   ]
  },
  {
   "cell_type": "code",
   "execution_count": 6,
   "metadata": {},
   "outputs": [
    {
     "name": "stdout",
     "output_type": "stream",
     "text": "(0.6817665190890336-2.1207457766159625j)\n(-6+35j)\n"
    },
    {
     "data": {
      "text/plain": "(-6.0, 35.0)"
     },
     "execution_count": 6,
     "metadata": {},
     "output_type": "execute_result"
    }
   ],
   "source": [
    "print((3+2j) ** (2+3j))  # (0.6817665190890336-2.1207457766159625j)\n",
    "print((3+2j) * (4+9j))  # (-6+35j)\n",
    "\n",
    "x = (3+2j) * (4+9j)\n",
    "\n",
    "x.real, x.imag  # -6.0 35.0"
   ]
  },
  {
   "cell_type": "code",
   "execution_count": 12,
   "metadata": {},
   "outputs": [
    {
     "data": {
      "text/plain": "(3, 3.5, 3.49, 3.0, 30.0)"
     },
     "execution_count": 12,
     "metadata": {},
     "output_type": "execute_result"
    }
   ],
   "source": [
    "round(3.49), round(3.49, 1), round(3.49, 2), round(3.49, 0), round(34.34, -1)            "
   ]
  },
  {
   "cell_type": "markdown",
   "execution_count": null,
   "metadata": {},
   "outputs": [],
   "source": [
    "Built-in functions are always available and are called by using a standard function-calling syntax. In the preceding code, `round` is called with a float as its input argument.\n",
    "\n",
    "The functions in library modules are made available via the import statement. The `math` **library module** is imported, and its `ceil` function is called using attribute notation: `module.function(arguments)`. "
   ]
  },
  {
   "cell_type": "code",
   "execution_count": 16,
   "metadata": {},
   "outputs": [
    {
     "data": {
      "text/plain": "(4, 3, -0.9000000000000004)"
     },
     "execution_count": 16,
     "metadata": {},
     "output_type": "execute_result"
    }
   ],
   "source": [
    "import math\n",
    "\n",
    "math.ceil(3.49), math.floor(3.49), math.remainder(5.1,2)"
   ]
  },
  {
   "cell_type": "markdown",
   "execution_count": null,
   "metadata": {},
   "outputs": [],
   "source": [
    "Booleans\n",
    "\n",
    "Other than their representation as `True` and `False`, Booleans behave like the numbers 1 (True) and 0 (False) 1."
   ]
  },
  {
   "cell_type": "code",
   "execution_count": 23,
   "metadata": {},
   "outputs": [
    {
     "name": "stdout",
     "output_type": "stream",
     "text": "False\n<class 'bool'>\nTrue\n2\n"
    }
   ],
   "source": [
    "x = False\n",
    "print(x) # False\n",
    "print(type(x)) # type bool\n",
    "print(not x) # True\n",
    "\n",
    "y = True * 2       \n",
    "print(y) # 2"
   ]
  },
  {
   "cell_type": "markdown",
   "execution_count": null,
   "metadata": {},
   "outputs": [],
   "source": [
    "Lists\n",
    "\n",
    "Python has a powerful built-in list type:\n",
    "\n",
    "```python\n",
    "[]\n",
    "[1]\n",
    "[1, 2, 3, 4, 5, 6, 7, 8, 12]\n",
    "[1, \"two\", 3, 4.0, [\"a\", \"b\"], (5,6)]        1\n",
    "```\n",
    "\n",
    "A list can contain a mixture of other types as its elements, including strings, tuples, lists, dictionaries, functions, file objects, and any type of number 1.\n",
    "\n",
    "A list can be indexed from its front or back. You can also refer to a subsegment, or slice, of a list by using slice notation: \n"
   ]
  },
  {
   "cell_type": "code",
   "execution_count": 30,
   "metadata": {},
   "outputs": [
    {
     "name": "stdout",
     "output_type": "stream",
     "text": "first\nthird\nfourth\nthird\n['second', 'third']\n['first', 'second', 'third']\n['third']\n['first', 'second', 'third']\n['third', 'fourth']\n"
    }
   ],
   "source": [
    "x = [\"first\", \"second\", \"third\", \"fourth\"]\n",
    "print(x[0])  # first element at index 0: \"first\" \n",
    "\n",
    "print(x[2])  # third element at index 2: \"third\"\n",
    "\n",
    "print(x[-1])  # first element from the back at index -1: \"fourth\"\n",
    "\n",
    "print(x[-2])  # second element from the back at index -2: \"third\"                                        \n",
    "\n",
    "print(x[1:-1])  # a slice, that is all elements from the first index (inclusive) to the last index (exclusive): ['second', 'third']\n",
    "\n",
    "print(x[0:3])  # a slice from the first element to the fourth: ['first', 'second', 'third']\n",
    "\n",
    "print(x[-2:-1])  # a slice from the second last element to the last element: ['third']\n",
    "\n",
    "print(x[:3])  # if you omit the first argument, its always 0: ['first', 'second', 'third']\n",
    "\n",
    "print(x[-2:]) # if you omit the last argument, its always len(x), here 4: ['third', 'fourth']"
   ]
  },
  {
   "cell_type": "code",
   "execution_count": 31,
   "metadata": {},
   "outputs": [
    {
     "data": {
      "text/plain": "['first', 'second', 'third', 'fourth']"
     },
     "execution_count": 31,
     "metadata": {},
     "output_type": "execute_result"
    }
   ],
   "source": [
    "# how can you make a copy of a list then?\n",
    "x[:]"
   ]
  },
  {
   "cell_type": "markdown",
   "execution_count": null,
   "metadata": {},
   "outputs": [],
   "source": [
    "Table 3.1. List indices\n",
    "\n",
    "|x= | [ | \"first\" , | \"second\" , | \"third\" , | \"fourth\" | ] | \n",
    "|---|---|-----------|------------|-----------|----------|---|\n",
    "| Positive indices |  | 0 | 1 | 2 |\t3 |  |\t \n",
    "| Negative indices |  |\t–4 | –3 | –2 | –1 |  |"
   ]
  },
  {
   "cell_type": "markdown",
   "execution_count": null,
   "metadata": {},
   "outputs": [],
   "source": [
    "You can use this notation to add, remove, and replace elements in a list or to obtain an element or a new list that’s a slice from it:"
   ]
  },
  {
   "cell_type": "code",
   "execution_count": 34,
   "metadata": {},
   "outputs": [
    {
     "name": "stdout",
     "output_type": "stream",
     "text": "[1, 'two', 3, 4, 5, 6, 7, 8]\n[1, 'two', 3, 4, 5, 6.0, 6.5, 7.0, 8]\n[6.0, 6.5, 7.0, 8]\n"
    }
   ],
   "source": [
    "x = [1, 2, 3, 4, 5, 6, 7, 8, 9]\n",
    "x[1] = \"two\"\n",
    "x[8:9] = []\n",
    "\n",
    "print(x)  # [1, 'two', 3, 4, 5, 6, 7, 8]\n",
    "\n",
    "x[5:7] = [6.0, 6.5, 7.0]\n",
    "\n",
    "print(x)  # [1, 'two', 3, 4, 5, 6.0, 6.5, 7.0, 8]\n",
    "\n",
    "print(x[5:]) # [6.0, 6.5, 7.0, 8]"
   ]
  },
  {
   "cell_type": "markdown",
   "execution_count": null,
   "metadata": {},
   "outputs": [],
   "source": [
    "Some built-in functions (`len`, `max`, and `min`), some operators (`in`, `+`, and `*`), the `del` statement, and the list methods `(append, count, extend, index, insert, pop, remove, reverse, and sort)` operate on lists: "
   ]
  },
  {
   "cell_type": "code",
   "execution_count": 54,
   "metadata": {},
   "outputs": [
    {
     "name": "stdout",
     "output_type": "stream",
     "text": "45\n0\n9\n10\nTrue\nFalse\n[0, 1, 2, 3, 4, 5, 6, 7, 8, 9, 10]\n[1, 1, 1]\n[0, 1, 2, 3, 4, 5, 6, 7, 8, 9, 10]\n1\n[0, 1, 2, 3, 4, 5, 6, 7, 8, 9, 10, 11, 12, 13]\n10\n0\n0\n[1, 2, 3, 4, 5, 6, 7, 8, 9, 10, 11, 12, 13]\nNone\n[2, 3, 4, 5, 6, 7, 8, 9, 10, 11, 12, 13]\n[13, 12, 11, 10, 9, 8, 7, 6, 5, 4, 3, 2]\n[2, 3, 4, 5, 6, 7, 8, 9, 10, 11, 12, 13]\nHelp on built-in function sort:\n\nsort(*, key=None, reverse=False) method of builtins.list instance\n    Stable sort *IN PLACE*.\n\n"
    }
   ],
   "source": [
    "x = list(range(10))\n",
    "\n",
    "print(sum(x))  # 45\n",
    "print(min(x))  # 0 \n",
    "print(max(x))  # 9\n",
    "\n",
    "print(len(x))  # 10\n",
    "\n",
    "print(5 in x)  # True\n",
    "print(\"5\" in x)  # False\n",
    "\n",
    "#print(x + 1)  # Error\n",
    "print(x + [10]) # creates new List [0, 1, 2, 3, 4, 5, 6, 7, 8, 9, 10]\n",
    "print([1] * 3) # creates a new list [1, 1, 1]\n",
    "\n",
    "# the list functions seldomly return the list, instead they change the list inplace!\n",
    "x.append(10)\n",
    "print(x)  # changed the object behind x: [0, 1, 2, 3, 4, 5, 6, 7, 8, 9, 10]\n",
    "print(x.count(0))  # 1\n",
    "\n",
    "x.extend([11, 12, 13])\n",
    "\n",
    "print(x)  # add all elements of a second list to the first: [0, 1, 2, 3, 4, 5, 6, 7, 8, 9, 10, 11, 12, 13] \n",
    "\n",
    "print(x.index(10))  # 10 (normally offset of +1!)\n",
    "print([1,2,1].index(1))  # first occurence!\n",
    "\n",
    "print(x.pop(0))  # removes first element AND returns it\n",
    "print(x)\n",
    "\n",
    "print(x.remove(1)) # removes the first occurence of the element, but does not return it\n",
    "print(x)\n",
    "\n",
    "x.reverse()  # reverse list inplace\n",
    "print(x)\n",
    "\n",
    "x.sort() # sort ascending\n",
    "print(x)\n",
    "\n",
    "help(x.sort)"
   ]
  }
 ]
}