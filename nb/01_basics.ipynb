{
 "nbformat": 4,
 "nbformat_minor": 2,
 "metadata": {
  "language_info": {
   "name": "python",
   "codemirror_mode": {
    "name": "ipython",
    "version": 3
   },
   "version": "3.7.4-final"
  },
  "orig_nbformat": 2,
  "file_extension": ".py",
  "mimetype": "text/x-python",
  "name": "python",
  "npconvert_exporter": "python",
  "pygments_lexer": "ipython3",
  "version": 3,
  "kernelspec": {
   "name": "python37464bitbasecondae114a9ddfceb4878aa982be3e0b8cc10",
   "display_name": "Python 3.7.4 64-bit ('base': conda)"
  }
 },
 "cells": [
  {
   "cell_type": "markdown",
   "execution_count": null,
   "metadata": {},
   "outputs": [],
   "source": [
    "# Python Basics"
   ]
  },
  {
   "cell_type": "markdown",
   "execution_count": null,
   "metadata": {},
   "outputs": [],
   "source": [
    "TOC:\n",
    "* [Numbers](#numbers)\n",
    "* [Booleans](#booleans)\n",
    "* [Lists](#lists)\n",
    "* [Tuples](#tuples)\n",
    "* [Strings](#strings)\n",
    "* [Dictionaries](#dics)\n",
    "* [Sets](#sets)\n",
    "* [File objects](#file-object)\n",
    "* [Control flow](#control-flow)"
   ]
  },
  {
   "cell_type": "markdown",
   "execution_count": null,
   "metadata": {},
   "outputs": [],
   "source": [
    "## Numbers  <a class=\"anchor\" id=\"number\"></a>\n",
    "\n",
    "Python’s four number types are integers, floats, complex numbers, and Booleans:\n",
    "\n",
    "- Integers—1, –3, 42, 355, 888888888888888, –7777777777 (integers aren’t limited in size except by available memory)\n",
    "- Floats—3.0, 31e12, –6e-4\n",
    "- Complex numbers—3 + 2j, –4- 2j, 4.2 + 6.3j\n",
    "- Booleans—True, False\n",
    "\n",
    "You can manipulate them by using the arithmetic operators: `+` (addition), `–` (subtraction), `*` (multiplication), `/` (division), `**` (exponentiation), and `%` (modulus). "
   ]
  },
  {
   "cell_type": "code",
   "execution_count": 3,
   "metadata": {},
   "outputs": [
    {
     "name": "stdout",
     "output_type": "stream",
     "text": "1\n2.5\n2\n1\n256\n1000000003000000003000000001\n"
    }
   ],
   "source": [
    "x = 5 + 2 - 3 * 2\n",
    "print(x)  # 1\n",
    "print(5 / 2)  # 2.5                                \n",
    "print(5 // 2) # 2                   \n",
    "print(5 % 2)  # 1\n",
    "print(2 ** 8)  # 256\n",
    "print(1000000001**3)  # 1000000003000000003000000001        "
   ]
  },
  {
   "cell_type": "code",
   "execution_count": 5,
   "metadata": {},
   "outputs": [
    {
     "name": "stdout",
     "output_type": "stream",
     "text": "33.13784737771648\n9.695e+75\n1.000000003e+27\n"
    }
   ],
   "source": [
    "print(4.3 ** 2.4)  # 33.13784737771648\n",
    "print(3.5e30 * 2.77e45)  # 9.695e+75\n",
    "print(1000000001.0 ** 3) # 1.000000003e+27"
   ]
  },
  {
   "cell_type": "code",
   "execution_count": 6,
   "metadata": {},
   "outputs": [
    {
     "name": "stdout",
     "output_type": "stream",
     "text": "(0.6817665190890336-2.1207457766159625j)\n(-6+35j)\n"
    },
    {
     "data": {
      "text/plain": "(-6.0, 35.0)"
     },
     "execution_count": 6,
     "metadata": {},
     "output_type": "execute_result"
    }
   ],
   "source": [
    "print((3+2j) ** (2+3j))  # (0.6817665190890336-2.1207457766159625j)\n",
    "print((3+2j) * (4+9j))  # (-6+35j)\n",
    "\n",
    "x = (3+2j) * (4+9j)\n",
    "\n",
    "x.real, x.imag  # -6.0 35.0"
   ]
  },
  {
   "cell_type": "code",
   "execution_count": 12,
   "metadata": {},
   "outputs": [
    {
     "data": {
      "text/plain": "(3, 3.5, 3.49, 3.0, 30.0)"
     },
     "execution_count": 12,
     "metadata": {},
     "output_type": "execute_result"
    }
   ],
   "source": [
    "round(3.49), round(3.49, 1), round(3.49, 2), round(3.49, 0), round(34.34, -1)            "
   ]
  },
  {
   "cell_type": "markdown",
   "execution_count": null,
   "metadata": {},
   "outputs": [],
   "source": [
    "Built-in functions are always available and are called by using a standard function-calling syntax. In the preceding code, `round` is called with a float as its input argument.\n",
    "\n",
    "The functions in library modules are made available via the import statement. The `math` **library module** is imported, and its `ceil` function is called using attribute notation: `module.function(arguments)`. "
   ]
  },
  {
   "cell_type": "code",
   "execution_count": 16,
   "metadata": {},
   "outputs": [
    {
     "data": {
      "text/plain": "(4, 3, -0.9000000000000004)"
     },
     "execution_count": 16,
     "metadata": {},
     "output_type": "execute_result"
    }
   ],
   "source": [
    "import math\n",
    "\n",
    "math.ceil(3.49), math.floor(3.49), math.remainder(5.1,2)"
   ]
  },
  {
   "cell_type": "markdown",
   "execution_count": null,
   "metadata": {},
   "outputs": [],
   "source": [
    "## Booleans  <a class=\"anchor\" id=\"booleans\"></a>\n",
    "\n",
    "Other than their representation as `True` and `False`, Booleans behave like the numbers 1 (True) and 0 (False) 1."
   ]
  },
  {
   "cell_type": "code",
   "execution_count": 23,
   "metadata": {},
   "outputs": [
    {
     "name": "stdout",
     "output_type": "stream",
     "text": "False\n<class 'bool'>\nTrue\n2\n"
    }
   ],
   "source": [
    "x = False\n",
    "print(x) # False\n",
    "print(type(x)) # type bool\n",
    "print(not x) # True\n",
    "\n",
    "y = True * 2       \n",
    "print(y) # 2"
   ]
  },
  {
   "cell_type": "markdown",
   "execution_count": null,
   "metadata": {},
   "outputs": [],
   "source": [
    "## Lists\n",
    "\n",
    "Python has a powerful built-in list type:\n",
    "\n",
    "```python\n",
    "[]\n",
    "[1]\n",
    "[1, 2, 3, 4, 5, 6, 7, 8, 12]\n",
    "[1, \"two\", 3, 4.0, [\"a\", \"b\"], (5,6)]        1\n",
    "```\n",
    "\n",
    "A list can contain a mixture of other types as its elements, including strings, tuples, lists, dictionaries, functions, file objects, and any type of number 1.\n",
    "\n",
    "A list can be indexed from its front or back. You can also refer to a subsegment, or slice, of a list by using slice notation: \n"
   ]
  },
  {
   "cell_type": "code",
   "execution_count": 30,
   "metadata": {},
   "outputs": [
    {
     "name": "stdout",
     "output_type": "stream",
     "text": "first\nthird\nfourth\nthird\n['second', 'third']\n['first', 'second', 'third']\n['third']\n['first', 'second', 'third']\n['third', 'fourth']\n"
    }
   ],
   "source": [
    "x = [\"first\", \"second\", \"third\", \"fourth\"]\n",
    "print(x[0])  # first element at index 0: \"first\" \n",
    "\n",
    "print(x[2])  # third element at index 2: \"third\"\n",
    "\n",
    "print(x[-1])  # first element from the back at index -1: \"fourth\"\n",
    "\n",
    "print(x[-2])  # second element from the back at index -2: \"third\"                                        \n",
    "\n",
    "print(x[1:-1])  # a slice, that is all elements from the first index (inclusive) to the last index (exclusive): ['second', 'third']\n",
    "\n",
    "print(x[0:3])  # a slice from the first element to the fourth: ['first', 'second', 'third']\n",
    "\n",
    "print(x[-2:-1])  # a slice from the second last element to the last element: ['third']\n",
    "\n",
    "print(x[:3])  # if you omit the first argument, its always 0: ['first', 'second', 'third']\n",
    "\n",
    "print(x[-2:]) # if you omit the last argument, its always len(x), here 4: ['third', 'fourth']"
   ]
  },
  {
   "cell_type": "code",
   "execution_count": 31,
   "metadata": {},
   "outputs": [
    {
     "data": {
      "text/plain": "['first', 'second', 'third', 'fourth']"
     },
     "execution_count": 31,
     "metadata": {},
     "output_type": "execute_result"
    }
   ],
   "source": [
    "# how can you make a copy of a list then?\n",
    "x[:]"
   ]
  },
  {
   "cell_type": "markdown",
   "execution_count": null,
   "metadata": {},
   "outputs": [],
   "source": [
    "Table 3.1. List indices\n",
    "\n",
    "|x= | [ | \"first\" , | \"second\" , | \"third\" , | \"fourth\" | ] | \n",
    "|---|---|-----------|------------|-----------|----------|---|\n",
    "| Positive indices |  | 0 | 1 | 2 |\t3 |  |\t \n",
    "| Negative indices |  |\t–4 | –3 | –2 | –1 |  |"
   ]
  },
  {
   "cell_type": "markdown",
   "execution_count": null,
   "metadata": {},
   "outputs": [],
   "source": [
    "You can use this notation to add, remove, and replace elements in a list or to obtain an element or a new list that’s a slice from it:"
   ]
  },
  {
   "cell_type": "code",
   "execution_count": 34,
   "metadata": {},
   "outputs": [
    {
     "name": "stdout",
     "output_type": "stream",
     "text": "[1, 'two', 3, 4, 5, 6, 7, 8]\n[1, 'two', 3, 4, 5, 6.0, 6.5, 7.0, 8]\n[6.0, 6.5, 7.0, 8]\n"
    }
   ],
   "source": [
    "x = [1, 2, 3, 4, 5, 6, 7, 8, 9]\n",
    "x[1] = \"two\"\n",
    "x[8:9] = []\n",
    "\n",
    "print(x)  # [1, 'two', 3, 4, 5, 6, 7, 8]\n",
    "\n",
    "x[5:7] = [6.0, 6.5, 7.0]\n",
    "\n",
    "print(x)  # [1, 'two', 3, 4, 5, 6.0, 6.5, 7.0, 8]\n",
    "\n",
    "print(x[5:]) # [6.0, 6.5, 7.0, 8]"
   ]
  },
  {
   "cell_type": "markdown",
   "execution_count": null,
   "metadata": {},
   "outputs": [],
   "source": [
    "Some built-in functions (`len`, `max`, and `min`), some operators (`in`, `+`, and `*`), the `del` statement, and the list methods `(append, count, extend, index, insert, pop, remove, reverse, and sort)` operate on lists: "
   ]
  },
  {
   "cell_type": "code",
   "execution_count": 61,
   "metadata": {},
   "outputs": [
    {
     "name": "stdout",
     "output_type": "stream",
     "text": "45\n0\n9\n10\nTrue\nFalse\n[0, 1, 2, 3, 4, 5, 6, 7, 8, 9, 10]\n[1, 1, 1]\n[1, 4, 5, 6, 7, 8, 9]\n[1, 4, 5, 6, 7, 8, 9, 10]\n0\n[1, 4, 5, 6, 7, 8, 9, 10, 11, 12, 13]\n7\n0\n1\n[4, 5, 6, 7, 8, 9, 10, 11, 12, 13]\nNone\n[4, 5, 6, 7, 8, 9, 10, 11, 12, 13]\n[13, 12, 11, 10, 9, 8, 7, 6, 5, 4]\n[4, 5, 6, 7, 8, 9, 10, 11, 12, 13]\nHelp on built-in function sort:\n\nsort(*, key=None, reverse=False) method of builtins.list instance\n    Stable sort *IN PLACE*.\n\n"
    }
   ],
   "source": [
    "x = list(range(10))\n",
    "\n",
    "print(sum(x))  # 45\n",
    "print(min(x))  # 0 \n",
    "print(max(x))  # 9\n",
    "\n",
    "print(len(x))  # 10\n",
    "\n",
    "print(5 in x)  # True\n",
    "print(\"5\" in x)  # False\n",
    "\n",
    "#print(x + 1)  # Error\n",
    "print(x + [10]) # creates new List [0, 1, 2, 3, 4, 5, 6, 7, 8, 9, 10]\n",
    "print([1] * 3) # creates a new list [1, 1, 1]\n",
    "\n",
    "del x[0] # delete first element inplace\n",
    "del x[1:3] # delete the whole range\n",
    "print(x)\n",
    "\n",
    "# the list functions seldomly return the list, instead they change the list inplace!\n",
    "x.append(10)\n",
    "print(x)  # changed the object behind x: [0, 1, 2, 3, 4, 5, 6, 7, 8, 9, 10]\n",
    "print(x.count(0))  # 1\n",
    "\n",
    "x.extend([11, 12, 13])\n",
    "\n",
    "print(x)  # add all elements of a second list to the first: [0, 1, 2, 3, 4, 5, 6, 7, 8, 9, 10, 11, 12, 13] \n",
    "\n",
    "print(x.index(10))  # 10 (normally offset of +1!)\n",
    "print([1,2,1].index(1))  # first occurence!\n",
    "\n",
    "print(x.pop(0))  # removes first element AND returns it\n",
    "print(x)\n",
    "\n",
    "x.insert(1, 1) # add element 1 at index 1\n",
    "print(x.remove(1)) # removes the first occurence of the element, but does not return it\n",
    "print(x)\n",
    "\n",
    "x.reverse()  # reverse list inplace\n",
    "print(x)\n",
    "\n",
    "x.sort() # sort ascending\n",
    "print(x)\n",
    "\n",
    "help(x.sort)"
   ]
  },
  {
   "cell_type": "markdown",
   "execution_count": null,
   "metadata": {},
   "outputs": [],
   "source": [
    "## Tuples\n",
    "\n",
    "Tuples are similar to lists but are **immutable**—that is, they can’t be modified after they’ve been created. The operators (`in`, `+`, and `*`) and built-in functions (`len`, `sum`, `max`, and `min`) operate on them the same way as they do on lists because none of them modifies the original. Index and slice notation work the same way for __obtaining__ elements or slices but **can’t** be used to add, remove, or replace elements. Also, there are only two tuple methods: `count` and `index`. An important purpose of tuples is for use as **keys for dictionaries**. They’re also more efficient to use when you don’t need modifiability. "
   ]
  },
  {
   "cell_type": "code",
   "execution_count": 69,
   "metadata": {},
   "outputs": [
    {
     "name": "stdout",
     "output_type": "stream",
     "text": "()\n(1,)\n(1, 2, 3, 4, 5, 6, 7, 8, 12)\n(1, 'two', 3, 4.0, ['a', 'b'], (5, 6))\n(1, 2, 3, 4)\n[1, 2, 3, 4]\n"
    }
   ],
   "source": [
    "print(()) # a tuple is defined by () instead of [], which is for lists\n",
    "print((1,)) # (1) would be a mathematical expression, so we need a comma here to tell Python that we are actually defining a tuple                                   \n",
    "print((1, 2, 3, 4, 5, 6, 7, 8, 12))\n",
    "print((1, \"two\", 3, 4.0, [\"a\", \"b\"], (5, 6)))  # like lists, tuples can hold any data type  \n",
    "\n",
    "x = [1, 2, 3, 4]\n",
    "print(tuple(x))  # the tuple build-in function turns any iterable into a tuple\n",
    "print(list(x)) # and back again to lists\n"
   ]
  },
  {
   "cell_type": "code",
   "execution_count": 117,
   "metadata": {},
   "outputs": [
    {
     "data": {
      "text/plain": "1"
     },
     "execution_count": 117,
     "metadata": {},
     "output_type": "execute_result"
    }
   ],
   "source": [
    "x = (1,2,3,4,)\n",
    "x[0] # is fine\n",
    "#x[0] = 1 # is not -> immutable"
   ]
  },
  {
   "cell_type": "markdown",
   "execution_count": null,
   "metadata": {},
   "outputs": [],
   "source": [
    "## Strings  <a class=\"anchor\" id=\"strings\"></a>\n",
    "\n",
    "String processing is one of Python’s strengths. There are many options for delimiting strings:\n",
    "\n",
    "```python\n",
    "\"A string in double quotes can contain 'single quote' characters.\"\n",
    "'A string in single quotes can contain \"double quote\" characters.'\n",
    "'''\\tA string which starts with a tab; ends with a newline character.\\n'''\n",
    "\"\"\"This is a triple double quoted string, the only kind that can\n",
    "    contain real newlines.\"\"\"\n",
    "```\n",
    "\n",
    "Strings can be delimited by single (' '), double (\" \"), triple single (''' '''), or triple double (\"\"\" \"\"\") quotations and can contain tab (`\\t`) and newline (`\\n`) characters.\n",
    "\n",
    "Strings are also **immutable**. The operators and functions that work with them return **new strings** derived from the original. The operators (`in`, `+`, and `*`) and built-in functions (`len`, `max`, and `min`) operate on strings as they do on lists and tuples. Index and slice notation works the same way for obtaining elements or slices but can’t be used to add, remove, or replace elements.\n",
    "\n",
    "Strings have several methods to work with their contents, and the re library module also contains functions for working with strings: \n"
   ]
  },
  {
   "cell_type": "code",
   "execution_count": 79,
   "metadata": {},
   "outputs": [
    {
     "name": "stdout",
     "output_type": "stream",
     "text": "live and     let \t   \tlive\n['live', 'and', 'let', 'live']\n['999', '8746', '13215']\nlive and enjoy life\n"
    }
   ],
   "source": [
    "x = \"live and     let \\t   \\tlive\"\n",
    "print(x)\n",
    "\n",
    "print(x.split()) # split is one of the most convenient methods in Python\n",
    "\n",
    "print(\"999-8746-13215\".split(\"-\")) # as you can define the character at which to split\n",
    "\n",
    "print(x.replace(\"    let \\t   \\tlive\", \"enjoy life\")) # replace works fine for most simple cases"
   ]
  },
  {
   "cell_type": "code",
   "execution_count": 102,
   "metadata": {},
   "outputs": [
    {
     "name": "stdout",
     "output_type": "stream",
     "text": "live and let live\n"
    }
   ],
   "source": [
    "import re \n",
    "\n",
    "x = \"live and     let \\t   \\tlive\"\n",
    "\n",
    "regexpr = re.compile(r\"[\\t ]+\") # first you compile a regular expression, that is the pattern you want to search for or use\n",
    "print(regexpr.sub(\" \", x)) # second you use the compiled expression with a target string\n"
   ]
  },
  {
   "cell_type": "markdown",
   "execution_count": null,
   "metadata": {},
   "outputs": [],
   "source": [
    "### Format strings"
   ]
  },
  {
   "cell_type": "code",
   "execution_count": 104,
   "metadata": {},
   "outputs": [
    {
     "name": "stdout",
     "output_type": "stream",
     "text": "Hello, Eric.\nHello, Eric. You are 74.\nHello, Eric. You are 74.\nHello, Eric. You are 74.\nHello, Eric. You are 74.\n"
    }
   ],
   "source": [
    "# source: https://realpython.com/python-f-strings/\n",
    "\n",
    "name = \"Eric\"\n",
    "print(\"Hello, %s.\" % name) # 'Hello, Eric.'\n",
    "\n",
    "name = \"Eric\"\n",
    "age = 74\n",
    "print(\"Hello, %s. You are %s.\" % (name, age))  # 'Hello Eric. You are 74.'\n",
    "\n",
    "print(\"Hello, {}. You are {}.\".format(name, age))   # 'Hello, Eric. You are 74.'\n",
    "print(\"Hello, {1}. You are {0}.\".format(age, name))  # 'Hello, Eric. You are 74.'\n",
    "\n",
    "person = {'name': 'Eric', 'age': 74}\n",
    "print(\"Hello, {name}. You are {age}.\".format(name=person['name'], age=person['age']))  # 'Hello, Eric. You are 74."
   ]
  },
  {
   "cell_type": "code",
   "execution_count": 106,
   "metadata": {},
   "outputs": [
    {
     "name": "stdout",
     "output_type": "stream",
     "text": "Hello, Eric. You are 74.\n74\neric idle is funny.\neric idle is funny.\n"
    }
   ],
   "source": [
    "name = \"Eric\"\n",
    "age = 74\n",
    "print(f\"Hello, {name}. You are {age}.\") # 'Hello, Eric. You are 74.'\n",
    "\n",
    "print(f\"{2 * 37}\")  # 74\n",
    "\n",
    "def to_lowercase(input):\n",
    "    return input.lower()\n",
    "\n",
    "name = \"Eric Idle\"\n",
    "print(f\"{to_lowercase(name)} is funny.\") # 'eric idle is funny.'\n",
    "print(f\"{name.lower()} is funny.\")       # 'eric idle is funny.'\n",
    "\n",
    "\n",
    "class Comedian:\n",
    "    def __init__(self, first_name, last_name, age):\n",
    "        self.first_name = first_name\n",
    "        self.last_name = last_name\n",
    "        self.age = age\n",
    "\n",
    "    def __str__(self):\n",
    "        return f\"{self.first_name} {self.last_name} is {self.age}.\"\n",
    "\n",
    "    def __repr__(self):\n",
    "        return f\"{self.first_name} {self.last_name} is {self.age}. Surprise!\"\n",
    "\n",
    "new_comedian = Comedian(\"Eric\", \"Idle\", \"74\")\n",
    "print(f\"{new_comedian}\") # 'Eric Idle is 74.'"
   ]
  },
  {
   "cell_type": "code",
   "execution_count": 107,
   "metadata": {},
   "outputs": [
    {
     "data": {
      "text/plain": "'Hi Eric. You are a comedian. You were in Monty Python.'"
     },
     "execution_count": 107,
     "metadata": {},
     "output_type": "execute_result"
    }
   ],
   "source": [
    "name = \"Eric\"\n",
    "profession = \"comedian\"\n",
    "affiliation = \"Monty Python\"\n",
    "message = (\n",
    "    f\"Hi {name}. \"\n",
    "    f\"You are a {profession}. \" # you need a 'f' in front of each line!\n",
    "    f\"You were in {affiliation}.\"\n",
    ")\n",
    "\n",
    "message # 'Hi Eric. You are a comedian. You were in Monty Python.'"
   ]
  },
  {
   "cell_type": "markdown",
   "execution_count": null,
   "metadata": {},
   "outputs": [],
   "source": [
    "The f in f-strings may as well stand for “fast.”\n",
    "\n",
    "f-strings are faster than both %-formatting and str.format(). As you already saw, f-strings are expressions evaluated at runtime rather than constant values. Here’s an excerpt from the docs:\n",
    "\n",
    ">>    “F-strings provide a way to embed expressions inside string literals, using a minimal syntax. It should be noted that an f-string is really an expression evaluated at run time, not a constant value. In Python source code, an f-string is a literal string, prefixed with f, which contains expressions inside braces. The expressions are replaced with their values.” (Source)\n",
    "\n",
    "At runtime, the expression inside the curly braces is evaluated in its own scope and then put together with the string literal part of the f-string. The resulting string is then returned. That’s all it takes."
   ]
  },
  {
   "cell_type": "code",
   "execution_count": 108,
   "metadata": {},
   "outputs": [
    {
     "name": "stdout",
     "output_type": "stream",
     "text": "2020-01-16 20:09\n"
    }
   ],
   "source": [
    "# the following format examples are taken from: http://zetcode.com/python/fstring/\n",
    "import datetime\n",
    "\n",
    "now = datetime.datetime.now()\n",
    "\n",
    "print(f'{now:%Y-%m-%d %H:%M}')"
   ]
  },
  {
   "cell_type": "code",
   "execution_count": 109,
   "metadata": {},
   "outputs": [
    {
     "name": "stdout",
     "output_type": "stream",
     "text": "12.30\n12.30000\n"
    }
   ],
   "source": [
    "val = 12.3\n",
    "\n",
    "print(f'{val:.2f}')\n",
    "print(f'{val:.5f}')"
   ]
  },
  {
   "cell_type": "code",
   "execution_count": 110,
   "metadata": {},
   "outputs": [
    {
     "name": "stdout",
     "output_type": "stream",
     "text": "01   1    1\n02   4    8\n03   9   27\n04  16   64\n05  25  125\n06  36  216\n07  49  343\n08  64  512\n09  81  729\n10 100 1000\n"
    }
   ],
   "source": [
    "for x in range(1, 11):\n",
    "    print(f'{x:02} {x*x:3} {x*x*x:4}')"
   ]
  },
  {
   "cell_type": "code",
   "execution_count": 115,
   "metadata": {},
   "outputs": [
    {
     "name": "stdout",
     "output_type": "stream",
     "text": "\n         a\n        ab\n       abc\n      abcd\n"
    }
   ],
   "source": [
    "s1 = 'a'\n",
    "s2 = 'ab'\n",
    "s3 = 'abc'\n",
    "s4 = 'abcd'\n",
    "\n",
    "print() # some jupyter bug?\n",
    "print(f'{s1:>10}')\n",
    "print(f'{s2:>10}')\n",
    "print(f'{s3:>10}')\n",
    "print(f'{s4:>10}')"
   ]
  },
  {
   "cell_type": "code",
   "execution_count": 116,
   "metadata": {},
   "outputs": [
    {
     "name": "stdout",
     "output_type": "stream",
     "text": "12c\n454\n3.000000e+02\n"
    }
   ],
   "source": [
    "a = 300\n",
    "\n",
    "# hexadecimal\n",
    "print(f\"{a:x}\")\n",
    "\n",
    "# octal\n",
    "print(f\"{a:o}\")\n",
    "\n",
    "# scientific\n",
    "print(f\"{a:e}\")"
   ]
  },
  {
   "cell_type": "markdown",
   "execution_count": null,
   "metadata": {},
   "outputs": [],
   "source": [
    "## Dictionaries  <a class=\"anchor\" id=\"dics\"></a>"
   ]
  },
  {
   "cell_type": "markdown",
   "execution_count": null,
   "metadata": {},
   "outputs": [],
   "source": [
    "Python’s built-in dictionary data type provides associative array functionality implemented by using **hash tables**. The built-in `len` function returns the number of key-value pairs in a dictionary. The `del` statement can be used to delete a key-value pair. As is the case for lists, several dictionary methods (`clear`, `copy`,`get`, `items`, `keys`, `update`, and `values`) are available. "
   ]
  },
  {
   "cell_type": "code",
   "execution_count": 122,
   "metadata": {},
   "outputs": [
    {
     "name": "stdout",
     "output_type": "stream",
     "text": "{1: 'one', 2: 'two'}\n{1: 'one', 2: 'two', 'first': 'one'}\n{1: 'one', 2: 'two', 'first': 'one', ('Delorme', 'Ryan', 1995): (1, 2, 3)}\n[1, 2, 'first', ('Delorme', 'Ryan', 1995)]\none\none\nnot available\n"
    }
   ],
   "source": [
    "x = {1: \"one\", 2: \"two\"}\n",
    "print(x)\n",
    "\n",
    "x[\"first\"] = \"one\"\n",
    "print(x)\n",
    "\n",
    "x[(\"Delorme\", \"Ryan\", 1995)] = (1, 2, 3)  # a key can be any type of object that is immutable and thus hashable\n",
    "print(x)\n",
    "\n",
    "print(list(x.keys()))  # ['first', 2, 1, ('Delorme', 'Ryan', 1995)]\n",
    "\n",
    "print(x[1]) # 'one'\n",
    "\n",
    "# x[\"4\"]\n",
    "\n",
    "print(x.get(1, \"not available\")) # 'one'\n",
    "\n",
    "print(x.get(4, \"not available\")) # 'not available'\n",
    "\n",
    "\n"
   ]
  },
  {
   "cell_type": "markdown",
   "execution_count": null,
   "metadata": {},
   "outputs": [],
   "source": [
    "## Sets  <a class=\"anchor\" id=\"sets\"></a>"
   ]
  },
  {
   "cell_type": "markdown",
   "execution_count": null,
   "metadata": {},
   "outputs": [],
   "source": [
    "A `set` in Python is an **unordered collection of objects**, used in situations where membership and uniqueness in the set are the main things you need to know about that object. Sets behave as **collections of dictionary keys** without any associated values: "
   ]
  },
  {
   "cell_type": "code",
   "execution_count": 126,
   "metadata": {},
   "outputs": [
    {
     "name": "stdout",
     "output_type": "stream",
     "text": "{1, 2, 3, 5}\n{1, 2, 3, 5}\nTrue\nFalse\n"
    }
   ],
   "source": [
    "x = set([1, 2, 3, 1, 3, 5]) # make a set out of a sequence, all duplicates will be ignored\n",
    "print(x)  # {1, 2, 3, 5}                          \n",
    "\n",
    "print({1,2,3,5})  # you can create a set directly with the shorthand notation\n",
    "\n",
    "print(1 in x)  # True\n",
    "print(4 in x)  # False\n"
   ]
  },
  {
   "cell_type": "markdown",
   "execution_count": null,
   "metadata": {},
   "outputs": [],
   "source": [
    "## File objects <a class=\"anchor\" id=\"file-object\"></a>\n",
    "\n",
    "A file is accessed through a Python file object:"
   ]
  },
  {
   "cell_type": "code",
   "execution_count": 13,
   "metadata": {},
   "outputs": [
    {
     "name": "stdout",
     "output_type": "stream",
     "text": "c:\\Users\\micha\\work\\git\\python-complete\\nb\nc:\\Users\\micha\\work\\git\\python-complete\\data\nThe Project Gutenberg EBook of Faust: Der TragÃ¶die erster Teil, by \n\nJohann Wolfgang von Goethe\n\n\n\nThis eBook is for the use of anyone anywhere at no cost and with\n\nalmost no restrictions whatsoever.  You may copy it, give it away or\n\nre-use it under the terms of the Project Gutenberg License included\n\nwith this eBook or online at www.gutenberg.net\n\n\n\n\n\nTitle: Faust: Der TragÃ¶die erster Teil\n\n"
    }
   ],
   "source": [
    "from pathlib import Path\n",
    "print(Path().cwd()) # c:\\Users\\micha\\work\\git\\python-complete\\nb\n",
    "data_root = Path().cwd().parent.joinpath('data')\n",
    "print(data_root.absolute()) # c:\\Users\\micha\\work\\git\\python-complete\\data\n",
    "\n",
    "f = open(data_root.joinpath('my_new_file.txt'), 'w')\n",
    "f.write('First line with necessary newline character\\n') # 44\n",
    "f.write('Second line to write to the file\\n') # 33\n",
    "\n",
    "f.close() # closes file pointer and hdd resource\n",
    "\n",
    "f = open(data_root.joinpath('faust.txt'), 'r')\n",
    "first_ten_lines = [f.readline() for _ in range(10)]\n",
    "\n",
    "for line in first_ten_lines:\n",
    "    print(line)\n",
    "\n",
    "f.close()"
   ]
  },
  {
   "cell_type": "markdown",
   "execution_count": null,
   "metadata": {},
   "outputs": [],
   "source": [
    "## Control flow structures <a class=\"anchor\" id=\"control-flow\"></a>\n",
    "\n",
    "Python has a full range of structures to control code execution and program flow, including common branching and looping structures."
   ]
  },
  {
   "cell_type": "markdown",
   "execution_count": null,
   "metadata": {},
   "outputs": [],
   "source": [
    "### Boolean values and expressions\n",
    "\n",
    "Python has several ways of expressing Boolean values; the Boolean constant `False`, `0`, the Python nil value `None`, and empty values (for example, the empty list `[]` or empty string `\"\"`) are all taken as `False`. The Boolean constant `True` and **everything else is considered True**.\n",
    "\n",
    "You can create comparison expressions by using the comparison operators (`<, <=, ==, >, >=, !=, is, is not, in, not in`) and the logical operators (`and, not, or`), which all return `True` or `False`. "
   ]
  },
  {
   "cell_type": "code",
   "execution_count": 29,
   "metadata": {},
   "outputs": [
    {
     "name": "stdout",
     "output_type": "stream",
     "text": "True True\nTrue False\nFalse False True\nFalse False\nFalse False\nNone is considered like False\n[] is considered like False\nAll non empty objects are considered True\n"
    }
   ],
   "source": [
    "print(False == False, False is False) # True True\n",
    "print(0 == False, 0 is False) # True False\n",
    "print(None == False, None is False, None is None) # False False True\n",
    "print([] == False, [] is False) # False False\n",
    "print(\"\" == False, \"\" is False) # False False\n",
    "\n",
    "if not None:\n",
    "    print(\"None is considered like False\")\n",
    "\n",
    "if not []:\n",
    "    print(\"[] is considered like False\")\n",
    "\n",
    "x = []\n",
    "if x:\n",
    "    print(\"Will not get executed because x is empty and thus considered False\")\n",
    "\n",
    "x.append(1)\n",
    "if x:\n",
    "    print(\"All non empty objects are considered True\")\n",
    "    "
   ]
  },
  {
   "cell_type": "markdown",
   "execution_count": null,
   "metadata": {},
   "outputs": [],
   "source": [
    "### The if-elif-else statement\n",
    "\n",
    "The block of code after the first `True` condition (of an `if` or an `elif`) is executed. If none of the conditions is `True`, the block of code after the `else` is executed: "
   ]
  },
  {
   "cell_type": "code",
   "execution_count": 30,
   "metadata": {},
   "outputs": [
    {
     "name": "stdout",
     "output_type": "stream",
     "text": "5 0 10\n"
    }
   ],
   "source": [
    "x = 5\n",
    "if x < 5:\n",
    "    y = -1\n",
    "    z = 5\n",
    "elif x > 5:        \n",
    "    y = 1           \n",
    "    z = 11          \n",
    "else:\n",
    "    y = 0\n",
    "    z = 10   \n",
    "\n",
    "print(x, y, z) # 5 0 10"
   ]
  },
  {
   "cell_type": "markdown",
   "execution_count": null,
   "metadata": {},
   "outputs": [],
   "source": [
    "The elif and else clauses are optional 1, and there can be any number of elif clauses. Python uses indentation to delimit blocks. No explicit delimiters, such as brackets or braces, are necessary. Each block consists of one or more statements separated by newlines. All these statements must be at the same level of indentation."
   ]
  },
  {
   "cell_type": "code",
   "execution_count": 31,
   "metadata": {},
   "outputs": [
    {
     "name": "stdout",
     "output_type": "stream",
     "text": "z > x,y\n"
    }
   ],
   "source": [
    "if x < y < z:\n",
    "    print(\"x < y < z\")\n",
    "elif z > x and z > y:\n",
    "    print(\"z > x,y\")\n",
    "\n"
   ]
  },
  {
   "cell_type": "markdown",
   "execution_count": 32,
   "metadata": {},
   "outputs": [],
   "source": [
    "### The while-loop"
   ]
  },
  {
   "cell_type": "code",
   "execution_count": 34,
   "metadata": {},
   "outputs": [
    {
     "name": "stdout",
     "output_type": "stream",
     "text": "60 40 0 30\n"
    }
   ],
   "source": [
    "u, v, x, y = 0, 0, 100, 30 # shorthand notation for multiple assignment\n",
    "while x > y:\n",
    "    u = u + y # we can further shorten this -> show\n",
    "    x = x - y\n",
    "    if x < y + 2: # if-else could be one line -> show\n",
    "        v = v + x \n",
    "        x = 0\n",
    "    else:\n",
    "        v = v + y + 2\n",
    "        x = x - y - 2\n",
    "\n",
    "print(u, v, x, y) # 60 40 0 30"
   ]
  },
  {
   "cell_type": "markdown",
   "execution_count": null,
   "metadata": {},
   "outputs": [],
   "source": [
    "This is a shorthand notation. Here, u and v are assigned a value of 0, x is set to 100, and y obtains a value of 30 1. This is the loop block 2. It’s possible for a loop to contain break (which ends the loop) and continue statements (which abort the current iteration of the loop). The output would be 60 40."
   ]
  },
  {
   "cell_type": "markdown",
   "execution_count": null,
   "metadata": {},
   "outputs": [],
   "source": [
    "### The for-loop\n",
    "\n",
    "The `for` loop is simple but powerful because it’s possible to iterate over any iterable type, such as a `list` or `tuple`. Unlike in many languages, Python’s for loop iterates over each of the items in a sequence (for example, a list or tuple), making it more of a foreach loop. The following loop finds the first occurrence of an integer that’s divisible by 7: "
   ]
  },
  {
   "cell_type": "code",
   "execution_count": 38,
   "metadata": {},
   "outputs": [
    {
     "name": "stdout",
     "output_type": "stream",
     "text": "found an integer divisible by seven: 49\nScope: Unlike many other programming languages, x is available outside the loop, because x has a function scope:  49\n"
    }
   ],
   "source": [
    "item_list = [3, \"string1\", 23, 14.0, \"string2\", 49, 64, 70]\n",
    "\n",
    "for x in item_list: # x is a bad name here as it implies a number type\n",
    "    if not isinstance(x, int):\n",
    "        continue # skips the rest of the code\n",
    "    if not x % 7: # already shortend, long form: if x % 7 == 0\n",
    "        print(\"found an integer divisible by seven: %d\" % x)\n",
    "        break # abort the loop\n",
    "\n",
    "print(\"Scope: Unlike many other programming languages, x is available outside the loop, because x has a function scope: \", x)"
   ]
  },
  {
   "cell_type": "markdown",
   "execution_count": null,
   "metadata": {},
   "outputs": [],
   "source": [
    "### Function definition"
   ]
  },
  {
   "cell_type": "code",
   "execution_count": 51,
   "metadata": {},
   "outputs": [
    {
     "name": "stdout",
     "output_type": "stream",
     "text": "15\n23\n0\n6\n21\n(2, 1, 1)\n(1, 2, 3, 4, 5, 6, 7, 8, 9)\n(1, 2, 3, {'m': 5, 'n': 9})\n"
    }
   ],
   "source": [
    "# custom function with three parameter, either positional or via key-value\n",
    "def funct1(x, y, z):\n",
    "    value = x + 2*y + z**2\n",
    "\n",
    "    if value > 0:\n",
    "        return x + 2*y + z**2 # not the best practice -> show\n",
    "    else:\n",
    "        return 0\n",
    "\n",
    "u, v = 3, 4\n",
    "print(funct1(u, v, 2)) # 15\n",
    "print(funct1(u, z=v, y=2)) # 23\n",
    "print(funct1(-10, 1, 1)) # 0\n",
    "#funct1(10)\n",
    "\n",
    "# function with two default parameters\n",
    "# parameters with default values can only come after positional parameters\n",
    "def funct2(x, y=1, z=1):\n",
    "    return x + 2 * y + z ** 2\n",
    "\n",
    "print(funct2(3))  # 6\n",
    "print(funct2(3, z=4)) # 21\n",
    "\n",
    "# the special *args can be used to allow an arbitrary number of arguments\n",
    "# args will be available as a tuple inside the function\n",
    "def funct3(x, y=1, z=1, *tup):\n",
    "    return (x, y, z) + tup\n",
    "\n",
    "print(funct3(2)) # (2, 1, 1)\n",
    "print(funct3(1, 2, 3, 4, 5, 6, 7, 8, 9))  # (1, 2, 3, 4, 5, 6, 7, 8, 9)\n",
    "\n",
    "# the special **kwargs accepts an arbitrary number of key-value pairs\n",
    "# kwargs is available as a dictionary inside the function\n",
    "def funct4(x, y=1, z=1, **kwargs):\n",
    "    return (x, y, z, kwargs)\n",
    "\n",
    "print(funct4(1, 2, m=5, n=9, z=3)) # 1 2 3 {'n': 9, 'm': 5}"
   ]
  },
  {
   "cell_type": "markdown",
   "execution_count": null,
   "metadata": {},
   "outputs": [],
   "source": [
    "Functions are defined by using the `def` statement. The `return` statement is what a function uses to return a value. This value can be of any type. If no return statement is encountered, Python’s `None` value is returned. Function arguments can be entered either by **position** or by **name (keyword)**. Function parameters can be defined with **defaults** that are used if a function call leaves them out. A special parameter can be defined that collects **all extra positional arguments** in a function call into a **tuple**. Likewise, a special parameter can be defined that collects **all extra keyword arguments** in a function call into a **dictionary**. "
   ]
  },
  {
   "cell_type": "markdown",
   "execution_count": null,
   "metadata": {},
   "outputs": [],
   "source": [
    "### Exceptions\n",
    "\n",
    "Exceptions (errors) can be caught and handled by using the `try-except-else-finally` compound statement. This statement can also catch and handle exceptions you define and raise yourself. Any exception that isn’t caught causes the program to exit. This listing shows basic exception handling. "
   ]
  },
  {
   "cell_type": "code",
   "execution_count": 66,
   "metadata": {},
   "outputs": [
    {
     "name": "stdout",
     "output_type": "stream",
     "text": "my_new_file: 2 lines\nDone processing my_new_file\nnonExistent: could not be opened: No such file or directory\nDone processing nonExistent\nfaust: 17635 lines\nDone processing faust\nempty is empty.\nDone processing empty\n"
    }
   ],
   "source": [
    "# define a custom error class that we can raise and catch later\n",
    "class EmptyFileError(Exception):\n",
    "    pass\n",
    "\n",
    "filenames = [\"my_new_file\", \"nonExistent\", \"faust\", \"empty\"]\n",
    "for file in filenames:\n",
    "    try:\n",
    "        f = open(str(data_root.joinpath(file)) + '.txt', 'r')\n",
    "        line = f.readlines()\n",
    "        if not line:\n",
    "            f.close()\n",
    "            raise EmptyFileError(f'{file} is empty.')\n",
    "    except IOError as error:\n",
    "        print(f'{file}: could not be opened: {error.strerror}')\n",
    "    except EmptyFileError as error:\n",
    "        print(error)\n",
    "    else:\n",
    "        print(f'{file}: {len(line)} lines')\n",
    "    finally:\n",
    "        print(\"Done processing\", file) # could be withouth the finally one level higher"
   ]
  },
  {
   "cell_type": "markdown",
   "execution_count": null,
   "metadata": {},
   "outputs": [],
   "source": [
    "Here, you define your own exception type **inheriting** from the base Exception type. If an `IOError` or `EmptyFileError` occurs during the execution of the statements in the try block, the associated except block is executed. The else clause is optional; it’s executed if **no exception occurs in the try block**. (Note that in this example, continue statements in the except blocks could have been used instead.) The finally clause is optional; it’s executed **at the end of the block whether an exception was raised or not**, that means in either case!. So its identical with just the same statement but one indentation level higher. "
   ]
  },
  {
   "cell_type": "markdown",
   "execution_count": null,
   "metadata": {},
   "outputs": [],
   "source": [
    "### Context manager\n",
    "\n",
    "A more streamlined way of encapsulating the try-except-finally pattern is to use the `with` keyword and a **context manager**. Python defines context managers for things like file access, and it’s possible for the developer to define custom context managers. One benefit of context managers is that they may (and usually do) have **default clean-up actions defined**, which always execute whether or not an exception occurs. "
   ]
  },
  {
   "cell_type": "code",
   "execution_count": 72,
   "metadata": {},
   "outputs": [
    {
     "name": "stdout",
     "output_type": "stream",
     "text": "352 442 19\nTrue\n"
    }
   ],
   "source": [
    "filename = \"faust.txt\"\n",
    "\n",
    "with open(data_root.joinpath(filename), \"r\") as f:\n",
    "    faust, mephisto, gretchen = 0,0,0\n",
    "    \n",
    "    for line in f:\n",
    "        if 'FAUST' in line:\n",
    "            faust +=1\n",
    "        if 'MEPHISTOPHELES' in line:\n",
    "            mephisto += 1\n",
    "        if 'GRETCHEN' in line:\n",
    "            gretchen += 1\n",
    "\n",
    "print(faust, mephisto, gretchen) \n",
    "print(f.closed) # True"
   ]
  },
  {
   "cell_type": "markdown",
   "execution_count": null,
   "metadata": {},
   "outputs": [],
   "source": [
    "Here, `with` establishes a **context manager** which wraps the open function and the block that follows. In this case, the context manager’s predefined **clean-up action** closes the file, even if an exception occurs, so as long as the expression in the first line executes without raising an exception, the file is always closed. That code is equivalent to this code: "
   ]
  },
  {
   "cell_type": "code",
   "execution_count": null,
   "metadata": {},
   "outputs": [],
   "source": [
    "filename = \"faust.txt\"\n",
    "\n",
    "try:\n",
    "    f = open(data_root.joinpath(filename), \"r\")\n",
    "    for line in f:\n",
    "        print(line)\n",
    "except Exception as e:\n",
    "    raise e\n",
    "finally: \n",
    "    f.close() #remember: will always be executed"
   ]
  },
  {
   "cell_type": "markdown",
   "execution_count": null,
   "metadata": {},
   "outputs": [],
   "source": [
    "## Module creation"
   ]
  }
 ]
}