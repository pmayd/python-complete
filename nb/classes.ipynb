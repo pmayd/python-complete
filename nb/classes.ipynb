{
 "nbformat": 4,
 "nbformat_minor": 2,
 "metadata": {
  "language_info": {
   "name": "python",
   "codemirror_mode": {
    "name": "ipython",
    "version": 3
   },
   "version": "3.7.6-final"
  },
  "orig_nbformat": 2,
  "file_extension": ".py",
  "mimetype": "text/x-python",
  "name": "python",
  "npconvert_exporter": "python",
  "pygments_lexer": "ipython3",
  "version": 3,
  "kernelspec": {
   "name": "python37664bitbaseconda6c222bf472ac4bd5bcb4f73402c25df7",
   "display_name": "Python 3.7.6 64-bit ('base': conda)"
  }
 },
 "cells": [
  {
   "cell_type": "markdown",
   "execution_count": null,
   "metadata": {},
   "outputs": [],
   "source": [
    "# Python's Class Development Toolkit\n",
    "\n",
    "Most of this material is directly taken from the great Raymond Hettinger\n",
    "https://www.youtube.com/watch?v=HTLu2DFOdTg"
   ]
  },
  {
   "cell_type": "code",
   "execution_count": 3,
   "metadata": {},
   "outputs": [
    {
     "name": "stdout",
     "output_type": "stream",
     "text": "hi\n"
    }
   ],
   "source": [
    "\"\"\" Circuitous, LLC - \n",
    "An Advanced Circle Analytics Company\n",
    "\n",
    "This is your elevator pitch! What goes into the docstring of your module? Never skip this part of code when reading new code\n",
    "\"\"\"\n",
    "\n",
    "class Circle:\n",
    "    'An advanced circle analytic toolkit, dont begin with pass, start with documentation'\n",
    "    print(\"hi\") # code inside a class is actual its own module\n",
    "\n",
    "    def __init__(self, radius):\n",
    "        \"\"\"Init isn't a constructor. \n",
    "        \n",
    "        It's job is to initialize the instance variables\n",
    "        \"\"\"\n",
    "        self.radius = radius # instance variable, data that is UNIQUE to this instance\n",
    "    \n",
    "    def area(self):\n",
    "        \"\"\"Perform quadrature on a shape of uniform radius\n",
    "        \n",
    "        Class methods have \"self\" as first argument. The name can be anything but we want our code to look familiar to other programmers.\n",
    "        In some languages, self is implicit. \n",
    "        \"\"\"\n",
    "        return 3.14 * self.radius ** 2.0 # 3.14 is a magic number and we should not do it this way"
   ]
  },
  {
   "cell_type": "code",
   "execution_count": 6,
   "metadata": {},
   "outputs": [],
   "source": [
    "\"\"\" Circuitous, LLC - \n",
    "An Advanced Circle Analytics Company\n",
    "\n",
    "This is your elevator pitch! What goes into the docstring of your module? Never skip this part of code when reading new code\n",
    "\"\"\"\n",
    "import math\n",
    "\n",
    "\n",
    "class Circle:\n",
    "    'An advanced circle analytic toolkit, dont begin with pass, start with documentation'\n",
    "\n",
    "    version = '0.1' # class variable, shared among all instances, use str!\n",
    "\n",
    "    def __init__(self, radius):\n",
    "        self.radius = radius \n",
    "\n",
    "    def area(self):\n",
    "        \"\"\"Perform quadrature on a shape of uniform radius\"\"\"\n",
    "        return math.pi * self.radius ** 2.0 # math.pi has several advantages: same pi, maximizing code reuse, no constant but a variable that never changes (can be different on different OS, but same throughout runtime)"
   ]
  },
  {
   "cell_type": "code",
   "execution_count": 7,
   "metadata": {},
   "outputs": [
    {
     "name": "stdout",
     "output_type": "stream",
     "text": "Circuituous version 0.1\nA circle of radius 10\nhas an area of 314.1592653589793\n"
    }
   ],
   "source": [
    "# Tutorial\n",
    "\n",
    "print(\"Circuituous version\", Circle.version)\n",
    "c = Circle(10)\n",
    "print(\"A circle of radius\", c.radius)\n",
    "print(\"has an area of\", c.area())\n"
   ]
  },
  {
   "cell_type": "code",
   "execution_count": 130,
   "metadata": {},
   "outputs": [
    {
     "name": "stdout",
     "output_type": "stream",
     "text": "Using Curcuituous(tm) version 0.6\nThe average area of 10 random circles is 0.8.\n"
    }
   ],
   "source": [
    "from random import random, seed\n",
    "\n",
    "seed(42) # reproducable results\n",
    "print(\"Using Curcuituous(tm) version\", Circle.version)\n",
    "n = 10\n",
    "circles = [Circle(random()) for _ in range(n)] # list comprehension\n",
    "avg = sum((c.area() for c in circles)) / n # generator\n",
    "print(f\"The average area of {n} random circles is {avg:.1f}.\")\n"
   ]
  },
  {
   "cell_type": "code",
   "execution_count": 103,
   "metadata": {},
   "outputs": [],
   "source": [
    "\"\"\" Circuitous, LLC - \n",
    "An Advanced Circle Analytics Company\n",
    "\n",
    "This is your elevator pitch! What goes into the docstring of your module? Never skip this part of code when reading new code\n",
    "\"\"\"\n",
    "import math\n",
    "\n",
    "\n",
    "class Circle:\n",
    "    'An advanced circle analytic toolkit, dont begin with pass, start with documentation'\n",
    "\n",
    "    version = '0.1' \n",
    "\n",
    "    def __init__(self, radius):\n",
    "        self.radius = radius \n",
    "\n",
    "    def area(self):\n",
    "        \"\"\"Perform quadrature on a shape of uniform radius\"\"\"\n",
    "        return math.pi * self.radius ** 2.0 \n",
    "\n",
    "    def perimeter(self):\n",
    "        return 2.0 * math.pi * self.radius\n"
   ]
  },
  {
   "cell_type": "code",
   "execution_count": 104,
   "metadata": {},
   "outputs": [
    {
     "name": "stdout",
     "output_type": "stream",
     "text": "A circlet with a radius of 0.1\nhas a perimiter of 0.6283185307179586\nand a cold area of 0.031415926535897934\nand a warm area of 0.038013271108436504\nA circlet with a radius of 0.7\nhas a perimiter of 4.39822971502571\nand a cold area of 1.5393804002589984\nand a warm area of 1.8626502843133883\nA circlet with a radius of 0.8\nhas a perimiter of 5.026548245743669\nand a cold area of 2.0106192982974678\nand a warm area of 2.4328493509399363\n"
    }
   ],
   "source": [
    "cuts = [0.1, 0.7, 0.8]\n",
    "circles = [Circle(r) for r in cuts]\n",
    "for c in circles:\n",
    "    print(\"A circlet with a radius of\", c.radius)\n",
    "    print(\"has a perimiter of\", c.perimeter())\n",
    "    print(\"and a cold area of\", c.area())\n",
    "    c.radius *= 1.1 # wait! What is happening here? Basically, if you expose an attribute, expect users to do all kind of interesting things with it\n",
    "    # The iron rule: Dont expose your class attributes does not hold in Python! The alternative of c.setRadius(c.getRadius() * 1.1) is not better. Leave all the doors unlocked, don't impose other language rules \n",
    "    print(\"and a warm area of\", c.area())"
   ]
  },
  {
   "cell_type": "code",
   "execution_count": 99,
   "metadata": {},
   "outputs": [],
   "source": [
    "class Tire(Circle):\n",
    "    \"\"\"Tires are circles with a corrected perimiter\n",
    "    \n",
    "    How do customers commonly change your functionality? They do it through subclassing. Most people who write classes don't spend time thinking about how subclasses will use their code. \n",
    "    \"\"\"\n",
    "\n",
    "    def perimeter(self):\n",
    "        \"Circumference corrected for the rubber\"\n",
    "        return super().perimeter() * 1.25"
   ]
  },
  {
   "cell_type": "code",
   "execution_count": 101,
   "metadata": {},
   "outputs": [
    {
     "name": "stdout",
     "output_type": "stream",
     "text": "A tire of radius 22\nhas an inner area of 1520.53084433746\nand an odometer corrected perimiter of 172.7875959474386\n"
    }
   ],
   "source": [
    "t = Tire(22) # what method gets called here? __init__(). Do you see it in the subclass? No. It goes up and borrows the one from the parent. \n",
    "print(\"A tire of radius\", t.radius) # same here, no radius in Tire\n",
    "print(\"has an inner area of\", t.area()) # and no area\n",
    "print(\"and an odometer corrected perimiter of\", t.perimeter()) # but here, we explicitly call the parent's parimiter method -> extending the parent's method"
   ]
  },
  {
   "cell_type": "code",
   "execution_count": 47,
   "metadata": {},
   "outputs": [
    {
     "name": "stdout",
     "output_type": "stream",
     "text": "A circle with a bbd of 25.1\nhas a radius of 8.874190103891172\nand an area of 247.4043484610132\n"
    }
   ],
   "source": [
    "def bbd_to_radius(bbd):\n",
    "    return bbd / math.sqrt(2) / 2\n",
    "\n",
    "bbd = 25.1 # bounding box diameter\n",
    "c = Circle(bbd_to_radius(bbd)) # a converter function is always needed, awkward API. Customer wants a different signature -> constructor war \n",
    "print(\"A circle with a bbd of 25.1\")\n",
    "print(\"has a radius of\", c.radius)\n",
    "print(\"and an area of\", c.area())"
   ]
  },
  {
   "cell_type": "code",
   "execution_count": 46,
   "metadata": {},
   "outputs": [
    {
     "name": "stdout",
     "output_type": "stream",
     "text": "2013-03-16 00:00:00\n2020-01-27 22:53:21.915882\n2010-08-16 00:00:00\n2020-01-27 22:53:21.915881\n{'raymond': None, 'rachel': None, 'matthew': None}\n"
    }
   ],
   "source": [
    "from datetime import datetime\n",
    "import time\n",
    "\n",
    "# here are four different constructors just for your convenience\n",
    "print(datetime(2013, 3, 16))\n",
    "print(datetime.fromtimestamp(time.time()))\n",
    "print(datetime.fromordinal(734000))\n",
    "print(datetime.now())\n",
    "\n",
    "print(dict.fromkeys(['raymond', 'rachel', 'matthew']))\n"
   ]
  },
  {
   "cell_type": "code",
   "execution_count": 98,
   "metadata": {},
   "outputs": [],
   "source": [
    "\"\"\" Circuitous, LLC - \n",
    "An Advanced Circle Analytics Company\n",
    "\n",
    "This is your elevator pitch! What goes into the docstring of your module? Never skip this part of code when reading new code\n",
    "\"\"\"\n",
    "import math\n",
    "\n",
    "\n",
    "class Circle:\n",
    "    'An advanced circle analytic toolkit, dont begin with pass, start with documentation'\n",
    "\n",
    "    version = '0.3'\n",
    "\n",
    "    def __init__(self, radius):\n",
    "        self.radius = radius \n",
    "    \n",
    "    def area(self):\n",
    "        \"\"\"Perform quadrature on a shape of uniform radius\"\"\"\n",
    "        return math.pi * self.radius ** 2.0 \n",
    "\n",
    "    def perimeter(self):\n",
    "        return 2.0 * math.pi * self.radius\n",
    "\n",
    "    @classmethod # alternative constructor\n",
    "    def from_bbd(cls, bbd):\n",
    "        \"\"\"Construct a circle from a bounding box diagonal\"\"\"\n",
    "        radius = bbd / 2.0 / math.sqrt(2.0)\n",
    "        return Circle(radius) # should we call Circle here? For the moment...\n",
    "        "
   ]
  },
  {
   "cell_type": "code",
   "execution_count": 58,
   "metadata": {},
   "outputs": [
    {
     "name": "stdout",
     "output_type": "stream",
     "text": "<class '__main__.Circle'>\n<class '__main__.Circle'>\n"
    }
   ],
   "source": [
    "# but what happens to the poor Tire guys?\n",
    "c = Circle.from_bbd(25.1)\n",
    "print(type(c))\n",
    "\n",
    "t = Tire.from_bbd(25.1) # although class methods are inherited\n",
    "print(type(t)) # t is now of type Circle...seems not right"
   ]
  },
  {
   "cell_type": "code",
   "execution_count": 97,
   "metadata": {},
   "outputs": [],
   "source": [
    "\"\"\" Circuitous, LLC - \n",
    "An Advanced Circle Analytics Company\n",
    "\n",
    "This is your elevator pitch! What goes into the docstring of your module? Never skip this part of code when reading new code\n",
    "\"\"\"\n",
    "import math\n",
    "\n",
    "\n",
    "class Circle:\n",
    "    'An advanced circle analytic toolkit, dont begin with pass, start with documentation'\n",
    "\n",
    "    version = '0.3' \n",
    "\n",
    "    def __init__(self, radius):\n",
    "        self.radius = radius\n",
    "    \n",
    "    def area(self):\n",
    "        \"\"\"Perform quadrature on a shape of uniform radius\"\"\"\n",
    "        return math.pi * self.radius ** 2.0\n",
    "\n",
    "    def perimeter(self):\n",
    "        return 2.0 * math.pi * self.radius\n",
    "\n",
    "    @classmethod # alternative constructor\n",
    "    def from_bbd(cls, bbd):\n",
    "        \"\"\"Construct a circle from a bounding box diagonal\"\"\"\n",
    "        radius = bbd / 2.0 / math.sqrt(2.0)\n",
    "        return cls(radius) \n",
    "        "
   ]
  },
  {
   "cell_type": "code",
   "execution_count": 61,
   "metadata": {},
   "outputs": [
    {
     "name": "stdout",
     "output_type": "stream",
     "text": "<class '__main__.Tire'>\n"
    }
   ],
   "source": [
    "t = Tire.from_bbd(25.1)\n",
    "print(type(t)) # magic!"
   ]
  },
  {
   "cell_type": "code",
   "execution_count": 62,
   "metadata": {},
   "outputs": [
    {
     "data": {
      "text/plain": "99.99999999999999"
     },
     "execution_count": 62,
     "metadata": {},
     "output_type": "execute_result"
    }
   ],
   "source": [
    "# some common helper function. Where do we put it?\n",
    "# Lets say for the moment we put it in the module...\n",
    "\n",
    "def angle_to_grade(angle):\n",
    "    'convert angle in degree to a percentage grade'\n",
    "    return math.tan(math.radians(angle)) * 100\n",
    "\n",
    "# Will this function work for the Sphere class and the Hyperbolic class? Can people even find this code? Not with help and dir for circle class\n"
   ]
  },
  {
   "cell_type": "code",
   "execution_count": 71,
   "metadata": {},
   "outputs": [],
   "source": [
    "\"\"\" Circuitous, LLC - \n",
    "An Advanced Circle Analytics Company\n",
    "\n",
    "This is your elevator pitch! What goes into the docstring of your module? Never skip this part of code when reading new code\n",
    "\"\"\"\n",
    "import math\n",
    "\n",
    "\n",
    "class Circle:\n",
    "    'An advanced circle analytic toolkit, dont begin with pass, start with documentation'\n",
    "\n",
    "    version = '0.4b'\n",
    "\n",
    "    def __init__(self, radius):\n",
    "        self.radius = radius \n",
    "    \n",
    "    def angle_to_grade(self, angle):\n",
    "        \"\"\"convert angle in degree to a percentage grade\n",
    "        \n",
    "        Well, findability has been improved and it won't be called in the wrong context.\n",
    "        Really? You have to create an instance just to call function? Again, awkward API.\n",
    "        \"\"\"\n",
    "        return math.tan(math.radians(angle)) * 100"
   ]
  },
  {
   "cell_type": "code",
   "execution_count": 75,
   "metadata": {},
   "outputs": [
    {
     "data": {
      "text/plain": "99.99999999999999"
     },
     "execution_count": 75,
     "metadata": {},
     "output_type": "execute_result"
    }
   ],
   "source": [
    "c = Circle(1)\n",
    "c.angle_to_grade(45)"
   ]
  },
  {
   "cell_type": "code",
   "execution_count": 76,
   "metadata": {},
   "outputs": [],
   "source": [
    "\"\"\" Circuitous, LLC - \n",
    "An Advanced Circle Analytics Company\n",
    "\n",
    "This is your elevator pitch! What goes into the docstring of your module? Never skip this part of code when reading new code\n",
    "\"\"\"\n",
    "import math\n",
    "\n",
    "\n",
    "class Circle:\n",
    "    'An advanced circle analytic toolkit, dont begin with pass, start with documentation'\n",
    "\n",
    "    version = '0.4c'\n",
    "\n",
    "    def __init__(self, radius):\n",
    "        self.radius = radius \n",
    "    \n",
    "    @staticmethod \n",
    "    def angle_to_grade(angle):\n",
    "        \"\"\"convert angle in degree to a percentage grade\n",
    "        \n",
    "        The purpose of static methods is to attach a function to classes. Improve findability of the function and to make sure people use this function in the right context.\n",
    "        \"\"\"\n",
    "        return math.tan(math.radians(angle)) * 100"
   ]
  },
  {
   "cell_type": "code",
   "execution_count": 77,
   "metadata": {},
   "outputs": [
    {
     "data": {
      "text/plain": "99.99999999999999"
     },
     "execution_count": 77,
     "metadata": {},
     "output_type": "execute_result"
    }
   ],
   "source": [
    "Circle.angle_to_grade(45)"
   ]
  },
  {
   "cell_type": "code",
   "execution_count": 96,
   "metadata": {},
   "outputs": [],
   "source": [
    "# There comes a new request ISO-11110\n",
    "\n",
    "class Circle:\n",
    "    'An advanced circle analytic toolkit, dont begin with pass, start with documentation'\n",
    "\n",
    "    version = '0.5b' \n",
    "\n",
    "    def __init__(self, radius):\n",
    "        self.radius = radius\n",
    "    \n",
    "    def area(self):\n",
    "        \"\"\"Perform quadrature on a shape of uniform radius\"\"\"\n",
    "        p = self.perimeter() # no longer allowed to use self.radius, has to call self.perimiter instead\n",
    "        r = p / math.pi / 2.0\n",
    "        return math.pi * r ** 2.0\n",
    "\n",
    "    def perimeter(self):\n",
    "        return 2.0 * math.pi * self.radius"
   ]
  },
  {
   "cell_type": "code",
   "execution_count": 95,
   "metadata": {},
   "outputs": [
    {
     "name": "stdout",
     "output_type": "stream",
     "text": "Tire with radius 1\nhas an area of 3.141592653589793\nBut circle with radius 1\nhas an area of 3.141592653589793\n"
    }
   ],
   "source": [
    "# Tire guys again have a problem now...\n",
    "\n",
    "class Tire(Circle):\n",
    "    \"\"\"Tires are circles with a corrected perimiter\"\"\"\n",
    "\n",
    "    def perimeter(self):\n",
    "        \"Circumference corrected for the rubber\"\n",
    "        return super().perimeter() * 1.25\n",
    "\n",
    "c = Circle(1)\n",
    "t = Tire(1)\n",
    "\n",
    "print(\"Tire with radius\", t.radius)\n",
    "print(\"has an area of\", t.area()) # ups\n",
    "print(\"But circle with radius\", c.radius)\n",
    "print(\"has an area of\", c.area())\n"
   ]
  },
  {
   "cell_type": "code",
   "execution_count": 107,
   "metadata": {},
   "outputs": [],
   "source": [
    "class Circle:\n",
    "    'An advanced circle analytic toolkit, dont begin with pass, start with documentation'\n",
    "\n",
    "    version = '0.5c' \n",
    "\n",
    "    def __init__(self, radius):\n",
    "        self.radius = radius\n",
    "    \n",
    "    def area(self):\n",
    "        \"\"\"Perform quadrature on a shape of uniform radius\"\"\"\n",
    "        p = self._perimeter() # we use a copy of the original method and let the user overwrite self.perimiter()\n",
    "        r = p / math.pi / 2.0\n",
    "        return math.pi * r ** 2.0\n",
    "\n",
    "    def perimeter(self):\n",
    "        return 2.0 * math.pi * self.radius\n",
    "\n",
    "    _perimeter = perimeter # remember: code inside a class its like its own module and everything is added to the Circle dictionary."
   ]
  },
  {
   "cell_type": "code",
   "execution_count": 108,
   "metadata": {},
   "outputs": [
    {
     "name": "stdout",
     "output_type": "stream",
     "text": "Tire with radius 1\nhas an area of 3.141592653589793\nBut circle with radius 1\nhas an area of 3.141592653589793\n"
    }
   ],
   "source": [
    "# Tire guys again have a problem now...\n",
    "\n",
    "class Tire(Circle):\n",
    "    \"\"\"Tires are circles with a corrected perimiter\"\"\"\n",
    "\n",
    "    def peremiter(self):\n",
    "        \"Circumference corrected for the rubber\"\n",
    "        return super().peremiter() * 1.25\n",
    "\n",
    "c = Circle(1)\n",
    "t = Tire(1)\n",
    "\n",
    "print(\"Tire with radius\", t.radius)\n",
    "print(\"has an area of\", t.area()) # it works!\n",
    "print(\"But circle with radius\", c.radius)\n",
    "print(\"has an area of\", c.area())\n"
   ]
  },
  {
   "cell_type": "code",
   "execution_count": 110,
   "metadata": {},
   "outputs": [
    {
     "name": "stdout",
     "output_type": "stream",
     "text": "Tire with radius 1\nhas an area of 4.908738521234052\nBut circle with radius 1\nhas an area of 3.141592653589793\n"
    }
   ],
   "source": [
    "class Tire(Circle):\n",
    "    \"\"\"Tires are circles with a corrected perimiter\"\"\"\n",
    "\n",
    "    def perimeter(self):\n",
    "        \"Circumference corrected for the rubber\"\n",
    "        return super().perimeter() * 1.25\n",
    "\n",
    "    _perimeter = perimeter # nothing stops them from doing the same!\n",
    "\n",
    "c = Circle(1)\n",
    "t = Tire(1)\n",
    "\n",
    "print(\"Tire with radius\", t.radius)\n",
    "print(\"has an area of\", t.area()) # and we are back!\n",
    "print(\"But circle with radius\", c.radius)\n",
    "print(\"has an area of\", c.area())"
   ]
  },
  {
   "cell_type": "code",
   "execution_count": 117,
   "metadata": {},
   "outputs": [],
   "source": [
    "# we can solve this problem if we can store the _variable along with the class information, like Circle._perimiter and Tire._perimiter\n",
    "\n",
    "class Circle:\n",
    "    'An advanced circle analytic toolkit, dont begin with pass, start with documentation'\n",
    "\n",
    "    version = '0.5d' \n",
    "\n",
    "    def __init__(self, radius):\n",
    "        self.radius = radius\n",
    "    \n",
    "    def area(self):\n",
    "        \"\"\"Perform quadrature on a shape of uniform radius\"\"\"\n",
    "        p = self.__perimeter() # using the double underscore leads to a special renaming\n",
    "        r = p / math.pi / 2.0\n",
    "        return math.pi * r ** 2.0\n",
    "\n",
    "    def perimeter(self):\n",
    "        return 2.0 * math.pi * self.radius\n",
    "\n",
    "    __perimeter = perimeter # called \"dunder\"; not the same as a private variable! class local reference! Makes sure, self refers to the current class and not one of its children. It makes your subclasses free to overwrite any method without breaking others"
   ]
  },
  {
   "cell_type": "code",
   "execution_count": 118,
   "metadata": {},
   "outputs": [
    {
     "data": {
      "text/plain": "['_Circle__perimeter',\n '__class__',\n '__delattr__',\n '__dict__',\n '__dir__',\n '__doc__',\n '__eq__',\n '__format__',\n '__ge__',\n '__getattribute__',\n '__gt__',\n '__hash__',\n '__init__',\n '__init_subclass__',\n '__le__',\n '__lt__',\n '__module__',\n '__ne__',\n '__new__',\n '__reduce__',\n '__reduce_ex__',\n '__repr__',\n '__setattr__',\n '__sizeof__',\n '__str__',\n '__subclasshook__',\n '__weakref__',\n 'area',\n 'perimeter',\n 'version']"
     },
     "execution_count": 118,
     "metadata": {},
     "output_type": "execute_result"
    }
   ],
   "source": [
    "dir(Circle) # you wont see a __perimeter here, but a _Circle__perimeter!"
   ]
  },
  {
   "cell_type": "code",
   "execution_count": 121,
   "metadata": {},
   "outputs": [
    {
     "name": "stdout",
     "output_type": "stream",
     "text": "Tire with radius 1\nhas an area of 3.141592653589793\nBut circle with radius 1\nhas an area of 3.141592653589793\n"
    }
   ],
   "source": [
    "class Tire(Circle):\n",
    "    \"\"\"Tires are circles with a corrected perimiter\"\"\"\n",
    "\n",
    "    def perimeter(self):\n",
    "        \"Circumference corrected for the rubber\"\n",
    "        return super().perimeter() * 1.25\n",
    "\n",
    "    _perimeter = perimeter # this has no longer an effect\n",
    "    __perimeter = perimeter # and even this does not override _Circle__perimeter\n",
    "\n",
    "c = Circle(1)\n",
    "t = Tire(1)\n",
    "\n",
    "print(\"Tire with radius\", t.radius)\n",
    "print(\"has an area of\", t.area()) # and we are back!\n",
    "print(\"But circle with radius\", c.radius)\n",
    "print(\"has an area of\", c.area())"
   ]
  },
  {
   "cell_type": "code",
   "execution_count": 150,
   "metadata": {},
   "outputs": [],
   "source": [
    "# new Government request: ISO-22220\n",
    "# We insist on one \"little change\"\n",
    "# you are not allowed to store the radius\n",
    "# you must store the diameter instead!\n",
    "# Oh my god! Breaks everything...what shall we do with our radius\n",
    "\n",
    "class Circle:\n",
    "    'An advanced circle analytic toolkit'\n",
    "\n",
    "    version = '0.6'\n",
    "\n",
    "    def __init__(self, radius):\n",
    "        self.radius = radius # no longer stores the value in an instance variable, instead will call a function that is marked as setter\n",
    "    \n",
    "    # convert dotted access to method calls\n",
    "    @property # without changing any code or our API we get setters and getters so we dont have to fear to expose our attributes!\n",
    "    def radius(self):\n",
    "        'Radius of a circle'\n",
    "        return self.diameter / 2.0\n",
    "\n",
    "    @radius.setter\n",
    "    def radius(self, radius):\n",
    "        self.diameter = radius * 2.0 # self.diameter is the only instance variable here!\n",
    "\n",
    "    def area(self):\n",
    "        \"\"\"Perform quadrature on a shape of uniform radius\"\"\"\n",
    "        p = self.__perimeter() # using the double underscore leads to a special renaming\n",
    "        r = p / math.pi / 2.0\n",
    "        return math.pi * r ** 2.0\n",
    "\n",
    "    def perimeter(self):\n",
    "        return 2.0 * math.pi * self.radius # no longer access instance variable but calls the getter for radius\n",
    "\n",
    "    __perimeter = perimeter"
   ]
  },
  {
   "cell_type": "code",
   "execution_count": 128,
   "metadata": {},
   "outputs": [
    {
     "name": "stdout",
     "output_type": "stream",
     "text": "Circle of radius 1.0\nwith diameter 2.0\nhas an area of 3.141592653589793\nand perimeter of 6.283185307179586\n"
    }
   ],
   "source": [
    "c = Circle(1) # like before!\n",
    "print(\"Circle of radius\", c.radius)\n",
    "print(\"with diameter\", c.diameter)\n",
    "print(\"has an area of\", c.area())\n",
    "print(\"and perimeter of\", c.perimeter())"
   ]
  },
  {
   "cell_type": "code",
   "execution_count": 131,
   "metadata": {},
   "outputs": [
    {
     "name": "stdout",
     "output_type": "stream",
     "text": "Using Curcuituous(tm) version 0.6\nThe average area of 1000000 random circles is 1.0.\n"
    }
   ],
   "source": [
    "from random import random, seed\n",
    "\n",
    "seed(42) # reproducable results\n",
    "print(\"Using Curcuituous(tm) version\", Circle.version)\n",
    "n = int(1e6)\n",
    "circles = [Circle(random()) for _ in range(n)] # list comprehension\n",
    "avg = sum((c.area() for c in circles)) / n # generator\n",
    "print(f\"The average area of {n} random circles is {avg:.1f}.\")\n",
    "\n",
    "# every instance has a dictionary....this will eat an enormous amount of memory! Each instance is over 50 bytes just for storing the radius"
   ]
  },
  {
   "cell_type": "code",
   "execution_count": 153,
   "metadata": {},
   "outputs": [
    {
     "data": {
      "text/plain": "48"
     },
     "execution_count": 153,
     "metadata": {},
     "output_type": "execute_result"
    }
   ],
   "source": [
    "import sys\n",
    "\n",
    "c = Circle(1)\n",
    "sys.getsizeof(c) "
   ]
  },
  {
   "cell_type": "code",
   "execution_count": 152,
   "metadata": {},
   "outputs": [],
   "source": [
    "# Solutions: Slots\n",
    "# When you have many many instances, make them lightweight\n",
    "# called the flyweight design pattern\n",
    "# which supresses the instance dictionary\n",
    "# and it disallows adding arbitrary dynamic attributes\n",
    "\n",
    "class Circle:\n",
    "    'An advanced circle analytic toolkit'\n",
    "\n",
    "    __slots__ = ['diameter']\n",
    "    version = '0.7'\n",
    "\n",
    "    def __init__(self, radius):\n",
    "        self.radius = radius \n",
    "\n",
    "    @property # convert dotted access to method calls\n",
    "    def radius(self):\n",
    "        'Radius of a circle'\n",
    "        return self.diameter / 2.0\n",
    "\n",
    "    @radius.setter\n",
    "    def radius(self, radius):\n",
    "        self.diameter = radius * 2.0 # self.diameter is the only instance variable here!\n",
    "\n",
    "    def area(self):\n",
    "        \"\"\"Perform quadrature on a shape of uniform radius\"\"\"\n",
    "        p = self.__perimeter() # using the double underscore leads to a special renaming\n",
    "        r = p / math.pi / 2.0\n",
    "        return math.pi * r ** 2.0\n",
    "\n",
    "    def perimeter(self):\n",
    "        return 2.0 * math.pi * self.radius # no longer access instance variable but calls the getter for radius\n",
    "\n",
    "    __perimeter = perimeter"
   ]
  },
  {
   "cell_type": "code",
   "execution_count": 154,
   "metadata": {},
   "outputs": [
    {
     "name": "stdout",
     "output_type": "stream",
     "text": "48\n['_Circle__perimeter', '__class__', '__delattr__', '__dir__', '__doc__', '__eq__', '__format__', '__ge__', '__getattribute__', '__gt__', '__hash__', '__init__', '__init_subclass__', '__le__', '__lt__', '__module__', '__ne__', '__new__', '__reduce__', '__reduce_ex__', '__repr__', '__setattr__', '__sizeof__', '__slots__', '__str__', '__subclasshook__', 'area', 'diameter', 'perimeter', 'radius', 'version']\n"
    }
   ],
   "source": [
    "import sys\n",
    "\n",
    "c = Circle(1)\n",
    "print(sys.getsizeof(c))\n",
    "print(dir(c))"
   ]
  },
  {
   "cell_type": "code",
   "execution_count": 155,
   "metadata": {},
   "outputs": [
    {
     "ename": "AttributeError",
     "evalue": "'Circle' object has no attribute 'x'",
     "output_type": "error",
     "traceback": [
      "\u001b[1;31m---------------------------------------------------------------------------\u001b[0m",
      "\u001b[1;31mAttributeError\u001b[0m                            Traceback (most recent call last)",
      "\u001b[1;32m<ipython-input-155-4ff7f90f4605>\u001b[0m in \u001b[0;36m<module>\u001b[1;34m\u001b[0m\n\u001b[1;32m----> 1\u001b[1;33m \u001b[0mc\u001b[0m\u001b[1;33m.\u001b[0m\u001b[0mx\u001b[0m \u001b[1;33m=\u001b[0m \u001b[1;36m1\u001b[0m\u001b[1;33m\u001b[0m\u001b[1;33m\u001b[0m\u001b[0m\n\u001b[0m",
      "\u001b[1;31mAttributeError\u001b[0m: 'Circle' object has no attribute 'x'"
     ]
    }
   ],
   "source": [
    "c.x = 1"
   ]
  },
  {
   "cell_type": "markdown",
   "execution_count": null,
   "metadata": {},
   "outputs": [],
   "source": [
    "## Sumary"
   ]
  },
  {
   "cell_type": "markdown",
   "execution_count": null,
   "metadata": {},
   "outputs": [],
   "source": [
    "1. **Instance variables** (`self.radius`) for information unique to an Instance\n",
    "2. **Class variables** (`Circle.version`) for data shared among all instances\n",
    "3. **Regular methods** need `self` as first argument to operate on instance data.\n",
    "4. **Class methods** implement alternative constructors. They need `cls` so they can create subclass instances as well.\n",
    "5. **Static methods** attach functions to classes. They don't need either `self` or `cls`. Static methods improve discoverability and require context to be specified.\n",
    "6. A `@property` lets **getter and setter methods** be invoked automatically by attribute access. This allows Python classes to freely expose their instance variables.\n",
    "7. The `__slots__` variable implements the Flyweight Design Pattern by supressing instance dictionaries."
   ]
  }
 ]
}